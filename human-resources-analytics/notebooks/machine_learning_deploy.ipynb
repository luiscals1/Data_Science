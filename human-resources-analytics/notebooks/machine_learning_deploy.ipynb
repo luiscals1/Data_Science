{
 "cells": [
  {
   "cell_type": "markdown",
   "metadata": {},
   "source": [
    "## Stack - Projeto Human Resources Analytics"
   ]
  },
  {
   "cell_type": "markdown",
   "metadata": {},
   "source": [
    "### Machine Learning."
   ]
  },
  {
   "cell_type": "code",
   "execution_count": 1,
   "metadata": {},
   "outputs": [],
   "source": [
    "import pandas as pd\n",
    "import datetime\n",
    "import glob\n",
    "from minio import Minio\n",
    "import numpy as np\n",
    "import matplotlib.pyplot as plt"
   ]
  },
  {
   "cell_type": "code",
   "execution_count": 2,
   "metadata": {},
   "outputs": [],
   "source": [
    "client = Minio(\n",
    "        \"localhost:9000\",\n",
    "        access_key=\"minioadmin\",\n",
    "        secret_key=\"minioadmin\",\n",
    "        secure=False\n",
    "    )"
   ]
  },
  {
   "cell_type": "markdown",
   "metadata": {},
   "source": [
    "### Baixando o Dataset do Data Lake."
   ]
  },
  {
   "cell_type": "code",
   "execution_count": 3,
   "metadata": {},
   "outputs": [],
   "source": [
    "client.fget_object(\n",
    "            \"processing\",\n",
    "            \"employees_dataset.parquet\",\n",
    "            \"temp_.parquet\",\n",
    ")\n",
    "df = pd.read_parquet(\"temp_.parquet\")"
   ]
  },
  {
   "cell_type": "code",
   "execution_count": 4,
   "metadata": {
    "scrolled": true
   },
   "outputs": [
    {
     "data": {
      "text/html": [
       "<div>\n",
       "<style scoped>\n",
       "    .dataframe tbody tr th:only-of-type {\n",
       "        vertical-align: middle;\n",
       "    }\n",
       "\n",
       "    .dataframe tbody tr th {\n",
       "        vertical-align: top;\n",
       "    }\n",
       "\n",
       "    .dataframe thead th {\n",
       "        text-align: right;\n",
       "    }\n",
       "</style>\n",
       "<table border=\"1\" class=\"dataframe\">\n",
       "  <thead>\n",
       "    <tr style=\"text-align: right;\">\n",
       "      <th></th>\n",
       "      <th>department</th>\n",
       "      <th>salary</th>\n",
       "      <th>left</th>\n",
       "      <th>mean_work_last_3_months</th>\n",
       "      <th>number_projects</th>\n",
       "      <th>satisfaction_level</th>\n",
       "      <th>last_evaluation</th>\n",
       "      <th>time_in_company</th>\n",
       "      <th>work_accident</th>\n",
       "    </tr>\n",
       "  </thead>\n",
       "  <tbody>\n",
       "    <tr>\n",
       "      <th>0</th>\n",
       "      <td>sales</td>\n",
       "      <td>low</td>\n",
       "      <td>1.0</td>\n",
       "      <td>266.000000</td>\n",
       "      <td>2.0</td>\n",
       "      <td>38.0</td>\n",
       "      <td>53.0</td>\n",
       "      <td>3.0</td>\n",
       "      <td>0.0</td>\n",
       "    </tr>\n",
       "    <tr>\n",
       "      <th>1</th>\n",
       "      <td>sales</td>\n",
       "      <td>medium</td>\n",
       "      <td>1.0</td>\n",
       "      <td>252.000000</td>\n",
       "      <td>5.0</td>\n",
       "      <td>80.0</td>\n",
       "      <td>86.0</td>\n",
       "      <td>6.0</td>\n",
       "      <td>0.0</td>\n",
       "    </tr>\n",
       "    <tr>\n",
       "      <th>2</th>\n",
       "      <td>sales</td>\n",
       "      <td>medium</td>\n",
       "      <td>1.0</td>\n",
       "      <td>289.666667</td>\n",
       "      <td>7.0</td>\n",
       "      <td>11.0</td>\n",
       "      <td>88.0</td>\n",
       "      <td>4.0</td>\n",
       "      <td>0.0</td>\n",
       "    </tr>\n",
       "    <tr>\n",
       "      <th>3</th>\n",
       "      <td>sales</td>\n",
       "      <td>low</td>\n",
       "      <td>1.0</td>\n",
       "      <td>275.666667</td>\n",
       "      <td>5.0</td>\n",
       "      <td>72.0</td>\n",
       "      <td>87.0</td>\n",
       "      <td>5.0</td>\n",
       "      <td>0.0</td>\n",
       "    </tr>\n",
       "    <tr>\n",
       "      <th>4</th>\n",
       "      <td>sales</td>\n",
       "      <td>low</td>\n",
       "      <td>1.0</td>\n",
       "      <td>292.333333</td>\n",
       "      <td>2.0</td>\n",
       "      <td>37.0</td>\n",
       "      <td>52.0</td>\n",
       "      <td>3.0</td>\n",
       "      <td>0.0</td>\n",
       "    </tr>\n",
       "  </tbody>\n",
       "</table>\n",
       "</div>"
      ],
      "text/plain": [
       "  department  salary  left  mean_work_last_3_months  number_projects  \\\n",
       "0      sales     low   1.0               266.000000              2.0   \n",
       "1      sales  medium   1.0               252.000000              5.0   \n",
       "2      sales  medium   1.0               289.666667              7.0   \n",
       "3      sales     low   1.0               275.666667              5.0   \n",
       "4      sales     low   1.0               292.333333              2.0   \n",
       "\n",
       "   satisfaction_level  last_evaluation  time_in_company  work_accident  \n",
       "0                38.0             53.0              3.0            0.0  \n",
       "1                80.0             86.0              6.0            0.0  \n",
       "2                11.0             88.0              4.0            0.0  \n",
       "3                72.0             87.0              5.0            0.0  \n",
       "4                37.0             52.0              3.0            0.0  "
      ]
     },
     "execution_count": 4,
     "metadata": {},
     "output_type": "execute_result"
    }
   ],
   "source": [
    "df.head()"
   ]
  },
  {
   "cell_type": "markdown",
   "metadata": {},
   "source": [
    "#### Organizando o dataset."
   ]
  },
  {
   "cell_type": "code",
   "execution_count": 5,
   "metadata": {},
   "outputs": [],
   "source": [
    "df = df[['department', 'salary', 'mean_work_last_3_months',\n",
    "       'number_projects', 'satisfaction_level', 'last_evaluation',\n",
    "       'time_in_company', 'work_accident','left']]"
   ]
  },
  {
   "cell_type": "code",
   "execution_count": 6,
   "metadata": {
    "scrolled": true
   },
   "outputs": [
    {
     "data": {
      "text/html": [
       "<div>\n",
       "<style scoped>\n",
       "    .dataframe tbody tr th:only-of-type {\n",
       "        vertical-align: middle;\n",
       "    }\n",
       "\n",
       "    .dataframe tbody tr th {\n",
       "        vertical-align: top;\n",
       "    }\n",
       "\n",
       "    .dataframe thead th {\n",
       "        text-align: right;\n",
       "    }\n",
       "</style>\n",
       "<table border=\"1\" class=\"dataframe\">\n",
       "  <thead>\n",
       "    <tr style=\"text-align: right;\">\n",
       "      <th></th>\n",
       "      <th>department</th>\n",
       "      <th>salary</th>\n",
       "      <th>mean_work_last_3_months</th>\n",
       "      <th>number_projects</th>\n",
       "      <th>satisfaction_level</th>\n",
       "      <th>last_evaluation</th>\n",
       "      <th>time_in_company</th>\n",
       "      <th>work_accident</th>\n",
       "      <th>left</th>\n",
       "    </tr>\n",
       "  </thead>\n",
       "  <tbody>\n",
       "    <tr>\n",
       "      <th>0</th>\n",
       "      <td>sales</td>\n",
       "      <td>low</td>\n",
       "      <td>266.000000</td>\n",
       "      <td>2.0</td>\n",
       "      <td>38.0</td>\n",
       "      <td>53.0</td>\n",
       "      <td>3.0</td>\n",
       "      <td>0.0</td>\n",
       "      <td>1.0</td>\n",
       "    </tr>\n",
       "    <tr>\n",
       "      <th>1</th>\n",
       "      <td>sales</td>\n",
       "      <td>medium</td>\n",
       "      <td>252.000000</td>\n",
       "      <td>5.0</td>\n",
       "      <td>80.0</td>\n",
       "      <td>86.0</td>\n",
       "      <td>6.0</td>\n",
       "      <td>0.0</td>\n",
       "      <td>1.0</td>\n",
       "    </tr>\n",
       "    <tr>\n",
       "      <th>2</th>\n",
       "      <td>sales</td>\n",
       "      <td>medium</td>\n",
       "      <td>289.666667</td>\n",
       "      <td>7.0</td>\n",
       "      <td>11.0</td>\n",
       "      <td>88.0</td>\n",
       "      <td>4.0</td>\n",
       "      <td>0.0</td>\n",
       "      <td>1.0</td>\n",
       "    </tr>\n",
       "    <tr>\n",
       "      <th>3</th>\n",
       "      <td>sales</td>\n",
       "      <td>low</td>\n",
       "      <td>275.666667</td>\n",
       "      <td>5.0</td>\n",
       "      <td>72.0</td>\n",
       "      <td>87.0</td>\n",
       "      <td>5.0</td>\n",
       "      <td>0.0</td>\n",
       "      <td>1.0</td>\n",
       "    </tr>\n",
       "    <tr>\n",
       "      <th>4</th>\n",
       "      <td>sales</td>\n",
       "      <td>low</td>\n",
       "      <td>292.333333</td>\n",
       "      <td>2.0</td>\n",
       "      <td>37.0</td>\n",
       "      <td>52.0</td>\n",
       "      <td>3.0</td>\n",
       "      <td>0.0</td>\n",
       "      <td>1.0</td>\n",
       "    </tr>\n",
       "  </tbody>\n",
       "</table>\n",
       "</div>"
      ],
      "text/plain": [
       "  department  salary  mean_work_last_3_months  number_projects  \\\n",
       "0      sales     low               266.000000              2.0   \n",
       "1      sales  medium               252.000000              5.0   \n",
       "2      sales  medium               289.666667              7.0   \n",
       "3      sales     low               275.666667              5.0   \n",
       "4      sales     low               292.333333              2.0   \n",
       "\n",
       "   satisfaction_level  last_evaluation  time_in_company  work_accident  left  \n",
       "0                38.0             53.0              3.0            0.0   1.0  \n",
       "1                80.0             86.0              6.0            0.0   1.0  \n",
       "2                11.0             88.0              4.0            0.0   1.0  \n",
       "3                72.0             87.0              5.0            0.0   1.0  \n",
       "4                37.0             52.0              3.0            0.0   1.0  "
      ]
     },
     "execution_count": 6,
     "metadata": {},
     "output_type": "execute_result"
    }
   ],
   "source": [
    "df.head()"
   ]
  },
  {
   "cell_type": "markdown",
   "metadata": {},
   "source": [
    "#### Verificando os registros missing."
   ]
  },
  {
   "cell_type": "code",
   "execution_count": 7,
   "metadata": {},
   "outputs": [
    {
     "data": {
      "text/plain": [
       "department                 1\n",
       "salary                     1\n",
       "mean_work_last_3_months    0\n",
       "number_projects            1\n",
       "satisfaction_level         1\n",
       "last_evaluation            1\n",
       "time_in_company            1\n",
       "work_accident              1\n",
       "left                       1\n",
       "dtype: int64"
      ]
     },
     "execution_count": 7,
     "metadata": {},
     "output_type": "execute_result"
    }
   ],
   "source": [
    "df.isnull().sum()"
   ]
  },
  {
   "cell_type": "code",
   "execution_count": 8,
   "metadata": {},
   "outputs": [
    {
     "data": {
      "text/html": [
       "<div>\n",
       "<style scoped>\n",
       "    .dataframe tbody tr th:only-of-type {\n",
       "        vertical-align: middle;\n",
       "    }\n",
       "\n",
       "    .dataframe tbody tr th {\n",
       "        vertical-align: top;\n",
       "    }\n",
       "\n",
       "    .dataframe thead th {\n",
       "        text-align: right;\n",
       "    }\n",
       "</style>\n",
       "<table border=\"1\" class=\"dataframe\">\n",
       "  <thead>\n",
       "    <tr style=\"text-align: right;\">\n",
       "      <th></th>\n",
       "      <th>department</th>\n",
       "      <th>salary</th>\n",
       "      <th>mean_work_last_3_months</th>\n",
       "      <th>number_projects</th>\n",
       "      <th>satisfaction_level</th>\n",
       "      <th>last_evaluation</th>\n",
       "      <th>time_in_company</th>\n",
       "      <th>work_accident</th>\n",
       "      <th>left</th>\n",
       "    </tr>\n",
       "  </thead>\n",
       "  <tbody>\n",
       "    <tr>\n",
       "      <th>0</th>\n",
       "      <td>sales</td>\n",
       "      <td>low</td>\n",
       "      <td>266.000000</td>\n",
       "      <td>2.0</td>\n",
       "      <td>38.0</td>\n",
       "      <td>53.0</td>\n",
       "      <td>3.0</td>\n",
       "      <td>0.0</td>\n",
       "      <td>1.0</td>\n",
       "    </tr>\n",
       "    <tr>\n",
       "      <th>1</th>\n",
       "      <td>sales</td>\n",
       "      <td>medium</td>\n",
       "      <td>252.000000</td>\n",
       "      <td>5.0</td>\n",
       "      <td>80.0</td>\n",
       "      <td>86.0</td>\n",
       "      <td>6.0</td>\n",
       "      <td>0.0</td>\n",
       "      <td>1.0</td>\n",
       "    </tr>\n",
       "    <tr>\n",
       "      <th>2</th>\n",
       "      <td>sales</td>\n",
       "      <td>medium</td>\n",
       "      <td>289.666667</td>\n",
       "      <td>7.0</td>\n",
       "      <td>11.0</td>\n",
       "      <td>88.0</td>\n",
       "      <td>4.0</td>\n",
       "      <td>0.0</td>\n",
       "      <td>1.0</td>\n",
       "    </tr>\n",
       "    <tr>\n",
       "      <th>3</th>\n",
       "      <td>sales</td>\n",
       "      <td>low</td>\n",
       "      <td>275.666667</td>\n",
       "      <td>5.0</td>\n",
       "      <td>72.0</td>\n",
       "      <td>87.0</td>\n",
       "      <td>5.0</td>\n",
       "      <td>0.0</td>\n",
       "      <td>1.0</td>\n",
       "    </tr>\n",
       "    <tr>\n",
       "      <th>4</th>\n",
       "      <td>sales</td>\n",
       "      <td>low</td>\n",
       "      <td>292.333333</td>\n",
       "      <td>2.0</td>\n",
       "      <td>37.0</td>\n",
       "      <td>52.0</td>\n",
       "      <td>3.0</td>\n",
       "      <td>0.0</td>\n",
       "      <td>1.0</td>\n",
       "    </tr>\n",
       "    <tr>\n",
       "      <th>...</th>\n",
       "      <td>...</td>\n",
       "      <td>...</td>\n",
       "      <td>...</td>\n",
       "      <td>...</td>\n",
       "      <td>...</td>\n",
       "      <td>...</td>\n",
       "      <td>...</td>\n",
       "      <td>...</td>\n",
       "      <td>...</td>\n",
       "    </tr>\n",
       "    <tr>\n",
       "      <th>14995</th>\n",
       "      <td>technical</td>\n",
       "      <td>low</td>\n",
       "      <td>253.333333</td>\n",
       "      <td>2.0</td>\n",
       "      <td>37.0</td>\n",
       "      <td>48.0</td>\n",
       "      <td>3.0</td>\n",
       "      <td>0.0</td>\n",
       "      <td>1.0</td>\n",
       "    </tr>\n",
       "    <tr>\n",
       "      <th>14996</th>\n",
       "      <td>technical</td>\n",
       "      <td>medium</td>\n",
       "      <td>288.000000</td>\n",
       "      <td>2.0</td>\n",
       "      <td>37.0</td>\n",
       "      <td>53.0</td>\n",
       "      <td>3.0</td>\n",
       "      <td>0.0</td>\n",
       "      <td>1.0</td>\n",
       "    </tr>\n",
       "    <tr>\n",
       "      <th>14997</th>\n",
       "      <td>support</td>\n",
       "      <td>low</td>\n",
       "      <td>272.000000</td>\n",
       "      <td>6.0</td>\n",
       "      <td>11.0</td>\n",
       "      <td>96.0</td>\n",
       "      <td>4.0</td>\n",
       "      <td>0.0</td>\n",
       "      <td>1.0</td>\n",
       "    </tr>\n",
       "    <tr>\n",
       "      <th>14998</th>\n",
       "      <td>support</td>\n",
       "      <td>low</td>\n",
       "      <td>276.666667</td>\n",
       "      <td>2.0</td>\n",
       "      <td>37.0</td>\n",
       "      <td>52.0</td>\n",
       "      <td>3.0</td>\n",
       "      <td>0.0</td>\n",
       "      <td>1.0</td>\n",
       "    </tr>\n",
       "    <tr>\n",
       "      <th>14999</th>\n",
       "      <td>NaN</td>\n",
       "      <td>NaN</td>\n",
       "      <td>261.000000</td>\n",
       "      <td>NaN</td>\n",
       "      <td>NaN</td>\n",
       "      <td>NaN</td>\n",
       "      <td>NaN</td>\n",
       "      <td>NaN</td>\n",
       "      <td>NaN</td>\n",
       "    </tr>\n",
       "  </tbody>\n",
       "</table>\n",
       "<p>15000 rows × 9 columns</p>\n",
       "</div>"
      ],
      "text/plain": [
       "      department  salary  mean_work_last_3_months  number_projects  \\\n",
       "0          sales     low               266.000000              2.0   \n",
       "1          sales  medium               252.000000              5.0   \n",
       "2          sales  medium               289.666667              7.0   \n",
       "3          sales     low               275.666667              5.0   \n",
       "4          sales     low               292.333333              2.0   \n",
       "...          ...     ...                      ...              ...   \n",
       "14995  technical     low               253.333333              2.0   \n",
       "14996  technical  medium               288.000000              2.0   \n",
       "14997    support     low               272.000000              6.0   \n",
       "14998    support     low               276.666667              2.0   \n",
       "14999        NaN     NaN               261.000000              NaN   \n",
       "\n",
       "       satisfaction_level  last_evaluation  time_in_company  work_accident  \\\n",
       "0                    38.0             53.0              3.0            0.0   \n",
       "1                    80.0             86.0              6.0            0.0   \n",
       "2                    11.0             88.0              4.0            0.0   \n",
       "3                    72.0             87.0              5.0            0.0   \n",
       "4                    37.0             52.0              3.0            0.0   \n",
       "...                   ...              ...              ...            ...   \n",
       "14995                37.0             48.0              3.0            0.0   \n",
       "14996                37.0             53.0              3.0            0.0   \n",
       "14997                11.0             96.0              4.0            0.0   \n",
       "14998                37.0             52.0              3.0            0.0   \n",
       "14999                 NaN              NaN              NaN            NaN   \n",
       "\n",
       "       left  \n",
       "0       1.0  \n",
       "1       1.0  \n",
       "2       1.0  \n",
       "3       1.0  \n",
       "4       1.0  \n",
       "...     ...  \n",
       "14995   1.0  \n",
       "14996   1.0  \n",
       "14997   1.0  \n",
       "14998   1.0  \n",
       "14999   NaN  \n",
       "\n",
       "[15000 rows x 9 columns]"
      ]
     },
     "execution_count": 8,
     "metadata": {},
     "output_type": "execute_result"
    }
   ],
   "source": [
    "df[df.notnull()]"
   ]
  },
  {
   "cell_type": "code",
   "execution_count": 9,
   "metadata": {},
   "outputs": [],
   "source": [
    "df = df[:14998]"
   ]
  },
  {
   "cell_type": "markdown",
   "metadata": {},
   "source": [
    "#### Alterando os tipos de dados."
   ]
  },
  {
   "cell_type": "code",
   "execution_count": 10,
   "metadata": {},
   "outputs": [],
   "source": [
    "df[\"number_projects\"] = df[\"number_projects\"].astype(int)\n",
    "df[\"mean_work_last_3_months\"] = df[\"mean_work_last_3_months\"].astype(int)\n",
    "df[\"time_in_company\"] = df[\"time_in_company\"].astype(int)\n",
    "df[\"work_accident\"] = df[\"work_accident\"].astype(int)\n",
    "df[\"left\"] = df[\"left\"].astype(int)"
   ]
  },
  {
   "cell_type": "code",
   "execution_count": 11,
   "metadata": {},
   "outputs": [
    {
     "name": "stdout",
     "output_type": "stream",
     "text": [
      "<class 'pandas.core.frame.DataFrame'>\n",
      "RangeIndex: 14998 entries, 0 to 14997\n",
      "Data columns (total 9 columns):\n",
      " #   Column                   Non-Null Count  Dtype  \n",
      "---  ------                   --------------  -----  \n",
      " 0   department               14998 non-null  object \n",
      " 1   salary                   14998 non-null  object \n",
      " 2   mean_work_last_3_months  14998 non-null  int32  \n",
      " 3   number_projects          14998 non-null  int32  \n",
      " 4   satisfaction_level       14998 non-null  float64\n",
      " 5   last_evaluation          14998 non-null  float64\n",
      " 6   time_in_company          14998 non-null  int32  \n",
      " 7   work_accident            14998 non-null  int32  \n",
      " 8   left                     14998 non-null  int32  \n",
      "dtypes: float64(2), int32(5), object(2)\n",
      "memory usage: 761.7+ KB\n"
     ]
    }
   ],
   "source": [
    "df.info()"
   ]
  },
  {
   "cell_type": "code",
   "execution_count": 12,
   "metadata": {},
   "outputs": [
    {
     "data": {
      "text/html": [
       "<div>\n",
       "<style scoped>\n",
       "    .dataframe tbody tr th:only-of-type {\n",
       "        vertical-align: middle;\n",
       "    }\n",
       "\n",
       "    .dataframe tbody tr th {\n",
       "        vertical-align: top;\n",
       "    }\n",
       "\n",
       "    .dataframe thead th {\n",
       "        text-align: right;\n",
       "    }\n",
       "</style>\n",
       "<table border=\"1\" class=\"dataframe\">\n",
       "  <thead>\n",
       "    <tr style=\"text-align: right;\">\n",
       "      <th></th>\n",
       "      <th>department</th>\n",
       "      <th>salary</th>\n",
       "      <th>mean_work_last_3_months</th>\n",
       "      <th>number_projects</th>\n",
       "      <th>satisfaction_level</th>\n",
       "      <th>last_evaluation</th>\n",
       "      <th>time_in_company</th>\n",
       "      <th>work_accident</th>\n",
       "      <th>left</th>\n",
       "    </tr>\n",
       "  </thead>\n",
       "  <tbody>\n",
       "    <tr>\n",
       "      <th>0</th>\n",
       "      <td>sales</td>\n",
       "      <td>low</td>\n",
       "      <td>266</td>\n",
       "      <td>2</td>\n",
       "      <td>38.0</td>\n",
       "      <td>53.0</td>\n",
       "      <td>3</td>\n",
       "      <td>0</td>\n",
       "      <td>1</td>\n",
       "    </tr>\n",
       "    <tr>\n",
       "      <th>1</th>\n",
       "      <td>sales</td>\n",
       "      <td>medium</td>\n",
       "      <td>252</td>\n",
       "      <td>5</td>\n",
       "      <td>80.0</td>\n",
       "      <td>86.0</td>\n",
       "      <td>6</td>\n",
       "      <td>0</td>\n",
       "      <td>1</td>\n",
       "    </tr>\n",
       "    <tr>\n",
       "      <th>2</th>\n",
       "      <td>sales</td>\n",
       "      <td>medium</td>\n",
       "      <td>289</td>\n",
       "      <td>7</td>\n",
       "      <td>11.0</td>\n",
       "      <td>88.0</td>\n",
       "      <td>4</td>\n",
       "      <td>0</td>\n",
       "      <td>1</td>\n",
       "    </tr>\n",
       "    <tr>\n",
       "      <th>3</th>\n",
       "      <td>sales</td>\n",
       "      <td>low</td>\n",
       "      <td>275</td>\n",
       "      <td>5</td>\n",
       "      <td>72.0</td>\n",
       "      <td>87.0</td>\n",
       "      <td>5</td>\n",
       "      <td>0</td>\n",
       "      <td>1</td>\n",
       "    </tr>\n",
       "    <tr>\n",
       "      <th>4</th>\n",
       "      <td>sales</td>\n",
       "      <td>low</td>\n",
       "      <td>292</td>\n",
       "      <td>2</td>\n",
       "      <td>37.0</td>\n",
       "      <td>52.0</td>\n",
       "      <td>3</td>\n",
       "      <td>0</td>\n",
       "      <td>1</td>\n",
       "    </tr>\n",
       "  </tbody>\n",
       "</table>\n",
       "</div>"
      ],
      "text/plain": [
       "  department  salary  mean_work_last_3_months  number_projects  \\\n",
       "0      sales     low                      266                2   \n",
       "1      sales  medium                      252                5   \n",
       "2      sales  medium                      289                7   \n",
       "3      sales     low                      275                5   \n",
       "4      sales     low                      292                2   \n",
       "\n",
       "   satisfaction_level  last_evaluation  time_in_company  work_accident  left  \n",
       "0                38.0             53.0                3              0     1  \n",
       "1                80.0             86.0                6              0     1  \n",
       "2                11.0             88.0                4              0     1  \n",
       "3                72.0             87.0                5              0     1  \n",
       "4                37.0             52.0                3              0     1  "
      ]
     },
     "execution_count": 12,
     "metadata": {},
     "output_type": "execute_result"
    }
   ],
   "source": [
    "df.head()"
   ]
  },
  {
   "cell_type": "code",
   "execution_count": 13,
   "metadata": {},
   "outputs": [],
   "source": [
    "df = df[:14998]"
   ]
  },
  {
   "cell_type": "markdown",
   "metadata": {},
   "source": [
    "#### Renomeando atributos"
   ]
  },
  {
   "cell_type": "code",
   "execution_count": 14,
   "metadata": {},
   "outputs": [],
   "source": [
    "df = df.rename(columns={'satisfaction_level': 'satisfaction', \n",
    "                        'last_evaluation': 'evaluation',\n",
    "                        'number_projects': 'projectCount',\n",
    "                        'mean_work_last_3_months': 'averageMonthlyHours',\n",
    "                        'time_in_company': 'yearsAtCompany',\n",
    "                        'work_accident': 'workAccident',\n",
    "                        'left' : 'turnover'\n",
    "                        })"
   ]
  },
  {
   "cell_type": "code",
   "execution_count": 15,
   "metadata": {
    "scrolled": true
   },
   "outputs": [
    {
     "data": {
      "text/html": [
       "<div>\n",
       "<style scoped>\n",
       "    .dataframe tbody tr th:only-of-type {\n",
       "        vertical-align: middle;\n",
       "    }\n",
       "\n",
       "    .dataframe tbody tr th {\n",
       "        vertical-align: top;\n",
       "    }\n",
       "\n",
       "    .dataframe thead th {\n",
       "        text-align: right;\n",
       "    }\n",
       "</style>\n",
       "<table border=\"1\" class=\"dataframe\">\n",
       "  <thead>\n",
       "    <tr style=\"text-align: right;\">\n",
       "      <th></th>\n",
       "      <th>department</th>\n",
       "      <th>salary</th>\n",
       "      <th>averageMonthlyHours</th>\n",
       "      <th>projectCount</th>\n",
       "      <th>satisfaction</th>\n",
       "      <th>evaluation</th>\n",
       "      <th>yearsAtCompany</th>\n",
       "      <th>workAccident</th>\n",
       "      <th>turnover</th>\n",
       "    </tr>\n",
       "  </thead>\n",
       "  <tbody>\n",
       "    <tr>\n",
       "      <th>0</th>\n",
       "      <td>sales</td>\n",
       "      <td>low</td>\n",
       "      <td>266</td>\n",
       "      <td>2</td>\n",
       "      <td>38.0</td>\n",
       "      <td>53.0</td>\n",
       "      <td>3</td>\n",
       "      <td>0</td>\n",
       "      <td>1</td>\n",
       "    </tr>\n",
       "    <tr>\n",
       "      <th>1</th>\n",
       "      <td>sales</td>\n",
       "      <td>medium</td>\n",
       "      <td>252</td>\n",
       "      <td>5</td>\n",
       "      <td>80.0</td>\n",
       "      <td>86.0</td>\n",
       "      <td>6</td>\n",
       "      <td>0</td>\n",
       "      <td>1</td>\n",
       "    </tr>\n",
       "    <tr>\n",
       "      <th>2</th>\n",
       "      <td>sales</td>\n",
       "      <td>medium</td>\n",
       "      <td>289</td>\n",
       "      <td>7</td>\n",
       "      <td>11.0</td>\n",
       "      <td>88.0</td>\n",
       "      <td>4</td>\n",
       "      <td>0</td>\n",
       "      <td>1</td>\n",
       "    </tr>\n",
       "    <tr>\n",
       "      <th>3</th>\n",
       "      <td>sales</td>\n",
       "      <td>low</td>\n",
       "      <td>275</td>\n",
       "      <td>5</td>\n",
       "      <td>72.0</td>\n",
       "      <td>87.0</td>\n",
       "      <td>5</td>\n",
       "      <td>0</td>\n",
       "      <td>1</td>\n",
       "    </tr>\n",
       "    <tr>\n",
       "      <th>4</th>\n",
       "      <td>sales</td>\n",
       "      <td>low</td>\n",
       "      <td>292</td>\n",
       "      <td>2</td>\n",
       "      <td>37.0</td>\n",
       "      <td>52.0</td>\n",
       "      <td>3</td>\n",
       "      <td>0</td>\n",
       "      <td>1</td>\n",
       "    </tr>\n",
       "  </tbody>\n",
       "</table>\n",
       "</div>"
      ],
      "text/plain": [
       "  department  salary  averageMonthlyHours  projectCount  satisfaction  \\\n",
       "0      sales     low                  266             2          38.0   \n",
       "1      sales  medium                  252             5          80.0   \n",
       "2      sales  medium                  289             7          11.0   \n",
       "3      sales     low                  275             5          72.0   \n",
       "4      sales     low                  292             2          37.0   \n",
       "\n",
       "   evaluation  yearsAtCompany  workAccident  turnover  \n",
       "0        53.0               3             0         1  \n",
       "1        86.0               6             0         1  \n",
       "2        88.0               4             0         1  \n",
       "3        87.0               5             0         1  \n",
       "4        52.0               3             0         1  "
      ]
     },
     "execution_count": 15,
     "metadata": {},
     "output_type": "execute_result"
    }
   ],
   "source": [
    "df.head()"
   ]
  },
  {
   "cell_type": "markdown",
   "metadata": {},
   "source": [
    "###  Importancia de Features"
   ]
  },
  {
   "cell_type": "markdown",
   "metadata": {},
   "source": [
    "#### Converte os atributos categoricos valores numéricos."
   ]
  },
  {
   "cell_type": "code",
   "execution_count": 16,
   "metadata": {},
   "outputs": [],
   "source": [
    "df[\"department\"] = df[\"department\"].astype('category').cat.codes\n",
    "df[\"salary\"] = df[\"salary\"].astype('category').cat.codes"
   ]
  },
  {
   "cell_type": "code",
   "execution_count": 17,
   "metadata": {},
   "outputs": [
    {
     "data": {
      "text/html": [
       "<div>\n",
       "<style scoped>\n",
       "    .dataframe tbody tr th:only-of-type {\n",
       "        vertical-align: middle;\n",
       "    }\n",
       "\n",
       "    .dataframe tbody tr th {\n",
       "        vertical-align: top;\n",
       "    }\n",
       "\n",
       "    .dataframe thead th {\n",
       "        text-align: right;\n",
       "    }\n",
       "</style>\n",
       "<table border=\"1\" class=\"dataframe\">\n",
       "  <thead>\n",
       "    <tr style=\"text-align: right;\">\n",
       "      <th></th>\n",
       "      <th>department</th>\n",
       "      <th>salary</th>\n",
       "      <th>averageMonthlyHours</th>\n",
       "      <th>projectCount</th>\n",
       "      <th>satisfaction</th>\n",
       "      <th>evaluation</th>\n",
       "      <th>yearsAtCompany</th>\n",
       "      <th>workAccident</th>\n",
       "      <th>turnover</th>\n",
       "    </tr>\n",
       "  </thead>\n",
       "  <tbody>\n",
       "    <tr>\n",
       "      <th>0</th>\n",
       "      <td>7</td>\n",
       "      <td>1</td>\n",
       "      <td>266</td>\n",
       "      <td>2</td>\n",
       "      <td>38.0</td>\n",
       "      <td>53.0</td>\n",
       "      <td>3</td>\n",
       "      <td>0</td>\n",
       "      <td>1</td>\n",
       "    </tr>\n",
       "    <tr>\n",
       "      <th>1</th>\n",
       "      <td>7</td>\n",
       "      <td>2</td>\n",
       "      <td>252</td>\n",
       "      <td>5</td>\n",
       "      <td>80.0</td>\n",
       "      <td>86.0</td>\n",
       "      <td>6</td>\n",
       "      <td>0</td>\n",
       "      <td>1</td>\n",
       "    </tr>\n",
       "    <tr>\n",
       "      <th>2</th>\n",
       "      <td>7</td>\n",
       "      <td>2</td>\n",
       "      <td>289</td>\n",
       "      <td>7</td>\n",
       "      <td>11.0</td>\n",
       "      <td>88.0</td>\n",
       "      <td>4</td>\n",
       "      <td>0</td>\n",
       "      <td>1</td>\n",
       "    </tr>\n",
       "    <tr>\n",
       "      <th>3</th>\n",
       "      <td>7</td>\n",
       "      <td>1</td>\n",
       "      <td>275</td>\n",
       "      <td>5</td>\n",
       "      <td>72.0</td>\n",
       "      <td>87.0</td>\n",
       "      <td>5</td>\n",
       "      <td>0</td>\n",
       "      <td>1</td>\n",
       "    </tr>\n",
       "    <tr>\n",
       "      <th>4</th>\n",
       "      <td>7</td>\n",
       "      <td>1</td>\n",
       "      <td>292</td>\n",
       "      <td>2</td>\n",
       "      <td>37.0</td>\n",
       "      <td>52.0</td>\n",
       "      <td>3</td>\n",
       "      <td>0</td>\n",
       "      <td>1</td>\n",
       "    </tr>\n",
       "  </tbody>\n",
       "</table>\n",
       "</div>"
      ],
      "text/plain": [
       "   department  salary  averageMonthlyHours  projectCount  satisfaction  \\\n",
       "0           7       1                  266             2          38.0   \n",
       "1           7       2                  252             5          80.0   \n",
       "2           7       2                  289             7          11.0   \n",
       "3           7       1                  275             5          72.0   \n",
       "4           7       1                  292             2          37.0   \n",
       "\n",
       "   evaluation  yearsAtCompany  workAccident  turnover  \n",
       "0        53.0               3             0         1  \n",
       "1        86.0               6             0         1  \n",
       "2        88.0               4             0         1  \n",
       "3        87.0               5             0         1  \n",
       "4        52.0               3             0         1  "
      ]
     },
     "execution_count": 17,
     "metadata": {},
     "output_type": "execute_result"
    }
   ],
   "source": [
    "df.head()"
   ]
  },
  {
   "cell_type": "markdown",
   "metadata": {},
   "source": [
    "#### Separando os conjuntos de dados."
   ]
  },
  {
   "cell_type": "code",
   "execution_count": 18,
   "metadata": {},
   "outputs": [],
   "source": [
    "target_name = 'turnover'\n",
    "X = df.drop('turnover', axis=1)\n",
    "y = df[target_name]"
   ]
  },
  {
   "cell_type": "markdown",
   "metadata": {},
   "source": [
    "#### Transformando os dados."
   ]
  },
  {
   "cell_type": "code",
   "execution_count": 19,
   "metadata": {},
   "outputs": [],
   "source": [
    "from sklearn.preprocessing import MinMaxScaler"
   ]
  },
  {
   "cell_type": "code",
   "execution_count": 20,
   "metadata": {},
   "outputs": [],
   "source": [
    "scaler = MinMaxScaler()"
   ]
  },
  {
   "cell_type": "code",
   "execution_count": 21,
   "metadata": {},
   "outputs": [],
   "source": [
    "X = scaler.fit_transform(X)"
   ]
  },
  {
   "cell_type": "code",
   "execution_count": 22,
   "metadata": {},
   "outputs": [
    {
     "data": {
      "text/plain": [
       "array([[0.77777778, 0.5       , 0.38202247, ..., 0.265625  , 0.125     ,\n",
       "        0.        ],\n",
       "       [0.77777778, 1.        , 0.2247191 , ..., 0.78125   , 0.5       ,\n",
       "        0.        ],\n",
       "       [0.77777778, 1.        , 0.64044944, ..., 0.8125    , 0.25      ,\n",
       "        0.        ],\n",
       "       ...,\n",
       "       [1.        , 0.5       , 0.23595506, ..., 0.1875    , 0.125     ,\n",
       "        0.        ],\n",
       "       [1.        , 1.        , 0.62921348, ..., 0.265625  , 0.125     ,\n",
       "        0.        ],\n",
       "       [0.88888889, 0.5       , 0.4494382 , ..., 0.9375    , 0.25      ,\n",
       "        0.        ]])"
      ]
     },
     "execution_count": 22,
     "metadata": {},
     "output_type": "execute_result"
    }
   ],
   "source": [
    "X"
   ]
  },
  {
   "cell_type": "markdown",
   "metadata": {},
   "source": [
    "#### Separando os conjuntos."
   ]
  },
  {
   "cell_type": "code",
   "execution_count": 23,
   "metadata": {},
   "outputs": [],
   "source": [
    "from sklearn.model_selection import train_test_split"
   ]
  },
  {
   "cell_type": "code",
   "execution_count": 24,
   "metadata": {},
   "outputs": [],
   "source": [
    "X_train, X_test, y_train, y_test = train_test_split(\n",
    "        X\n",
    "       ,y\n",
    "       ,test_size = 0.2\n",
    "       ,random_state = 123\n",
    "       ,stratify = y\n",
    ")"
   ]
  },
  {
   "cell_type": "markdown",
   "metadata": {},
   "source": [
    "#### Treinando o algoritmo de arvore de decisão."
   ]
  },
  {
   "cell_type": "code",
   "execution_count": 25,
   "metadata": {},
   "outputs": [],
   "source": [
    "from sklearn.tree import DecisionTreeClassifier"
   ]
  },
  {
   "cell_type": "code",
   "execution_count": 26,
   "metadata": {},
   "outputs": [],
   "source": [
    "dtree = DecisionTreeClassifier()\n",
    "dtree = dtree.fit(X_train,y_train)"
   ]
  },
  {
   "cell_type": "code",
   "execution_count": 27,
   "metadata": {},
   "outputs": [],
   "source": [
    "importances = dtree.feature_importances_\n",
    "feat_names = df.drop(['turnover'],axis=1).columns"
   ]
  },
  {
   "cell_type": "code",
   "execution_count": 28,
   "metadata": {},
   "outputs": [
    {
     "data": {
      "image/png": "[encoded data removed]",
      "text/plain": [
       "<Figure size 864x288 with 1 Axes>"
      ]
     },
     "metadata": {
      "needs_background": "light"
     },
     "output_type": "display_data"
    }
   ],
   "source": [
    "indices = np.argsort(importances)[::-1]\n",
    "plt.figure(figsize=(12,4))\n",
    "plt.title(\"Feature importances by DecisionTreeClassifier\")\n",
    "plt.bar(range(len(indices)), importances[indices], color='lightblue',  align=\"center\")\n",
    "plt.xticks(range(len(indices)), feat_names[indices], rotation='vertical',fontsize=14)\n",
    "plt.xlim([-1, len(indices)])\n",
    "plt.show()"
   ]
  },
  {
   "cell_type": "markdown",
   "metadata": {},
   "source": [
    "#### Filtrando apenas os atributos relevantes."
   ]
  },
  {
   "cell_type": "code",
   "execution_count": 29,
   "metadata": {},
   "outputs": [],
   "source": [
    "X = df[[\"satisfaction\",\"evaluation\",\"averageMonthlyHours\",\"yearsAtCompany\"]]"
   ]
  },
  {
   "cell_type": "markdown",
   "metadata": {},
   "source": [
    "#### Separando os conjuntos de dados."
   ]
  },
  {
   "cell_type": "code",
   "execution_count": 30,
   "metadata": {},
   "outputs": [],
   "source": [
    "scaler = MinMaxScaler()"
   ]
  },
  {
   "cell_type": "code",
   "execution_count": 31,
   "metadata": {},
   "outputs": [],
   "source": [
    "X = scaler.fit_transform(X)"
   ]
  },
  {
   "cell_type": "code",
   "execution_count": 32,
   "metadata": {},
   "outputs": [],
   "source": [
    "X_train, X_test, y_train, y_test = train_test_split(\n",
    "        X\n",
    "       ,y\n",
    "       ,test_size = 0.2\n",
    "       ,random_state = 123\n",
    "       ,stratify = y\n",
    ")"
   ]
  },
  {
   "cell_type": "code",
   "execution_count": 33,
   "metadata": {},
   "outputs": [
    {
     "data": {
      "text/plain": [
       "array([[0.59340659, 0.21875   , 0.40449438, 0.125     ],\n",
       "       [0.        , 0.703125  , 0.41573034, 0.25      ],\n",
       "       [0.3956044 , 0.28125   , 0.58426966, 0.125     ],\n",
       "       ...,\n",
       "       [0.32967033, 0.3125    , 0.59550562, 0.125     ],\n",
       "       [0.92307692, 0.28125   , 0.46067416, 0.        ],\n",
       "       [0.51648352, 0.5       , 0.53932584, 0.125     ]])"
      ]
     },
     "execution_count": 33,
     "metadata": {},
     "output_type": "execute_result"
    }
   ],
   "source": [
    "X_train"
   ]
  },
  {
   "cell_type": "markdown",
   "metadata": {},
   "source": [
    "#### Função do modelo de base."
   ]
  },
  {
   "cell_type": "code",
   "execution_count": 34,
   "metadata": {},
   "outputs": [],
   "source": [
    "def base_rate_model(X) :\n",
    "    y = np.zeros(X.shape[0])\n",
    "    return y"
   ]
  },
  {
   "cell_type": "markdown",
   "metadata": {},
   "source": [
    "#### Importando métodos de métrica de avaliação."
   ]
  },
  {
   "cell_type": "code",
   "execution_count": 35,
   "metadata": {},
   "outputs": [],
   "source": [
    "from sklearn.metrics import roc_auc_score\n",
    "from sklearn.metrics import accuracy_score\n",
    "from sklearn.metrics import classification_report"
   ]
  },
  {
   "cell_type": "code",
   "execution_count": 36,
   "metadata": {},
   "outputs": [],
   "source": [
    "def accuracy_result(y_test,y_predict):\n",
    "    acc = accuracy_score(y_test, y_predict)\n",
    "    print (\"Accuracy = %2.2f\" % acc)"
   ]
  },
  {
   "cell_type": "code",
   "execution_count": 37,
   "metadata": {},
   "outputs": [],
   "source": [
    "def roc_classification_report_results(model,y_test,y_predict):\n",
    "    roc_ = roc_auc_score(y_test, y_predict)\n",
    "    classfication_report = classification_report(y_test, y_predict)\n",
    "    \n",
    "    print (\"\\n{} AUC = {}\\n\".format(model, roc_))\n",
    "    print(classfication_report)"
   ]
  },
  {
   "cell_type": "markdown",
   "metadata": {},
   "source": [
    "#### Análise do modelo de baseline"
   ]
  },
  {
   "cell_type": "code",
   "execution_count": 38,
   "metadata": {},
   "outputs": [],
   "source": [
    "y_predict = base_rate_model(X_test)"
   ]
  },
  {
   "cell_type": "code",
   "execution_count": 39,
   "metadata": {},
   "outputs": [
    {
     "name": "stdout",
     "output_type": "stream",
     "text": [
      "Accuracy = 0.76\n"
     ]
    }
   ],
   "source": [
    "accuracy_result(y_test, y_predict)"
   ]
  },
  {
   "cell_type": "code",
   "execution_count": 40,
   "metadata": {},
   "outputs": [
    {
     "name": "stdout",
     "output_type": "stream",
     "text": [
      "\n",
      "Base Model AUC = 0.5\n",
      "\n",
      "              precision    recall  f1-score   support\n",
      "\n",
      "           0       0.76      1.00      0.86      2286\n",
      "           1       0.00      0.00      0.00       714\n",
      "\n",
      "    accuracy                           0.76      3000\n",
      "   macro avg       0.38      0.50      0.43      3000\n",
      "weighted avg       0.58      0.76      0.66      3000\n",
      "\n"
     ]
    },
    {
     "name": "stderr",
     "output_type": "stream",
     "text": [
      "C:\\Users\\luisc\\anaconda3\\lib\\site-packages\\sklearn\\metrics\\_classification.py:1221: UndefinedMetricWarning: Precision and F-score are ill-defined and being set to 0.0 in labels with no predicted samples. Use `zero_division` parameter to control this behavior.\n",
      "  _warn_prf(average, modifier, msg_start, len(result))\n"
     ]
    }
   ],
   "source": [
    "roc_classification_report_results(\"Base Model\", y_test, y_predict)"
   ]
  },
  {
   "cell_type": "markdown",
   "metadata": {},
   "source": [
    "### Modelo de Regressão Logística."
   ]
  },
  {
   "cell_type": "markdown",
   "metadata": {},
   "source": [
    "#### Instânciando o algoritmo."
   ]
  },
  {
   "cell_type": "code",
   "execution_count": 41,
   "metadata": {},
   "outputs": [],
   "source": [
    "from sklearn.linear_model import LogisticRegression\n",
    "logis = LogisticRegression()"
   ]
  },
  {
   "cell_type": "markdown",
   "metadata": {},
   "source": [
    "#### Realizando o treinamento."
   ]
  },
  {
   "cell_type": "code",
   "execution_count": 42,
   "metadata": {
    "scrolled": true
   },
   "outputs": [
    {
     "data": {
      "text/plain": [
       "LogisticRegression()"
      ]
     },
     "execution_count": 42,
     "metadata": {},
     "output_type": "execute_result"
    }
   ],
   "source": [
    "logis.fit(X_train, y_train)"
   ]
  },
  {
   "cell_type": "markdown",
   "metadata": {},
   "source": [
    "#### Calculando as predições."
   ]
  },
  {
   "cell_type": "code",
   "execution_count": 43,
   "metadata": {},
   "outputs": [],
   "source": [
    "y_predict = logis.predict(X_test)"
   ]
  },
  {
   "cell_type": "markdown",
   "metadata": {},
   "source": [
    "#### Avaliando o resultado."
   ]
  },
  {
   "cell_type": "code",
   "execution_count": 44,
   "metadata": {},
   "outputs": [
    {
     "name": "stdout",
     "output_type": "stream",
     "text": [
      "Accuracy = 0.77\n"
     ]
    }
   ],
   "source": [
    "accuracy_result(y_test, y_predict)"
   ]
  },
  {
   "cell_type": "code",
   "execution_count": 45,
   "metadata": {},
   "outputs": [
    {
     "name": "stdout",
     "output_type": "stream",
     "text": [
      "\n",
      "Logistic Regression AUC = 0.5406235985207731\n",
      "\n",
      "              precision    recall  f1-score   support\n",
      "\n",
      "           0       0.78      0.97      0.86      2286\n",
      "           1       0.55      0.11      0.18       714\n",
      "\n",
      "    accuracy                           0.77      3000\n",
      "   macro avg       0.66      0.54      0.52      3000\n",
      "weighted avg       0.72      0.77      0.70      3000\n",
      "\n"
     ]
    }
   ],
   "source": [
    "roc_classification_report_results(\"Logistic Regression\", y_test, y_predict)"
   ]
  },
  {
   "cell_type": "markdown",
   "metadata": {},
   "source": [
    "### Modelo de Arvore de decisão."
   ]
  },
  {
   "cell_type": "markdown",
   "metadata": {},
   "source": [
    "#### Instânciando o algoritmo."
   ]
  },
  {
   "cell_type": "code",
   "execution_count": 46,
   "metadata": {},
   "outputs": [],
   "source": [
    "from sklearn.tree import DecisionTreeClassifier\n",
    "dtree = DecisionTreeClassifier()"
   ]
  },
  {
   "cell_type": "markdown",
   "metadata": {},
   "source": [
    "#### Realizando o treinamento."
   ]
  },
  {
   "cell_type": "code",
   "execution_count": 47,
   "metadata": {
    "scrolled": true
   },
   "outputs": [],
   "source": [
    "dtree = dtree.fit(X_train,y_train)"
   ]
  },
  {
   "cell_type": "markdown",
   "metadata": {},
   "source": [
    "#### Calculando as predições."
   ]
  },
  {
   "cell_type": "code",
   "execution_count": 48,
   "metadata": {},
   "outputs": [],
   "source": [
    "y_predict = dtree.predict(X_test)"
   ]
  },
  {
   "cell_type": "markdown",
   "metadata": {},
   "source": [
    "#### Avaliando o resultado."
   ]
  },
  {
   "cell_type": "code",
   "execution_count": 49,
   "metadata": {},
   "outputs": [
    {
     "name": "stdout",
     "output_type": "stream",
     "text": [
      "Accuracy = 0.74\n"
     ]
    }
   ],
   "source": [
    "accuracy_result(y_test, y_predict)"
   ]
  },
  {
   "cell_type": "code",
   "execution_count": 50,
   "metadata": {},
   "outputs": [
    {
     "name": "stdout",
     "output_type": "stream",
     "text": [
      "\n",
      "Decision Tree AUC = 0.6658836763051676\n",
      "\n",
      "              precision    recall  f1-score   support\n",
      "\n",
      "           0       0.84      0.81      0.83      2286\n",
      "           1       0.47      0.52      0.49       714\n",
      "\n",
      "    accuracy                           0.74      3000\n",
      "   macro avg       0.65      0.67      0.66      3000\n",
      "weighted avg       0.75      0.74      0.75      3000\n",
      "\n"
     ]
    }
   ],
   "source": [
    "roc_classification_report_results(\"Decision Tree\", y_test, y_predict)"
   ]
  },
  {
   "cell_type": "markdown",
   "metadata": {},
   "source": [
    "### Modelo de Arvore Aleatória (Random Forest)"
   ]
  },
  {
   "cell_type": "markdown",
   "metadata": {},
   "source": [
    "#### Instânciando o algoritmo."
   ]
  },
  {
   "cell_type": "code",
   "execution_count": 51,
   "metadata": {},
   "outputs": [],
   "source": [
    "from sklearn.ensemble import RandomForestClassifier"
   ]
  },
  {
   "cell_type": "code",
   "execution_count": 52,
   "metadata": {},
   "outputs": [],
   "source": [
    "rf = RandomForestClassifier()"
   ]
  },
  {
   "cell_type": "markdown",
   "metadata": {},
   "source": [
    "#### Realizando o treinamento."
   ]
  },
  {
   "cell_type": "code",
   "execution_count": 53,
   "metadata": {
    "scrolled": true
   },
   "outputs": [],
   "source": [
    "rf = rf.fit(X_train,y_train)"
   ]
  },
  {
   "cell_type": "markdown",
   "metadata": {},
   "source": [
    "#### Calculando as predições."
   ]
  },
  {
   "cell_type": "code",
   "execution_count": 54,
   "metadata": {},
   "outputs": [],
   "source": [
    "y_predict = rf.predict(X_test)"
   ]
  },
  {
   "cell_type": "markdown",
   "metadata": {},
   "source": [
    "#### Avaliando o resultado."
   ]
  },
  {
   "cell_type": "code",
   "execution_count": 55,
   "metadata": {},
   "outputs": [
    {
     "name": "stdout",
     "output_type": "stream",
     "text": [
      "Accuracy = 0.83\n"
     ]
    }
   ],
   "source": [
    "accuracy_result(y_test, y_predict)"
   ]
  },
  {
   "cell_type": "code",
   "execution_count": 56,
   "metadata": {},
   "outputs": [
    {
     "name": "stdout",
     "output_type": "stream",
     "text": [
      "\n",
      "Random Forest AUC = 0.7208271760147629\n",
      "\n",
      "              precision    recall  f1-score   support\n",
      "\n",
      "           0       0.86      0.92      0.89      2286\n",
      "           1       0.68      0.52      0.59       714\n",
      "\n",
      "    accuracy                           0.83      3000\n",
      "   macro avg       0.77      0.72      0.74      3000\n",
      "weighted avg       0.82      0.83      0.82      3000\n",
      "\n"
     ]
    }
   ],
   "source": [
    "roc_classification_report_results(\"Random Forest\", y_test, y_predict)"
   ]
  },
  {
   "cell_type": "markdown",
   "metadata": {},
   "source": [
    "### Pycaret"
   ]
  },
  {
   "cell_type": "code",
   "execution_count": 57,
   "metadata": {
    "jupyter": {
     "outputs_hidden": true
    },
    "tags": []
   },
   "outputs": [
    {
     "name": "stdout",
     "output_type": "stream",
     "text": [
      "Requirement already satisfied: pycaret in c:\\users\\luisc\\anaconda3\\lib\\site-packages (2.3.4)\n",
      "Requirement already satisfied: umap-learn in c:\\users\\luisc\\anaconda3\\lib\\site-packages (from pycaret) (0.5.1)\n",
      "Requirement already satisfied: gensim<4.0.0 in c:\\users\\luisc\\anaconda3\\lib\\site-packages (from pycaret) (3.8.3)\n",
      "Requirement already satisfied: IPython in c:\\users\\luisc\\anaconda3\\lib\\site-packages (from pycaret) (7.19.0)\n",
      "Requirement already satisfied: pyLDAvis in c:\\users\\luisc\\anaconda3\\lib\\site-packages (from pycaret) (3.3.1)\n",
      "Requirement already satisfied: mlflow in c:\\users\\luisc\\anaconda3\\lib\\site-packages (from pycaret) (1.20.2)\n",
      "Requirement already satisfied: seaborn in c:\\users\\luisc\\anaconda3\\lib\\site-packages (from pycaret) (0.11.0)\n",
      "Requirement already satisfied: lightgbm>=2.3.1 in c:\\users\\luisc\\anaconda3\\lib\\site-packages (from pycaret) (3.3.0)\n",
      "Requirement already satisfied: pandas in c:\\users\\luisc\\anaconda3\\lib\\site-packages (from pycaret) (1.1.3)\n",
      "Requirement already satisfied: numpy==1.19.5 in c:\\users\\luisc\\anaconda3\\lib\\site-packages (from pycaret) (1.19.5)\n",
      "Requirement already satisfied: numba<0.54 in c:\\users\\luisc\\anaconda3\\lib\\site-packages (from pycaret) (0.51.2)\n",
      "Requirement already satisfied: imbalanced-learn==0.7.0 in c:\\users\\luisc\\anaconda3\\lib\\site-packages (from pycaret) (0.7.0)\n",
      "Requirement already satisfied: kmodes>=0.10.1 in c:\\users\\luisc\\anaconda3\\lib\\site-packages (from pycaret) (0.11.1)\n",
      "Requirement already satisfied: Boruta in c:\\users\\luisc\\anaconda3\\lib\\site-packages (from pycaret) (0.3)\n",
      "Requirement already satisfied: ipywidgets in c:\\users\\luisc\\anaconda3\\lib\\site-packages (from pycaret) (7.5.1)\n",
      "Requirement already satisfied: yellowbrick>=1.0.1 in c:\\users\\luisc\\anaconda3\\lib\\site-packages (from pycaret) (1.3.post1)\n",
      "Requirement already satisfied: wordcloud in c:\\users\\luisc\\anaconda3\\lib\\site-packages (from pycaret) (1.8.1)\n",
      "Requirement already satisfied: scipy<=1.5.4 in c:\\users\\luisc\\anaconda3\\lib\\site-packages (from pycaret) (1.5.2)\n",
      "Requirement already satisfied: joblib in c:\\users\\luisc\\anaconda3\\lib\\site-packages (from pycaret) (0.17.0)\n",
      "Requirement already satisfied: mlxtend>=0.17.0 in c:\\users\\luisc\\anaconda3\\lib\\site-packages (from pycaret) (0.19.0)\n",
      "Requirement already satisfied: spacy<2.4.0 in c:\\users\\luisc\\anaconda3\\lib\\site-packages (from pycaret) (2.3.7)\n",
      "Requirement already satisfied: textblob in c:\\users\\luisc\\anaconda3\\lib\\site-packages (from pycaret) (0.17.1)\n",
      "Requirement already satisfied: matplotlib in c:\\users\\luisc\\anaconda3\\lib\\site-packages (from pycaret) (3.3.2)\n",
      "Requirement already satisfied: scikit-plot in c:\\users\\luisc\\anaconda3\\lib\\site-packages (from pycaret) (0.3.7)\n",
      "Requirement already satisfied: pandas-profiling>=2.8.0 in c:\\users\\luisc\\anaconda3\\lib\\site-packages (from pycaret) (3.1.0)\n",
      "Requirement already satisfied: nltk in c:\\users\\luisc\\anaconda3\\lib\\site-packages (from pycaret) (3.5)\n",
      "Requirement already satisfied: scikit-learn==0.23.2 in c:\\users\\luisc\\anaconda3\\lib\\site-packages (from pycaret) (0.23.2)\n",
      "Requirement already satisfied: pyod in c:\\users\\luisc\\anaconda3\\lib\\site-packages (from pycaret) (0.9.4)\n",
      "Requirement already satisfied: plotly>=4.4.1 in c:\\users\\luisc\\anaconda3\\lib\\site-packages (from pycaret) (5.3.1)\n",
      "Requirement already satisfied: cufflinks>=0.17.0 in c:\\users\\luisc\\anaconda3\\lib\\site-packages (from pycaret) (0.17.3)\n",
      "Requirement already satisfied: pynndescent>=0.5 in c:\\users\\luisc\\anaconda3\\lib\\site-packages (from umap-learn->pycaret) (0.5.5)\n",
      "Requirement already satisfied: Cython==0.29.14 in c:\\users\\luisc\\anaconda3\\lib\\site-packages (from gensim<4.0.0->pycaret) (0.29.14)\n",
      "Requirement already satisfied: six>=1.5.0 in c:\\users\\luisc\\anaconda3\\lib\\site-packages (from gensim<4.0.0->pycaret) (1.15.0)\n",
      "Requirement already satisfied: smart-open>=1.8.1 in c:\\users\\luisc\\anaconda3\\lib\\site-packages (from gensim<4.0.0->pycaret) (5.2.1)\n",
      "Requirement already satisfied: colorama; sys_platform == \"win32\" in c:\\users\\luisc\\anaconda3\\lib\\site-packages (from IPython->pycaret) (0.4.4)\n",
      "Requirement already satisfied: setuptools>=18.5 in c:\\users\\luisc\\anaconda3\\lib\\site-packages (from IPython->pycaret) (50.3.1.post20201107)\n",
      "Requirement already satisfied: backcall in c:\\users\\luisc\\anaconda3\\lib\\site-packages (from IPython->pycaret) (0.2.0)\n",
      "Requirement already satisfied: pickleshare in c:\\users\\luisc\\anaconda3\\lib\\site-packages (from IPython->pycaret) (0.7.5)\n",
      "Requirement already satisfied: pygments in c:\\users\\luisc\\anaconda3\\lib\\site-packages (from IPython->pycaret) (2.7.2)Note: you may need to restart the kernel to use updated packages.\n",
      "Requirement already satisfied: prompt-toolkit!=3.0.0,!=3.0.1,<3.1.0,>=2.0.0 in c:\\users\\luisc\\anaconda3\\lib\\site-packages (from IPython->pycaret) (3.0.8)\n",
      "\n",
      "Requirement already satisfied: jedi>=0.10 in c:\\users\\luisc\\anaconda3\\lib\\site-packages (from IPython->pycaret) (0.17.1)\n",
      "Requirement already satisfied: traitlets>=4.2 in c:\\users\\luisc\\anaconda3\\lib\\site-packages (from IPython->pycaret) (5.0.5)\n",
      "Requirement already satisfied: decorator in c:\\users\\luisc\\anaconda3\\lib\\site-packages (from IPython->pycaret) (4.4.2)\n",
      "Requirement already satisfied: numexpr in c:\\users\\luisc\\anaconda3\\lib\\site-packages (from pyLDAvis->pycaret) (2.7.1)\n",
      "Requirement already satisfied: funcy in c:\\users\\luisc\\anaconda3\\lib\\site-packages (from pyLDAvis->pycaret) (1.16)\n",
      "Requirement already satisfied: jinja2 in c:\\users\\luisc\\anaconda3\\lib\\site-packages (from pyLDAvis->pycaret) (2.11.2)\n",
      "Requirement already satisfied: sklearn in c:\\users\\luisc\\anaconda3\\lib\\site-packages (from pyLDAvis->pycaret) (0.0)\n",
      "Requirement already satisfied: future in c:\\users\\luisc\\anaconda3\\lib\\site-packages (from pyLDAvis->pycaret) (0.18.2)\n",
      "Requirement already satisfied: prometheus-flask-exporter in c:\\users\\luisc\\anaconda3\\lib\\site-packages (from mlflow->pycaret) (0.18.4)\n",
      "Requirement already satisfied: Flask in c:\\users\\luisc\\anaconda3\\lib\\site-packages (from mlflow->pycaret) (1.1.2)\n",
      "Requirement already satisfied: pytz in c:\\users\\luisc\\anaconda3\\lib\\site-packages (from mlflow->pycaret) (2020.1)\n",
      "Requirement already satisfied: protobuf>=3.7.0 in c:\\users\\luisc\\anaconda3\\lib\\site-packages (from mlflow->pycaret) (3.17.3)\n",
      "Requirement already satisfied: sqlparse>=0.3.1 in c:\\users\\luisc\\anaconda3\\lib\\site-packages (from mlflow->pycaret) (0.4.2)\n",
      "Requirement already satisfied: waitress; platform_system == \"Windows\" in c:\\users\\luisc\\anaconda3\\lib\\site-packages (from mlflow->pycaret) (2.0.0)\n",
      "Requirement already satisfied: entrypoints in c:\\users\\luisc\\anaconda3\\lib\\site-packages (from mlflow->pycaret) (0.3)\n",
      "Requirement already satisfied: sqlalchemy in c:\\users\\luisc\\anaconda3\\lib\\site-packages (from mlflow->pycaret) (1.3.20)\n",
      "Requirement already satisfied: packaging in c:\\users\\luisc\\anaconda3\\lib\\site-packages (from mlflow->pycaret) (20.4)\n",
      "Requirement already satisfied: importlib-metadata!=4.7.0,>=3.7.0 in c:\\users\\luisc\\anaconda3\\lib\\site-packages (from mlflow->pycaret) (4.8.1)\n",
      "Requirement already satisfied: gitpython>=2.1.0 in c:\\users\\luisc\\anaconda3\\lib\\site-packages (from mlflow->pycaret) (3.1.17)\n",
      "Requirement already satisfied: querystring-parser in c:\\users\\luisc\\anaconda3\\lib\\site-packages (from mlflow->pycaret) (1.2.4)\n",
      "Requirement already satisfied: pyyaml>=5.1 in c:\\users\\luisc\\anaconda3\\lib\\site-packages (from mlflow->pycaret) (5.3.1)\n",
      "Requirement already satisfied: click>=7.0 in c:\\users\\luisc\\anaconda3\\lib\\site-packages (from mlflow->pycaret) (7.1.2)\n",
      "Requirement already satisfied: docker>=4.0.0 in c:\\users\\luisc\\anaconda3\\lib\\site-packages (from mlflow->pycaret) (5.0.3)\n",
      "Requirement already satisfied: alembic<=1.4.1 in c:\\users\\luisc\\anaconda3\\lib\\site-packages (from mlflow->pycaret) (1.4.1)\n",
      "Requirement already satisfied: databricks-cli>=0.8.7 in c:\\users\\luisc\\anaconda3\\lib\\site-packages (from mlflow->pycaret) (0.16.2)\n",
      "Requirement already satisfied: cloudpickle in c:\\users\\luisc\\anaconda3\\lib\\site-packages (from mlflow->pycaret) (1.6.0)\n",
      "Requirement already satisfied: requests>=2.17.3 in c:\\users\\luisc\\anaconda3\\lib\\site-packages (from mlflow->pycaret) (2.24.0)\n",
      "Requirement already satisfied: wheel in c:\\users\\luisc\\anaconda3\\lib\\site-packages (from lightgbm>=2.3.1->pycaret) (0.35.1)\n",
      "Requirement already satisfied: python-dateutil>=2.7.3 in c:\\users\\luisc\\anaconda3\\lib\\site-packages (from pandas->pycaret) (2.8.1)\n",
      "Requirement already satisfied: llvmlite<0.35,>=0.34.0.dev0 in c:\\users\\luisc\\anaconda3\\lib\\site-packages (from numba<0.54->pycaret) (0.34.0)\n",
      "Requirement already satisfied: nbformat>=4.2.0 in c:\\users\\luisc\\anaconda3\\lib\\site-packages (from ipywidgets->pycaret) (5.0.8)\n",
      "Requirement already satisfied: ipykernel>=4.5.1 in c:\\users\\luisc\\anaconda3\\lib\\site-packages (from ipywidgets->pycaret) (5.3.4)\n",
      "Requirement already satisfied: widgetsnbextension~=3.5.0 in c:\\users\\luisc\\anaconda3\\lib\\site-packages (from ipywidgets->pycaret) (3.5.1)\n",
      "Requirement already satisfied: cycler>=0.10.0 in c:\\users\\luisc\\anaconda3\\lib\\site-packages (from yellowbrick>=1.0.1->pycaret) (0.10.0)\n",
      "Requirement already satisfied: pillow in c:\\users\\luisc\\anaconda3\\lib\\site-packages (from wordcloud->pycaret) (8.0.1)\n",
      "Requirement already satisfied: catalogue<1.1.0,>=0.0.7 in c:\\users\\luisc\\anaconda3\\lib\\site-packages (from spacy<2.4.0->pycaret) (1.0.0)\n",
      "Requirement already satisfied: blis<0.8.0,>=0.4.0 in c:\\users\\luisc\\anaconda3\\lib\\site-packages (from spacy<2.4.0->pycaret) (0.7.5)\n",
      "Requirement already satisfied: srsly<1.1.0,>=1.0.2 in c:\\users\\luisc\\anaconda3\\lib\\site-packages (from spacy<2.4.0->pycaret) (1.0.5)\n",
      "Requirement already satisfied: plac<1.2.0,>=0.9.6 in c:\\users\\luisc\\anaconda3\\lib\\site-packages (from spacy<2.4.0->pycaret) (1.1.3)\n",
      "Requirement already satisfied: wasabi<1.1.0,>=0.4.0 in c:\\users\\luisc\\anaconda3\\lib\\site-packages (from spacy<2.4.0->pycaret) (0.8.2)\n",
      "Requirement already satisfied: tqdm<5.0.0,>=4.38.0 in c:\\users\\luisc\\anaconda3\\lib\\site-packages (from spacy<2.4.0->pycaret) (4.50.2)\n",
      "Requirement already satisfied: thinc<7.5.0,>=7.4.1 in c:\\users\\luisc\\anaconda3\\lib\\site-packages (from spacy<2.4.0->pycaret) (7.4.5)\n",
      "Requirement already satisfied: preshed<3.1.0,>=3.0.2 in c:\\users\\luisc\\anaconda3\\lib\\site-packages (from spacy<2.4.0->pycaret) (3.0.6)\n",
      "Requirement already satisfied: cymem<2.1.0,>=2.0.2 in c:\\users\\luisc\\anaconda3\\lib\\site-packages (from spacy<2.4.0->pycaret) (2.0.6)\n",
      "Requirement already satisfied: murmurhash<1.1.0,>=0.28.0 in c:\\users\\luisc\\anaconda3\\lib\\site-packages (from spacy<2.4.0->pycaret) (1.0.6)\n",
      "Requirement already satisfied: kiwisolver>=1.0.1 in c:\\users\\luisc\\anaconda3\\lib\\site-packages (from matplotlib->pycaret) (1.3.0)\n",
      "Requirement already satisfied: pyparsing!=2.0.4,!=2.1.2,!=2.1.6,>=2.0.3 in c:\\users\\luisc\\anaconda3\\lib\\site-packages (from matplotlib->pycaret) (2.4.7)\n",
      "Requirement already satisfied: certifi>=2020.06.20 in c:\\users\\luisc\\anaconda3\\lib\\site-packages (from matplotlib->pycaret) (2020.6.20)\n",
      "Requirement already satisfied: htmlmin>=0.1.12 in c:\\users\\luisc\\anaconda3\\lib\\site-packages (from pandas-profiling>=2.8.0->pycaret) (0.1.12)\n",
      "Requirement already satisfied: missingno>=0.4.2 in c:\\users\\luisc\\anaconda3\\lib\\site-packages (from pandas-profiling>=2.8.0->pycaret) (0.5.0)\n",
      "Requirement already satisfied: phik>=0.11.1 in c:\\users\\luisc\\anaconda3\\lib\\site-packages (from pandas-profiling>=2.8.0->pycaret) (0.12.0)\n",
      "Requirement already satisfied: visions[type_image_path]==0.7.4 in c:\\users\\luisc\\anaconda3\\lib\\site-packages (from pandas-profiling>=2.8.0->pycaret) (0.7.4)\n",
      "Requirement already satisfied: tangled-up-in-unicode==0.1.0 in c:\\users\\luisc\\anaconda3\\lib\\site-packages (from pandas-profiling>=2.8.0->pycaret) (0.1.0)\n",
      "Requirement already satisfied: multimethod>=1.4 in c:\\users\\luisc\\anaconda3\\lib\\site-packages (from pandas-profiling>=2.8.0->pycaret) (1.6)\n",
      "Requirement already satisfied: markupsafe~=2.0.1 in c:\\users\\luisc\\anaconda3\\lib\\site-packages (from pandas-profiling>=2.8.0->pycaret) (2.0.1)\n",
      "Requirement already satisfied: pydantic>=1.8.1 in c:\\users\\luisc\\anaconda3\\lib\\site-packages (from pandas-profiling>=2.8.0->pycaret) (1.8.2)\n",
      "Requirement already satisfied: regex in c:\\users\\luisc\\anaconda3\\lib\\site-packages (from nltk->pycaret) (2020.10.15)\n",
      "Requirement already satisfied: threadpoolctl>=2.0.0 in c:\\users\\luisc\\anaconda3\\lib\\site-packages (from scikit-learn==0.23.2->pycaret) (2.1.0)\n",
      "Requirement already satisfied: statsmodels in c:\\users\\luisc\\anaconda3\\lib\\site-packages (from pyod->pycaret) (0.12.0)\n",
      "Requirement already satisfied: tenacity>=6.2.0 in c:\\users\\luisc\\anaconda3\\lib\\site-packages (from plotly>=4.4.1->pycaret) (6.2.0)\n",
      "Requirement already satisfied: colorlover>=0.2.1 in c:\\users\\luisc\\anaconda3\\lib\\site-packages (from cufflinks>=0.17.0->pycaret) (0.3.0)\n",
      "Requirement already satisfied: wcwidth in c:\\users\\luisc\\anaconda3\\lib\\site-packages (from prompt-toolkit!=3.0.0,!=3.0.1,<3.1.0,>=2.0.0->IPython->pycaret) (0.2.5)\n",
      "Requirement already satisfied: parso<0.8.0,>=0.7.0 in c:\\users\\luisc\\anaconda3\\lib\\site-packages (from jedi>=0.10->IPython->pycaret) (0.7.0)\n",
      "Requirement already satisfied: ipython-genutils in c:\\users\\luisc\\anaconda3\\lib\\site-packages (from traitlets>=4.2->IPython->pycaret) (0.2.0)\n",
      "Requirement already satisfied: prometheus-client in c:\\users\\luisc\\anaconda3\\lib\\site-packages (from prometheus-flask-exporter->mlflow->pycaret) (0.8.0)\n",
      "Requirement already satisfied: Werkzeug>=0.15 in c:\\users\\luisc\\anaconda3\\lib\\site-packages (from Flask->mlflow->pycaret) (1.0.1)\n",
      "Requirement already satisfied: itsdangerous>=0.24 in c:\\users\\luisc\\anaconda3\\lib\\site-packages (from Flask->mlflow->pycaret) (1.1.0)\n",
      "Requirement already satisfied: zipp>=0.5 in c:\\users\\luisc\\anaconda3\\lib\\site-packages (from importlib-metadata!=4.7.0,>=3.7.0->mlflow->pycaret) (3.4.0)\n",
      "Requirement already satisfied: gitdb<5,>=4.0.1 in c:\\users\\luisc\\anaconda3\\lib\\site-packages (from gitpython>=2.1.0->mlflow->pycaret) (4.0.7)\n",
      "Requirement already satisfied: pywin32==227; sys_platform == \"win32\" in c:\\users\\luisc\\anaconda3\\lib\\site-packages (from docker>=4.0.0->mlflow->pycaret) (227)\n",
      "Requirement already satisfied: websocket-client>=0.32.0 in c:\\users\\luisc\\anaconda3\\lib\\site-packages (from docker>=4.0.0->mlflow->pycaret) (1.2.1)\n",
      "Requirement already satisfied: python-editor>=0.3 in c:\\users\\luisc\\anaconda3\\lib\\site-packages (from alembic<=1.4.1->mlflow->pycaret) (1.0.4)\n",
      "Requirement already satisfied: Mako in c:\\users\\luisc\\anaconda3\\lib\\site-packages (from alembic<=1.4.1->mlflow->pycaret) (1.1.4)\n",
      "Requirement already satisfied: tabulate>=0.7.7 in c:\\users\\luisc\\anaconda3\\lib\\site-packages (from databricks-cli>=0.8.7->mlflow->pycaret) (0.8.9)\n",
      "Requirement already satisfied: idna<3,>=2.5 in c:\\users\\luisc\\anaconda3\\lib\\site-packages (from requests>=2.17.3->mlflow->pycaret) (2.10)\n",
      "Requirement already satisfied: urllib3!=1.25.0,!=1.25.1,<1.26,>=1.21.1 in c:\\users\\luisc\\anaconda3\\lib\\site-packages (from requests>=2.17.3->mlflow->pycaret) (1.25.11)\n",
      "Requirement already satisfied: chardet<4,>=3.0.2 in c:\\users\\luisc\\anaconda3\\lib\\site-packages (from requests>=2.17.3->mlflow->pycaret) (3.0.4)\n",
      "Requirement already satisfied: jsonschema!=2.5.0,>=2.4 in c:\\users\\luisc\\anaconda3\\lib\\site-packages (from nbformat>=4.2.0->ipywidgets->pycaret) (3.2.0)\n",
      "Requirement already satisfied: jupyter-core in c:\\users\\luisc\\anaconda3\\lib\\site-packages (from nbformat>=4.2.0->ipywidgets->pycaret) (4.6.3)\n",
      "Requirement already satisfied: jupyter-client in c:\\users\\luisc\\anaconda3\\lib\\site-packages (from ipykernel>=4.5.1->ipywidgets->pycaret) (6.1.7)\n",
      "Requirement already satisfied: tornado>=4.2 in c:\\users\\luisc\\anaconda3\\lib\\site-packages (from ipykernel>=4.5.1->ipywidgets->pycaret) (6.0.4)\n",
      "Requirement already satisfied: notebook>=4.4.1 in c:\\users\\luisc\\anaconda3\\lib\\site-packages (from widgetsnbextension~=3.5.0->ipywidgets->pycaret) (6.1.4)\n",
      "Requirement already satisfied: attrs>=19.3.0 in c:\\users\\luisc\\anaconda3\\lib\\site-packages (from visions[type_image_path]==0.7.4->pandas-profiling>=2.8.0->pycaret) (20.3.0)\n",
      "Requirement already satisfied: networkx>=2.4 in c:\\users\\luisc\\anaconda3\\lib\\site-packages (from visions[type_image_path]==0.7.4->pandas-profiling>=2.8.0->pycaret) (2.5)\n",
      "Requirement already satisfied: imagehash; extra == \"type_image_path\" in c:\\users\\luisc\\anaconda3\\lib\\site-packages (from visions[type_image_path]==0.7.4->pandas-profiling>=2.8.0->pycaret) (4.2.1)\n",
      "Requirement already satisfied: typing-extensions>=3.7.4.3 in c:\\users\\luisc\\anaconda3\\lib\\site-packages (from pydantic>=1.8.1->pandas-profiling>=2.8.0->pycaret) (3.7.4.3)\n",
      "Requirement already satisfied: patsy>=0.5 in c:\\users\\luisc\\anaconda3\\lib\\site-packages (from statsmodels->pyod->pycaret) (0.5.1)\n",
      "Requirement already satisfied: smmap<5,>=3.0.1 in c:\\users\\luisc\\anaconda3\\lib\\site-packages (from gitdb<5,>=4.0.1->gitpython>=2.1.0->mlflow->pycaret) (4.0.0)\n",
      "Requirement already satisfied: pyrsistent>=0.14.0 in c:\\users\\luisc\\anaconda3\\lib\\site-packages (from jsonschema!=2.5.0,>=2.4->nbformat>=4.2.0->ipywidgets->pycaret) (0.17.3)\n",
      "Requirement already satisfied: pyzmq>=13 in c:\\users\\luisc\\anaconda3\\lib\\site-packages (from jupyter-client->ipykernel>=4.5.1->ipywidgets->pycaret) (19.0.2)\n",
      "Requirement already satisfied: argon2-cffi in c:\\users\\luisc\\anaconda3\\lib\\site-packages (from notebook>=4.4.1->widgetsnbextension~=3.5.0->ipywidgets->pycaret) (20.1.0)\n",
      "Requirement already satisfied: terminado>=0.8.3 in c:\\users\\luisc\\anaconda3\\lib\\site-packages (from notebook>=4.4.1->widgetsnbextension~=3.5.0->ipywidgets->pycaret) (0.9.1)\n",
      "Requirement already satisfied: nbconvert in c:\\users\\luisc\\anaconda3\\lib\\site-packages (from notebook>=4.4.1->widgetsnbextension~=3.5.0->ipywidgets->pycaret) (6.0.7)\n",
      "Requirement already satisfied: Send2Trash in c:\\users\\luisc\\anaconda3\\lib\\site-packages (from notebook>=4.4.1->widgetsnbextension~=3.5.0->ipywidgets->pycaret) (1.5.0)\n",
      "Requirement already satisfied: PyWavelets in c:\\users\\luisc\\anaconda3\\lib\\site-packages (from imagehash; extra == \"type_image_path\"->visions[type_image_path]==0.7.4->pandas-profiling>=2.8.0->pycaret) (1.1.1)\n",
      "Requirement already satisfied: cffi>=1.0.0 in c:\\users\\luisc\\anaconda3\\lib\\site-packages (from argon2-cffi->notebook>=4.4.1->widgetsnbextension~=3.5.0->ipywidgets->pycaret) (1.14.3)\n",
      "Requirement already satisfied: pywinpty>=0.5 in c:\\users\\luisc\\anaconda3\\lib\\site-packages (from terminado>=0.8.3->notebook>=4.4.1->widgetsnbextension~=3.5.0->ipywidgets->pycaret) (0.5.7)\n",
      "Requirement already satisfied: nbclient<0.6.0,>=0.5.0 in c:\\users\\luisc\\anaconda3\\lib\\site-packages (from nbconvert->notebook>=4.4.1->widgetsnbextension~=3.5.0->ipywidgets->pycaret) (0.5.1)\n",
      "Requirement already satisfied: jupyterlab-pygments in c:\\users\\luisc\\anaconda3\\lib\\site-packages (from nbconvert->notebook>=4.4.1->widgetsnbextension~=3.5.0->ipywidgets->pycaret) (0.1.2)\n",
      "Requirement already satisfied: defusedxml in c:\\users\\luisc\\anaconda3\\lib\\site-packages (from nbconvert->notebook>=4.4.1->widgetsnbextension~=3.5.0->ipywidgets->pycaret) (0.6.0)\n",
      "Requirement already satisfied: bleach in c:\\users\\luisc\\anaconda3\\lib\\site-packages (from nbconvert->notebook>=4.4.1->widgetsnbextension~=3.5.0->ipywidgets->pycaret) (3.2.1)\n",
      "Requirement already satisfied: testpath in c:\\users\\luisc\\anaconda3\\lib\\site-packages (from nbconvert->notebook>=4.4.1->widgetsnbextension~=3.5.0->ipywidgets->pycaret) (0.4.4)\n",
      "Requirement already satisfied: pandocfilters>=1.4.1 in c:\\users\\luisc\\anaconda3\\lib\\site-packages (from nbconvert->notebook>=4.4.1->widgetsnbextension~=3.5.0->ipywidgets->pycaret) (1.4.3)\n",
      "Requirement already satisfied: mistune<2,>=0.8.1 in c:\\users\\luisc\\anaconda3\\lib\\site-packages (from nbconvert->notebook>=4.4.1->widgetsnbextension~=3.5.0->ipywidgets->pycaret) (0.8.4)\n",
      "Requirement already satisfied: pycparser in c:\\users\\luisc\\anaconda3\\lib\\site-packages (from cffi>=1.0.0->argon2-cffi->notebook>=4.4.1->widgetsnbextension~=3.5.0->ipywidgets->pycaret) (2.20)\n",
      "Requirement already satisfied: nest-asyncio in c:\\users\\luisc\\anaconda3\\lib\\site-packages (from nbclient<0.6.0,>=0.5.0->nbconvert->notebook>=4.4.1->widgetsnbextension~=3.5.0->ipywidgets->pycaret) (1.4.2)\n",
      "Requirement already satisfied: async-generator in c:\\users\\luisc\\anaconda3\\lib\\site-packages (from nbclient<0.6.0,>=0.5.0->nbconvert->notebook>=4.4.1->widgetsnbextension~=3.5.0->ipywidgets->pycaret) (1.10)\n",
      "Requirement already satisfied: webencodings in c:\\users\\luisc\\anaconda3\\lib\\site-packages (from bleach->nbconvert->notebook>=4.4.1->widgetsnbextension~=3.5.0->ipywidgets->pycaret) (0.5.1)\n"
     ]
    }
   ],
   "source": [
    "pip install pycaret"
   ]
  },
  {
   "cell_type": "markdown",
   "metadata": {},
   "source": [
    "#### Importando os métodos."
   ]
  },
  {
   "cell_type": "code",
   "execution_count": 58,
   "metadata": {},
   "outputs": [],
   "source": [
    "from pycaret.classification import *"
   ]
  },
  {
   "cell_type": "markdown",
   "metadata": {},
   "source": [
    "#### Definindo o Setup."
   ]
  },
  {
   "cell_type": "code",
   "execution_count": 67,
   "metadata": {},
   "outputs": [
    {
     "data": {
      "text/html": [
       "<style  type=\"text/css\" >\n",
       "#T_bea5779c_9352_11ec_9753_641c6768c502row29_col1,#T_bea5779c_9352_11ec_9753_641c6768c502row44_col1,#T_bea5779c_9352_11ec_9753_641c6768c502row58_col1{\n",
       "            background-color:  lightgreen;\n",
       "        }</style><table id=\"T_bea5779c_9352_11ec_9753_641c6768c502\" ><thead>    <tr>        <th class=\"blank level0\" ></th>        <th class=\"col_heading level0 col0\" >Description</th>        <th class=\"col_heading level0 col1\" >Value</th>    </tr></thead><tbody>\n",
       "                <tr>\n",
       "                        <th id=\"T_bea5779c_9352_11ec_9753_641c6768c502level0_row0\" class=\"row_heading level0 row0\" >0</th>\n",
       "                        <td id=\"T_bea5779c_9352_11ec_9753_641c6768c502row0_col0\" class=\"data row0 col0\" >session_id</td>\n",
       "                        <td id=\"T_bea5779c_9352_11ec_9753_641c6768c502row0_col1\" class=\"data row0 col1\" >7244</td>\n",
       "            </tr>\n",
       "            <tr>\n",
       "                        <th id=\"T_bea5779c_9352_11ec_9753_641c6768c502level0_row1\" class=\"row_heading level0 row1\" >1</th>\n",
       "                        <td id=\"T_bea5779c_9352_11ec_9753_641c6768c502row1_col0\" class=\"data row1 col0\" >Target</td>\n",
       "                        <td id=\"T_bea5779c_9352_11ec_9753_641c6768c502row1_col1\" class=\"data row1 col1\" >turnover</td>\n",
       "            </tr>\n",
       "            <tr>\n",
       "                        <th id=\"T_bea5779c_9352_11ec_9753_641c6768c502level0_row2\" class=\"row_heading level0 row2\" >2</th>\n",
       "                        <td id=\"T_bea5779c_9352_11ec_9753_641c6768c502row2_col0\" class=\"data row2 col0\" >Target Type</td>\n",
       "                        <td id=\"T_bea5779c_9352_11ec_9753_641c6768c502row2_col1\" class=\"data row2 col1\" >Binary</td>\n",
       "            </tr>\n",
       "            <tr>\n",
       "                        <th id=\"T_bea5779c_9352_11ec_9753_641c6768c502level0_row3\" class=\"row_heading level0 row3\" >3</th>\n",
       "                        <td id=\"T_bea5779c_9352_11ec_9753_641c6768c502row3_col0\" class=\"data row3 col0\" >Label Encoded</td>\n",
       "                        <td id=\"T_bea5779c_9352_11ec_9753_641c6768c502row3_col1\" class=\"data row3 col1\" >None</td>\n",
       "            </tr>\n",
       "            <tr>\n",
       "                        <th id=\"T_bea5779c_9352_11ec_9753_641c6768c502level0_row4\" class=\"row_heading level0 row4\" >4</th>\n",
       "                        <td id=\"T_bea5779c_9352_11ec_9753_641c6768c502row4_col0\" class=\"data row4 col0\" >Original Data</td>\n",
       "                        <td id=\"T_bea5779c_9352_11ec_9753_641c6768c502row4_col1\" class=\"data row4 col1\" >(14998, 5)</td>\n",
       "            </tr>\n",
       "            <tr>\n",
       "                        <th id=\"T_bea5779c_9352_11ec_9753_641c6768c502level0_row5\" class=\"row_heading level0 row5\" >5</th>\n",
       "                        <td id=\"T_bea5779c_9352_11ec_9753_641c6768c502row5_col0\" class=\"data row5 col0\" >Missing Values</td>\n",
       "                        <td id=\"T_bea5779c_9352_11ec_9753_641c6768c502row5_col1\" class=\"data row5 col1\" >False</td>\n",
       "            </tr>\n",
       "            <tr>\n",
       "                        <th id=\"T_bea5779c_9352_11ec_9753_641c6768c502level0_row6\" class=\"row_heading level0 row6\" >6</th>\n",
       "                        <td id=\"T_bea5779c_9352_11ec_9753_641c6768c502row6_col0\" class=\"data row6 col0\" >Numeric Features</td>\n",
       "                        <td id=\"T_bea5779c_9352_11ec_9753_641c6768c502row6_col1\" class=\"data row6 col1\" >4</td>\n",
       "            </tr>\n",
       "            <tr>\n",
       "                        <th id=\"T_bea5779c_9352_11ec_9753_641c6768c502level0_row7\" class=\"row_heading level0 row7\" >7</th>\n",
       "                        <td id=\"T_bea5779c_9352_11ec_9753_641c6768c502row7_col0\" class=\"data row7 col0\" >Categorical Features</td>\n",
       "                        <td id=\"T_bea5779c_9352_11ec_9753_641c6768c502row7_col1\" class=\"data row7 col1\" >0</td>\n",
       "            </tr>\n",
       "            <tr>\n",
       "                        <th id=\"T_bea5779c_9352_11ec_9753_641c6768c502level0_row8\" class=\"row_heading level0 row8\" >8</th>\n",
       "                        <td id=\"T_bea5779c_9352_11ec_9753_641c6768c502row8_col0\" class=\"data row8 col0\" >Ordinal Features</td>\n",
       "                        <td id=\"T_bea5779c_9352_11ec_9753_641c6768c502row8_col1\" class=\"data row8 col1\" >False</td>\n",
       "            </tr>\n",
       "            <tr>\n",
       "                        <th id=\"T_bea5779c_9352_11ec_9753_641c6768c502level0_row9\" class=\"row_heading level0 row9\" >9</th>\n",
       "                        <td id=\"T_bea5779c_9352_11ec_9753_641c6768c502row9_col0\" class=\"data row9 col0\" >High Cardinality Features</td>\n",
       "                        <td id=\"T_bea5779c_9352_11ec_9753_641c6768c502row9_col1\" class=\"data row9 col1\" >False</td>\n",
       "            </tr>\n",
       "            <tr>\n",
       "                        <th id=\"T_bea5779c_9352_11ec_9753_641c6768c502level0_row10\" class=\"row_heading level0 row10\" >10</th>\n",
       "                        <td id=\"T_bea5779c_9352_11ec_9753_641c6768c502row10_col0\" class=\"data row10 col0\" >High Cardinality Method</td>\n",
       "                        <td id=\"T_bea5779c_9352_11ec_9753_641c6768c502row10_col1\" class=\"data row10 col1\" >None</td>\n",
       "            </tr>\n",
       "            <tr>\n",
       "                        <th id=\"T_bea5779c_9352_11ec_9753_641c6768c502level0_row11\" class=\"row_heading level0 row11\" >11</th>\n",
       "                        <td id=\"T_bea5779c_9352_11ec_9753_641c6768c502row11_col0\" class=\"data row11 col0\" >Transformed Train Set</td>\n",
       "                        <td id=\"T_bea5779c_9352_11ec_9753_641c6768c502row11_col1\" class=\"data row11 col1\" >(10498, 4)</td>\n",
       "            </tr>\n",
       "            <tr>\n",
       "                        <th id=\"T_bea5779c_9352_11ec_9753_641c6768c502level0_row12\" class=\"row_heading level0 row12\" >12</th>\n",
       "                        <td id=\"T_bea5779c_9352_11ec_9753_641c6768c502row12_col0\" class=\"data row12 col0\" >Transformed Test Set</td>\n",
       "                        <td id=\"T_bea5779c_9352_11ec_9753_641c6768c502row12_col1\" class=\"data row12 col1\" >(4500, 4)</td>\n",
       "            </tr>\n",
       "            <tr>\n",
       "                        <th id=\"T_bea5779c_9352_11ec_9753_641c6768c502level0_row13\" class=\"row_heading level0 row13\" >13</th>\n",
       "                        <td id=\"T_bea5779c_9352_11ec_9753_641c6768c502row13_col0\" class=\"data row13 col0\" >Shuffle Train-Test</td>\n",
       "                        <td id=\"T_bea5779c_9352_11ec_9753_641c6768c502row13_col1\" class=\"data row13 col1\" >True</td>\n",
       "            </tr>\n",
       "            <tr>\n",
       "                        <th id=\"T_bea5779c_9352_11ec_9753_641c6768c502level0_row14\" class=\"row_heading level0 row14\" >14</th>\n",
       "                        <td id=\"T_bea5779c_9352_11ec_9753_641c6768c502row14_col0\" class=\"data row14 col0\" >Stratify Train-Test</td>\n",
       "                        <td id=\"T_bea5779c_9352_11ec_9753_641c6768c502row14_col1\" class=\"data row14 col1\" >True</td>\n",
       "            </tr>\n",
       "            <tr>\n",
       "                        <th id=\"T_bea5779c_9352_11ec_9753_641c6768c502level0_row15\" class=\"row_heading level0 row15\" >15</th>\n",
       "                        <td id=\"T_bea5779c_9352_11ec_9753_641c6768c502row15_col0\" class=\"data row15 col0\" >Fold Generator</td>\n",
       "                        <td id=\"T_bea5779c_9352_11ec_9753_641c6768c502row15_col1\" class=\"data row15 col1\" >StratifiedKFold</td>\n",
       "            </tr>\n",
       "            <tr>\n",
       "                        <th id=\"T_bea5779c_9352_11ec_9753_641c6768c502level0_row16\" class=\"row_heading level0 row16\" >16</th>\n",
       "                        <td id=\"T_bea5779c_9352_11ec_9753_641c6768c502row16_col0\" class=\"data row16 col0\" >Fold Number</td>\n",
       "                        <td id=\"T_bea5779c_9352_11ec_9753_641c6768c502row16_col1\" class=\"data row16 col1\" >10</td>\n",
       "            </tr>\n",
       "            <tr>\n",
       "                        <th id=\"T_bea5779c_9352_11ec_9753_641c6768c502level0_row17\" class=\"row_heading level0 row17\" >17</th>\n",
       "                        <td id=\"T_bea5779c_9352_11ec_9753_641c6768c502row17_col0\" class=\"data row17 col0\" >CPU Jobs</td>\n",
       "                        <td id=\"T_bea5779c_9352_11ec_9753_641c6768c502row17_col1\" class=\"data row17 col1\" >-1</td>\n",
       "            </tr>\n",
       "            <tr>\n",
       "                        <th id=\"T_bea5779c_9352_11ec_9753_641c6768c502level0_row18\" class=\"row_heading level0 row18\" >18</th>\n",
       "                        <td id=\"T_bea5779c_9352_11ec_9753_641c6768c502row18_col0\" class=\"data row18 col0\" >Use GPU</td>\n",
       "                        <td id=\"T_bea5779c_9352_11ec_9753_641c6768c502row18_col1\" class=\"data row18 col1\" >False</td>\n",
       "            </tr>\n",
       "            <tr>\n",
       "                        <th id=\"T_bea5779c_9352_11ec_9753_641c6768c502level0_row19\" class=\"row_heading level0 row19\" >19</th>\n",
       "                        <td id=\"T_bea5779c_9352_11ec_9753_641c6768c502row19_col0\" class=\"data row19 col0\" >Log Experiment</td>\n",
       "                        <td id=\"T_bea5779c_9352_11ec_9753_641c6768c502row19_col1\" class=\"data row19 col1\" >False</td>\n",
       "            </tr>\n",
       "            <tr>\n",
       "                        <th id=\"T_bea5779c_9352_11ec_9753_641c6768c502level0_row20\" class=\"row_heading level0 row20\" >20</th>\n",
       "                        <td id=\"T_bea5779c_9352_11ec_9753_641c6768c502row20_col0\" class=\"data row20 col0\" >Experiment Name</td>\n",
       "                        <td id=\"T_bea5779c_9352_11ec_9753_641c6768c502row20_col1\" class=\"data row20 col1\" >clf-default-name</td>\n",
       "            </tr>\n",
       "            <tr>\n",
       "                        <th id=\"T_bea5779c_9352_11ec_9753_641c6768c502level0_row21\" class=\"row_heading level0 row21\" >21</th>\n",
       "                        <td id=\"T_bea5779c_9352_11ec_9753_641c6768c502row21_col0\" class=\"data row21 col0\" >USI</td>\n",
       "                        <td id=\"T_bea5779c_9352_11ec_9753_641c6768c502row21_col1\" class=\"data row21 col1\" >65bd</td>\n",
       "            </tr>\n",
       "            <tr>\n",
       "                        <th id=\"T_bea5779c_9352_11ec_9753_641c6768c502level0_row22\" class=\"row_heading level0 row22\" >22</th>\n",
       "                        <td id=\"T_bea5779c_9352_11ec_9753_641c6768c502row22_col0\" class=\"data row22 col0\" >Imputation Type</td>\n",
       "                        <td id=\"T_bea5779c_9352_11ec_9753_641c6768c502row22_col1\" class=\"data row22 col1\" >simple</td>\n",
       "            </tr>\n",
       "            <tr>\n",
       "                        <th id=\"T_bea5779c_9352_11ec_9753_641c6768c502level0_row23\" class=\"row_heading level0 row23\" >23</th>\n",
       "                        <td id=\"T_bea5779c_9352_11ec_9753_641c6768c502row23_col0\" class=\"data row23 col0\" >Iterative Imputation Iteration</td>\n",
       "                        <td id=\"T_bea5779c_9352_11ec_9753_641c6768c502row23_col1\" class=\"data row23 col1\" >None</td>\n",
       "            </tr>\n",
       "            <tr>\n",
       "                        <th id=\"T_bea5779c_9352_11ec_9753_641c6768c502level0_row24\" class=\"row_heading level0 row24\" >24</th>\n",
       "                        <td id=\"T_bea5779c_9352_11ec_9753_641c6768c502row24_col0\" class=\"data row24 col0\" >Numeric Imputer</td>\n",
       "                        <td id=\"T_bea5779c_9352_11ec_9753_641c6768c502row24_col1\" class=\"data row24 col1\" >mean</td>\n",
       "            </tr>\n",
       "            <tr>\n",
       "                        <th id=\"T_bea5779c_9352_11ec_9753_641c6768c502level0_row25\" class=\"row_heading level0 row25\" >25</th>\n",
       "                        <td id=\"T_bea5779c_9352_11ec_9753_641c6768c502row25_col0\" class=\"data row25 col0\" >Iterative Imputation Numeric Model</td>\n",
       "                        <td id=\"T_bea5779c_9352_11ec_9753_641c6768c502row25_col1\" class=\"data row25 col1\" >None</td>\n",
       "            </tr>\n",
       "            <tr>\n",
       "                        <th id=\"T_bea5779c_9352_11ec_9753_641c6768c502level0_row26\" class=\"row_heading level0 row26\" >26</th>\n",
       "                        <td id=\"T_bea5779c_9352_11ec_9753_641c6768c502row26_col0\" class=\"data row26 col0\" >Categorical Imputer</td>\n",
       "                        <td id=\"T_bea5779c_9352_11ec_9753_641c6768c502row26_col1\" class=\"data row26 col1\" >constant</td>\n",
       "            </tr>\n",
       "            <tr>\n",
       "                        <th id=\"T_bea5779c_9352_11ec_9753_641c6768c502level0_row27\" class=\"row_heading level0 row27\" >27</th>\n",
       "                        <td id=\"T_bea5779c_9352_11ec_9753_641c6768c502row27_col0\" class=\"data row27 col0\" >Iterative Imputation Categorical Model</td>\n",
       "                        <td id=\"T_bea5779c_9352_11ec_9753_641c6768c502row27_col1\" class=\"data row27 col1\" >None</td>\n",
       "            </tr>\n",
       "            <tr>\n",
       "                        <th id=\"T_bea5779c_9352_11ec_9753_641c6768c502level0_row28\" class=\"row_heading level0 row28\" >28</th>\n",
       "                        <td id=\"T_bea5779c_9352_11ec_9753_641c6768c502row28_col0\" class=\"data row28 col0\" >Unknown Categoricals Handling</td>\n",
       "                        <td id=\"T_bea5779c_9352_11ec_9753_641c6768c502row28_col1\" class=\"data row28 col1\" >least_frequent</td>\n",
       "            </tr>\n",
       "            <tr>\n",
       "                        <th id=\"T_bea5779c_9352_11ec_9753_641c6768c502level0_row29\" class=\"row_heading level0 row29\" >29</th>\n",
       "                        <td id=\"T_bea5779c_9352_11ec_9753_641c6768c502row29_col0\" class=\"data row29 col0\" >Normalize</td>\n",
       "                        <td id=\"T_bea5779c_9352_11ec_9753_641c6768c502row29_col1\" class=\"data row29 col1\" >True</td>\n",
       "            </tr>\n",
       "            <tr>\n",
       "                        <th id=\"T_bea5779c_9352_11ec_9753_641c6768c502level0_row30\" class=\"row_heading level0 row30\" >30</th>\n",
       "                        <td id=\"T_bea5779c_9352_11ec_9753_641c6768c502row30_col0\" class=\"data row30 col0\" >Normalize Method</td>\n",
       "                        <td id=\"T_bea5779c_9352_11ec_9753_641c6768c502row30_col1\" class=\"data row30 col1\" >minmax</td>\n",
       "            </tr>\n",
       "            <tr>\n",
       "                        <th id=\"T_bea5779c_9352_11ec_9753_641c6768c502level0_row31\" class=\"row_heading level0 row31\" >31</th>\n",
       "                        <td id=\"T_bea5779c_9352_11ec_9753_641c6768c502row31_col0\" class=\"data row31 col0\" >Transformation</td>\n",
       "                        <td id=\"T_bea5779c_9352_11ec_9753_641c6768c502row31_col1\" class=\"data row31 col1\" >False</td>\n",
       "            </tr>\n",
       "            <tr>\n",
       "                        <th id=\"T_bea5779c_9352_11ec_9753_641c6768c502level0_row32\" class=\"row_heading level0 row32\" >32</th>\n",
       "                        <td id=\"T_bea5779c_9352_11ec_9753_641c6768c502row32_col0\" class=\"data row32 col0\" >Transformation Method</td>\n",
       "                        <td id=\"T_bea5779c_9352_11ec_9753_641c6768c502row32_col1\" class=\"data row32 col1\" >None</td>\n",
       "            </tr>\n",
       "            <tr>\n",
       "                        <th id=\"T_bea5779c_9352_11ec_9753_641c6768c502level0_row33\" class=\"row_heading level0 row33\" >33</th>\n",
       "                        <td id=\"T_bea5779c_9352_11ec_9753_641c6768c502row33_col0\" class=\"data row33 col0\" >PCA</td>\n",
       "                        <td id=\"T_bea5779c_9352_11ec_9753_641c6768c502row33_col1\" class=\"data row33 col1\" >False</td>\n",
       "            </tr>\n",
       "            <tr>\n",
       "                        <th id=\"T_bea5779c_9352_11ec_9753_641c6768c502level0_row34\" class=\"row_heading level0 row34\" >34</th>\n",
       "                        <td id=\"T_bea5779c_9352_11ec_9753_641c6768c502row34_col0\" class=\"data row34 col0\" >PCA Method</td>\n",
       "                        <td id=\"T_bea5779c_9352_11ec_9753_641c6768c502row34_col1\" class=\"data row34 col1\" >None</td>\n",
       "            </tr>\n",
       "            <tr>\n",
       "                        <th id=\"T_bea5779c_9352_11ec_9753_641c6768c502level0_row35\" class=\"row_heading level0 row35\" >35</th>\n",
       "                        <td id=\"T_bea5779c_9352_11ec_9753_641c6768c502row35_col0\" class=\"data row35 col0\" >PCA Components</td>\n",
       "                        <td id=\"T_bea5779c_9352_11ec_9753_641c6768c502row35_col1\" class=\"data row35 col1\" >None</td>\n",
       "            </tr>\n",
       "            <tr>\n",
       "                        <th id=\"T_bea5779c_9352_11ec_9753_641c6768c502level0_row36\" class=\"row_heading level0 row36\" >36</th>\n",
       "                        <td id=\"T_bea5779c_9352_11ec_9753_641c6768c502row36_col0\" class=\"data row36 col0\" >Ignore Low Variance</td>\n",
       "                        <td id=\"T_bea5779c_9352_11ec_9753_641c6768c502row36_col1\" class=\"data row36 col1\" >False</td>\n",
       "            </tr>\n",
       "            <tr>\n",
       "                        <th id=\"T_bea5779c_9352_11ec_9753_641c6768c502level0_row37\" class=\"row_heading level0 row37\" >37</th>\n",
       "                        <td id=\"T_bea5779c_9352_11ec_9753_641c6768c502row37_col0\" class=\"data row37 col0\" >Combine Rare Levels</td>\n",
       "                        <td id=\"T_bea5779c_9352_11ec_9753_641c6768c502row37_col1\" class=\"data row37 col1\" >False</td>\n",
       "            </tr>\n",
       "            <tr>\n",
       "                        <th id=\"T_bea5779c_9352_11ec_9753_641c6768c502level0_row38\" class=\"row_heading level0 row38\" >38</th>\n",
       "                        <td id=\"T_bea5779c_9352_11ec_9753_641c6768c502row38_col0\" class=\"data row38 col0\" >Rare Level Threshold</td>\n",
       "                        <td id=\"T_bea5779c_9352_11ec_9753_641c6768c502row38_col1\" class=\"data row38 col1\" >None</td>\n",
       "            </tr>\n",
       "            <tr>\n",
       "                        <th id=\"T_bea5779c_9352_11ec_9753_641c6768c502level0_row39\" class=\"row_heading level0 row39\" >39</th>\n",
       "                        <td id=\"T_bea5779c_9352_11ec_9753_641c6768c502row39_col0\" class=\"data row39 col0\" >Numeric Binning</td>\n",
       "                        <td id=\"T_bea5779c_9352_11ec_9753_641c6768c502row39_col1\" class=\"data row39 col1\" >False</td>\n",
       "            </tr>\n",
       "            <tr>\n",
       "                        <th id=\"T_bea5779c_9352_11ec_9753_641c6768c502level0_row40\" class=\"row_heading level0 row40\" >40</th>\n",
       "                        <td id=\"T_bea5779c_9352_11ec_9753_641c6768c502row40_col0\" class=\"data row40 col0\" >Remove Outliers</td>\n",
       "                        <td id=\"T_bea5779c_9352_11ec_9753_641c6768c502row40_col1\" class=\"data row40 col1\" >False</td>\n",
       "            </tr>\n",
       "            <tr>\n",
       "                        <th id=\"T_bea5779c_9352_11ec_9753_641c6768c502level0_row41\" class=\"row_heading level0 row41\" >41</th>\n",
       "                        <td id=\"T_bea5779c_9352_11ec_9753_641c6768c502row41_col0\" class=\"data row41 col0\" >Outliers Threshold</td>\n",
       "                        <td id=\"T_bea5779c_9352_11ec_9753_641c6768c502row41_col1\" class=\"data row41 col1\" >None</td>\n",
       "            </tr>\n",
       "            <tr>\n",
       "                        <th id=\"T_bea5779c_9352_11ec_9753_641c6768c502level0_row42\" class=\"row_heading level0 row42\" >42</th>\n",
       "                        <td id=\"T_bea5779c_9352_11ec_9753_641c6768c502row42_col0\" class=\"data row42 col0\" >Remove Multicollinearity</td>\n",
       "                        <td id=\"T_bea5779c_9352_11ec_9753_641c6768c502row42_col1\" class=\"data row42 col1\" >False</td>\n",
       "            </tr>\n",
       "            <tr>\n",
       "                        <th id=\"T_bea5779c_9352_11ec_9753_641c6768c502level0_row43\" class=\"row_heading level0 row43\" >43</th>\n",
       "                        <td id=\"T_bea5779c_9352_11ec_9753_641c6768c502row43_col0\" class=\"data row43 col0\" >Multicollinearity Threshold</td>\n",
       "                        <td id=\"T_bea5779c_9352_11ec_9753_641c6768c502row43_col1\" class=\"data row43 col1\" >None</td>\n",
       "            </tr>\n",
       "            <tr>\n",
       "                        <th id=\"T_bea5779c_9352_11ec_9753_641c6768c502level0_row44\" class=\"row_heading level0 row44\" >44</th>\n",
       "                        <td id=\"T_bea5779c_9352_11ec_9753_641c6768c502row44_col0\" class=\"data row44 col0\" >Remove Perfect Collinearity</td>\n",
       "                        <td id=\"T_bea5779c_9352_11ec_9753_641c6768c502row44_col1\" class=\"data row44 col1\" >True</td>\n",
       "            </tr>\n",
       "            <tr>\n",
       "                        <th id=\"T_bea5779c_9352_11ec_9753_641c6768c502level0_row45\" class=\"row_heading level0 row45\" >45</th>\n",
       "                        <td id=\"T_bea5779c_9352_11ec_9753_641c6768c502row45_col0\" class=\"data row45 col0\" >Clustering</td>\n",
       "                        <td id=\"T_bea5779c_9352_11ec_9753_641c6768c502row45_col1\" class=\"data row45 col1\" >False</td>\n",
       "            </tr>\n",
       "            <tr>\n",
       "                        <th id=\"T_bea5779c_9352_11ec_9753_641c6768c502level0_row46\" class=\"row_heading level0 row46\" >46</th>\n",
       "                        <td id=\"T_bea5779c_9352_11ec_9753_641c6768c502row46_col0\" class=\"data row46 col0\" >Clustering Iteration</td>\n",
       "                        <td id=\"T_bea5779c_9352_11ec_9753_641c6768c502row46_col1\" class=\"data row46 col1\" >None</td>\n",
       "            </tr>\n",
       "            <tr>\n",
       "                        <th id=\"T_bea5779c_9352_11ec_9753_641c6768c502level0_row47\" class=\"row_heading level0 row47\" >47</th>\n",
       "                        <td id=\"T_bea5779c_9352_11ec_9753_641c6768c502row47_col0\" class=\"data row47 col0\" >Polynomial Features</td>\n",
       "                        <td id=\"T_bea5779c_9352_11ec_9753_641c6768c502row47_col1\" class=\"data row47 col1\" >False</td>\n",
       "            </tr>\n",
       "            <tr>\n",
       "                        <th id=\"T_bea5779c_9352_11ec_9753_641c6768c502level0_row48\" class=\"row_heading level0 row48\" >48</th>\n",
       "                        <td id=\"T_bea5779c_9352_11ec_9753_641c6768c502row48_col0\" class=\"data row48 col0\" >Polynomial Degree</td>\n",
       "                        <td id=\"T_bea5779c_9352_11ec_9753_641c6768c502row48_col1\" class=\"data row48 col1\" >None</td>\n",
       "            </tr>\n",
       "            <tr>\n",
       "                        <th id=\"T_bea5779c_9352_11ec_9753_641c6768c502level0_row49\" class=\"row_heading level0 row49\" >49</th>\n",
       "                        <td id=\"T_bea5779c_9352_11ec_9753_641c6768c502row49_col0\" class=\"data row49 col0\" >Trignometry Features</td>\n",
       "                        <td id=\"T_bea5779c_9352_11ec_9753_641c6768c502row49_col1\" class=\"data row49 col1\" >False</td>\n",
       "            </tr>\n",
       "            <tr>\n",
       "                        <th id=\"T_bea5779c_9352_11ec_9753_641c6768c502level0_row50\" class=\"row_heading level0 row50\" >50</th>\n",
       "                        <td id=\"T_bea5779c_9352_11ec_9753_641c6768c502row50_col0\" class=\"data row50 col0\" >Polynomial Threshold</td>\n",
       "                        <td id=\"T_bea5779c_9352_11ec_9753_641c6768c502row50_col1\" class=\"data row50 col1\" >None</td>\n",
       "            </tr>\n",
       "            <tr>\n",
       "                        <th id=\"T_bea5779c_9352_11ec_9753_641c6768c502level0_row51\" class=\"row_heading level0 row51\" >51</th>\n",
       "                        <td id=\"T_bea5779c_9352_11ec_9753_641c6768c502row51_col0\" class=\"data row51 col0\" >Group Features</td>\n",
       "                        <td id=\"T_bea5779c_9352_11ec_9753_641c6768c502row51_col1\" class=\"data row51 col1\" >False</td>\n",
       "            </tr>\n",
       "            <tr>\n",
       "                        <th id=\"T_bea5779c_9352_11ec_9753_641c6768c502level0_row52\" class=\"row_heading level0 row52\" >52</th>\n",
       "                        <td id=\"T_bea5779c_9352_11ec_9753_641c6768c502row52_col0\" class=\"data row52 col0\" >Feature Selection</td>\n",
       "                        <td id=\"T_bea5779c_9352_11ec_9753_641c6768c502row52_col1\" class=\"data row52 col1\" >False</td>\n",
       "            </tr>\n",
       "            <tr>\n",
       "                        <th id=\"T_bea5779c_9352_11ec_9753_641c6768c502level0_row53\" class=\"row_heading level0 row53\" >53</th>\n",
       "                        <td id=\"T_bea5779c_9352_11ec_9753_641c6768c502row53_col0\" class=\"data row53 col0\" >Feature Selection Method</td>\n",
       "                        <td id=\"T_bea5779c_9352_11ec_9753_641c6768c502row53_col1\" class=\"data row53 col1\" >classic</td>\n",
       "            </tr>\n",
       "            <tr>\n",
       "                        <th id=\"T_bea5779c_9352_11ec_9753_641c6768c502level0_row54\" class=\"row_heading level0 row54\" >54</th>\n",
       "                        <td id=\"T_bea5779c_9352_11ec_9753_641c6768c502row54_col0\" class=\"data row54 col0\" >Features Selection Threshold</td>\n",
       "                        <td id=\"T_bea5779c_9352_11ec_9753_641c6768c502row54_col1\" class=\"data row54 col1\" >None</td>\n",
       "            </tr>\n",
       "            <tr>\n",
       "                        <th id=\"T_bea5779c_9352_11ec_9753_641c6768c502level0_row55\" class=\"row_heading level0 row55\" >55</th>\n",
       "                        <td id=\"T_bea5779c_9352_11ec_9753_641c6768c502row55_col0\" class=\"data row55 col0\" >Feature Interaction</td>\n",
       "                        <td id=\"T_bea5779c_9352_11ec_9753_641c6768c502row55_col1\" class=\"data row55 col1\" >False</td>\n",
       "            </tr>\n",
       "            <tr>\n",
       "                        <th id=\"T_bea5779c_9352_11ec_9753_641c6768c502level0_row56\" class=\"row_heading level0 row56\" >56</th>\n",
       "                        <td id=\"T_bea5779c_9352_11ec_9753_641c6768c502row56_col0\" class=\"data row56 col0\" >Feature Ratio</td>\n",
       "                        <td id=\"T_bea5779c_9352_11ec_9753_641c6768c502row56_col1\" class=\"data row56 col1\" >False</td>\n",
       "            </tr>\n",
       "            <tr>\n",
       "                        <th id=\"T_bea5779c_9352_11ec_9753_641c6768c502level0_row57\" class=\"row_heading level0 row57\" >57</th>\n",
       "                        <td id=\"T_bea5779c_9352_11ec_9753_641c6768c502row57_col0\" class=\"data row57 col0\" >Interaction Threshold</td>\n",
       "                        <td id=\"T_bea5779c_9352_11ec_9753_641c6768c502row57_col1\" class=\"data row57 col1\" >None</td>\n",
       "            </tr>\n",
       "            <tr>\n",
       "                        <th id=\"T_bea5779c_9352_11ec_9753_641c6768c502level0_row58\" class=\"row_heading level0 row58\" >58</th>\n",
       "                        <td id=\"T_bea5779c_9352_11ec_9753_641c6768c502row58_col0\" class=\"data row58 col0\" >Fix Imbalance</td>\n",
       "                        <td id=\"T_bea5779c_9352_11ec_9753_641c6768c502row58_col1\" class=\"data row58 col1\" >True</td>\n",
       "            </tr>\n",
       "            <tr>\n",
       "                        <th id=\"T_bea5779c_9352_11ec_9753_641c6768c502level0_row59\" class=\"row_heading level0 row59\" >59</th>\n",
       "                        <td id=\"T_bea5779c_9352_11ec_9753_641c6768c502row59_col0\" class=\"data row59 col0\" >Fix Imbalance Method</td>\n",
       "                        <td id=\"T_bea5779c_9352_11ec_9753_641c6768c502row59_col1\" class=\"data row59 col1\" >SMOTE</td>\n",
       "            </tr>\n",
       "    </tbody></table>"
      ],
      "text/plain": [
       "<pandas.io.formats.style.Styler at 0x1c905602a90>"
      ]
     },
     "metadata": {},
     "output_type": "display_data"
    }
   ],
   "source": [
    "s = setup( df[[\"satisfaction\",\"evaluation\",\"averageMonthlyHours\",\"yearsAtCompany\",\"turnover\"]]\n",
    "          ,target = \"turnover\"\n",
    "          ,numeric_features = [\"yearsAtCompany\", \"averageMonthlyHours\"]\n",
    "          ,normalize = True\n",
    "          ,normalize_method = \"minmax\"\n",
    "          ,data_split_stratify = True\n",
    "          ,fix_imbalance = True,\n",
    "         )"
   ]
  },
  {
   "cell_type": "markdown",
   "metadata": {
    "tags": []
   },
   "source": [
    "#### Comparando diferentes modelos."
   ]
  },
  {
   "cell_type": "code",
   "execution_count": 60,
   "metadata": {},
   "outputs": [
    {
     "data": {
      "text/html": [
       "<style  type=\"text/css\" >\n",
       "    #T_3dc7ed32_9342_11ec_a18a_641c6768c502 th {\n",
       "          text-align: left;\n",
       "    }#T_3dc7ed32_9342_11ec_a18a_641c6768c502row0_col0,#T_3dc7ed32_9342_11ec_a18a_641c6768c502row0_col1,#T_3dc7ed32_9342_11ec_a18a_641c6768c502row0_col3,#T_3dc7ed32_9342_11ec_a18a_641c6768c502row0_col4,#T_3dc7ed32_9342_11ec_a18a_641c6768c502row0_col5,#T_3dc7ed32_9342_11ec_a18a_641c6768c502row0_col6,#T_3dc7ed32_9342_11ec_a18a_641c6768c502row0_col7,#T_3dc7ed32_9342_11ec_a18a_641c6768c502row1_col0,#T_3dc7ed32_9342_11ec_a18a_641c6768c502row1_col2,#T_3dc7ed32_9342_11ec_a18a_641c6768c502row1_col3,#T_3dc7ed32_9342_11ec_a18a_641c6768c502row2_col0,#T_3dc7ed32_9342_11ec_a18a_641c6768c502row2_col1,#T_3dc7ed32_9342_11ec_a18a_641c6768c502row2_col2,#T_3dc7ed32_9342_11ec_a18a_641c6768c502row2_col3,#T_3dc7ed32_9342_11ec_a18a_641c6768c502row2_col4,#T_3dc7ed32_9342_11ec_a18a_641c6768c502row2_col5,#T_3dc7ed32_9342_11ec_a18a_641c6768c502row2_col6,#T_3dc7ed32_9342_11ec_a18a_641c6768c502row2_col7,#T_3dc7ed32_9342_11ec_a18a_641c6768c502row3_col0,#T_3dc7ed32_9342_11ec_a18a_641c6768c502row3_col1,#T_3dc7ed32_9342_11ec_a18a_641c6768c502row3_col2,#T_3dc7ed32_9342_11ec_a18a_641c6768c502row3_col3,#T_3dc7ed32_9342_11ec_a18a_641c6768c502row3_col4,#T_3dc7ed32_9342_11ec_a18a_641c6768c502row3_col5,#T_3dc7ed32_9342_11ec_a18a_641c6768c502row3_col6,#T_3dc7ed32_9342_11ec_a18a_641c6768c502row3_col7,#T_3dc7ed32_9342_11ec_a18a_641c6768c502row4_col0,#T_3dc7ed32_9342_11ec_a18a_641c6768c502row4_col1,#T_3dc7ed32_9342_11ec_a18a_641c6768c502row4_col2,#T_3dc7ed32_9342_11ec_a18a_641c6768c502row4_col3,#T_3dc7ed32_9342_11ec_a18a_641c6768c502row4_col4,#T_3dc7ed32_9342_11ec_a18a_641c6768c502row4_col5,#T_3dc7ed32_9342_11ec_a18a_641c6768c502row4_col6,#T_3dc7ed32_9342_11ec_a18a_641c6768c502row4_col7,#T_3dc7ed32_9342_11ec_a18a_641c6768c502row5_col0,#T_3dc7ed32_9342_11ec_a18a_641c6768c502row5_col1,#T_3dc7ed32_9342_11ec_a18a_641c6768c502row5_col2,#T_3dc7ed32_9342_11ec_a18a_641c6768c502row5_col4,#T_3dc7ed32_9342_11ec_a18a_641c6768c502row5_col5,#T_3dc7ed32_9342_11ec_a18a_641c6768c502row5_col6,#T_3dc7ed32_9342_11ec_a18a_641c6768c502row5_col7,#T_3dc7ed32_9342_11ec_a18a_641c6768c502row6_col0,#T_3dc7ed32_9342_11ec_a18a_641c6768c502row6_col1,#T_3dc7ed32_9342_11ec_a18a_641c6768c502row6_col2,#T_3dc7ed32_9342_11ec_a18a_641c6768c502row6_col3,#T_3dc7ed32_9342_11ec_a18a_641c6768c502row6_col4,#T_3dc7ed32_9342_11ec_a18a_641c6768c502row6_col5,#T_3dc7ed32_9342_11ec_a18a_641c6768c502row6_col6,#T_3dc7ed32_9342_11ec_a18a_641c6768c502row6_col7,#T_3dc7ed32_9342_11ec_a18a_641c6768c502row7_col0,#T_3dc7ed32_9342_11ec_a18a_641c6768c502row7_col1,#T_3dc7ed32_9342_11ec_a18a_641c6768c502row7_col2,#T_3dc7ed32_9342_11ec_a18a_641c6768c502row7_col3,#T_3dc7ed32_9342_11ec_a18a_641c6768c502row7_col4,#T_3dc7ed32_9342_11ec_a18a_641c6768c502row7_col5,#T_3dc7ed32_9342_11ec_a18a_641c6768c502row7_col6,#T_3dc7ed32_9342_11ec_a18a_641c6768c502row7_col7,#T_3dc7ed32_9342_11ec_a18a_641c6768c502row8_col0,#T_3dc7ed32_9342_11ec_a18a_641c6768c502row8_col1,#T_3dc7ed32_9342_11ec_a18a_641c6768c502row8_col2,#T_3dc7ed32_9342_11ec_a18a_641c6768c502row8_col3,#T_3dc7ed32_9342_11ec_a18a_641c6768c502row8_col4,#T_3dc7ed32_9342_11ec_a18a_641c6768c502row8_col5,#T_3dc7ed32_9342_11ec_a18a_641c6768c502row8_col6,#T_3dc7ed32_9342_11ec_a18a_641c6768c502row8_col7,#T_3dc7ed32_9342_11ec_a18a_641c6768c502row9_col0,#T_3dc7ed32_9342_11ec_a18a_641c6768c502row9_col1,#T_3dc7ed32_9342_11ec_a18a_641c6768c502row9_col2,#T_3dc7ed32_9342_11ec_a18a_641c6768c502row9_col3,#T_3dc7ed32_9342_11ec_a18a_641c6768c502row9_col4,#T_3dc7ed32_9342_11ec_a18a_641c6768c502row9_col5,#T_3dc7ed32_9342_11ec_a18a_641c6768c502row9_col6,#T_3dc7ed32_9342_11ec_a18a_641c6768c502row9_col7,#T_3dc7ed32_9342_11ec_a18a_641c6768c502row10_col0,#T_3dc7ed32_9342_11ec_a18a_641c6768c502row10_col1,#T_3dc7ed32_9342_11ec_a18a_641c6768c502row10_col2,#T_3dc7ed32_9342_11ec_a18a_641c6768c502row10_col3,#T_3dc7ed32_9342_11ec_a18a_641c6768c502row10_col4,#T_3dc7ed32_9342_11ec_a18a_641c6768c502row10_col5,#T_3dc7ed32_9342_11ec_a18a_641c6768c502row10_col6,#T_3dc7ed32_9342_11ec_a18a_641c6768c502row10_col7,#T_3dc7ed32_9342_11ec_a18a_641c6768c502row11_col0,#T_3dc7ed32_9342_11ec_a18a_641c6768c502row11_col1,#T_3dc7ed32_9342_11ec_a18a_641c6768c502row11_col2,#T_3dc7ed32_9342_11ec_a18a_641c6768c502row11_col3,#T_3dc7ed32_9342_11ec_a18a_641c6768c502row11_col4,#T_3dc7ed32_9342_11ec_a18a_641c6768c502row11_col5,#T_3dc7ed32_9342_11ec_a18a_641c6768c502row11_col6,#T_3dc7ed32_9342_11ec_a18a_641c6768c502row11_col7,#T_3dc7ed32_9342_11ec_a18a_641c6768c502row12_col0,#T_3dc7ed32_9342_11ec_a18a_641c6768c502row12_col1,#T_3dc7ed32_9342_11ec_a18a_641c6768c502row12_col2,#T_3dc7ed32_9342_11ec_a18a_641c6768c502row12_col3,#T_3dc7ed32_9342_11ec_a18a_641c6768c502row12_col4,#T_3dc7ed32_9342_11ec_a18a_641c6768c502row12_col5,#T_3dc7ed32_9342_11ec_a18a_641c6768c502row12_col6,#T_3dc7ed32_9342_11ec_a18a_641c6768c502row12_col7{\n",
       "            text-align:  left;\n",
       "            text-align:  left;\n",
       "        }#T_3dc7ed32_9342_11ec_a18a_641c6768c502row0_col2,#T_3dc7ed32_9342_11ec_a18a_641c6768c502row1_col1,#T_3dc7ed32_9342_11ec_a18a_641c6768c502row1_col4,#T_3dc7ed32_9342_11ec_a18a_641c6768c502row1_col5,#T_3dc7ed32_9342_11ec_a18a_641c6768c502row1_col6,#T_3dc7ed32_9342_11ec_a18a_641c6768c502row1_col7,#T_3dc7ed32_9342_11ec_a18a_641c6768c502row5_col3{\n",
       "            text-align:  left;\n",
       "            text-align:  left;\n",
       "            background-color:  yellow;\n",
       "        }#T_3dc7ed32_9342_11ec_a18a_641c6768c502row0_col8,#T_3dc7ed32_9342_11ec_a18a_641c6768c502row1_col8,#T_3dc7ed32_9342_11ec_a18a_641c6768c502row2_col8,#T_3dc7ed32_9342_11ec_a18a_641c6768c502row3_col8,#T_3dc7ed32_9342_11ec_a18a_641c6768c502row4_col8,#T_3dc7ed32_9342_11ec_a18a_641c6768c502row5_col8,#T_3dc7ed32_9342_11ec_a18a_641c6768c502row6_col8,#T_3dc7ed32_9342_11ec_a18a_641c6768c502row8_col8,#T_3dc7ed32_9342_11ec_a18a_641c6768c502row9_col8,#T_3dc7ed32_9342_11ec_a18a_641c6768c502row10_col8,#T_3dc7ed32_9342_11ec_a18a_641c6768c502row11_col8,#T_3dc7ed32_9342_11ec_a18a_641c6768c502row12_col8{\n",
       "            text-align:  left;\n",
       "            text-align:  left;\n",
       "            background-color:  lightgrey;\n",
       "        }#T_3dc7ed32_9342_11ec_a18a_641c6768c502row7_col8{\n",
       "            text-align:  left;\n",
       "            text-align:  left;\n",
       "            background-color:  yellow;\n",
       "            background-color:  lightgrey;\n",
       "        }</style><table id=\"T_3dc7ed32_9342_11ec_a18a_641c6768c502\" ><thead>    <tr>        <th class=\"blank level0\" ></th>        <th class=\"col_heading level0 col0\" >Model</th>        <th class=\"col_heading level0 col1\" >Accuracy</th>        <th class=\"col_heading level0 col2\" >AUC</th>        <th class=\"col_heading level0 col3\" >Recall</th>        <th class=\"col_heading level0 col4\" >Prec.</th>        <th class=\"col_heading level0 col5\" >F1</th>        <th class=\"col_heading level0 col6\" >Kappa</th>        <th class=\"col_heading level0 col7\" >MCC</th>        <th class=\"col_heading level0 col8\" >TT (Sec)</th>    </tr></thead><tbody>\n",
       "                <tr>\n",
       "                        <th id=\"T_3dc7ed32_9342_11ec_a18a_641c6768c502level0_row0\" class=\"row_heading level0 row0\" >gbc</th>\n",
       "                        <td id=\"T_3dc7ed32_9342_11ec_a18a_641c6768c502row0_col0\" class=\"data row0 col0\" >Gradient Boosting Classifier</td>\n",
       "                        <td id=\"T_3dc7ed32_9342_11ec_a18a_641c6768c502row0_col1\" class=\"data row0 col1\" >0.8230</td>\n",
       "                        <td id=\"T_3dc7ed32_9342_11ec_a18a_641c6768c502row0_col2\" class=\"data row0 col2\" >0.8051</td>\n",
       "                        <td id=\"T_3dc7ed32_9342_11ec_a18a_641c6768c502row0_col3\" class=\"data row0 col3\" >0.6943</td>\n",
       "                        <td id=\"T_3dc7ed32_9342_11ec_a18a_641c6768c502row0_col4\" class=\"data row0 col4\" >0.6135</td>\n",
       "                        <td id=\"T_3dc7ed32_9342_11ec_a18a_641c6768c502row0_col5\" class=\"data row0 col5\" >0.6513</td>\n",
       "                        <td id=\"T_3dc7ed32_9342_11ec_a18a_641c6768c502row0_col6\" class=\"data row0 col6\" >0.5334</td>\n",
       "                        <td id=\"T_3dc7ed32_9342_11ec_a18a_641c6768c502row0_col7\" class=\"data row0 col7\" >0.5353</td>\n",
       "                        <td id=\"T_3dc7ed32_9342_11ec_a18a_641c6768c502row0_col8\" class=\"data row0 col8\" >1.4380</td>\n",
       "            </tr>\n",
       "            <tr>\n",
       "                        <th id=\"T_3dc7ed32_9342_11ec_a18a_641c6768c502level0_row1\" class=\"row_heading level0 row1\" >lightgbm</th>\n",
       "                        <td id=\"T_3dc7ed32_9342_11ec_a18a_641c6768c502row1_col0\" class=\"data row1 col0\" >Light Gradient Boosting Machine</td>\n",
       "                        <td id=\"T_3dc7ed32_9342_11ec_a18a_641c6768c502row1_col1\" class=\"data row1 col1\" >0.8438</td>\n",
       "                        <td id=\"T_3dc7ed32_9342_11ec_a18a_641c6768c502row1_col2\" class=\"data row1 col2\" >0.8040</td>\n",
       "                        <td id=\"T_3dc7ed32_9342_11ec_a18a_641c6768c502row1_col3\" class=\"data row1 col3\" >0.6583</td>\n",
       "                        <td id=\"T_3dc7ed32_9342_11ec_a18a_641c6768c502row1_col4\" class=\"data row1 col4\" >0.6771</td>\n",
       "                        <td id=\"T_3dc7ed32_9342_11ec_a18a_641c6768c502row1_col5\" class=\"data row1 col5\" >0.6674</td>\n",
       "                        <td id=\"T_3dc7ed32_9342_11ec_a18a_641c6768c502row1_col6\" class=\"data row1 col6\" >0.5654</td>\n",
       "                        <td id=\"T_3dc7ed32_9342_11ec_a18a_641c6768c502row1_col7\" class=\"data row1 col7\" >0.5656</td>\n",
       "                        <td id=\"T_3dc7ed32_9342_11ec_a18a_641c6768c502row1_col8\" class=\"data row1 col8\" >0.7820</td>\n",
       "            </tr>\n",
       "            <tr>\n",
       "                        <th id=\"T_3dc7ed32_9342_11ec_a18a_641c6768c502level0_row2\" class=\"row_heading level0 row2\" >ada</th>\n",
       "                        <td id=\"T_3dc7ed32_9342_11ec_a18a_641c6768c502row2_col0\" class=\"data row2 col0\" >Ada Boost Classifier</td>\n",
       "                        <td id=\"T_3dc7ed32_9342_11ec_a18a_641c6768c502row2_col1\" class=\"data row2 col1\" >0.8004</td>\n",
       "                        <td id=\"T_3dc7ed32_9342_11ec_a18a_641c6768c502row2_col2\" class=\"data row2 col2\" >0.7973</td>\n",
       "                        <td id=\"T_3dc7ed32_9342_11ec_a18a_641c6768c502row2_col3\" class=\"data row2 col3\" >0.7023</td>\n",
       "                        <td id=\"T_3dc7ed32_9342_11ec_a18a_641c6768c502row2_col4\" class=\"data row2 col4\" >0.5652</td>\n",
       "                        <td id=\"T_3dc7ed32_9342_11ec_a18a_641c6768c502row2_col5\" class=\"data row2 col5\" >0.6262</td>\n",
       "                        <td id=\"T_3dc7ed32_9342_11ec_a18a_641c6768c502row2_col6\" class=\"data row2 col6\" >0.4923</td>\n",
       "                        <td id=\"T_3dc7ed32_9342_11ec_a18a_641c6768c502row2_col7\" class=\"data row2 col7\" >0.4978</td>\n",
       "                        <td id=\"T_3dc7ed32_9342_11ec_a18a_641c6768c502row2_col8\" class=\"data row2 col8\" >0.7700</td>\n",
       "            </tr>\n",
       "            <tr>\n",
       "                        <th id=\"T_3dc7ed32_9342_11ec_a18a_641c6768c502level0_row3\" class=\"row_heading level0 row3\" >rf</th>\n",
       "                        <td id=\"T_3dc7ed32_9342_11ec_a18a_641c6768c502row3_col0\" class=\"data row3 col0\" >Random Forest Classifier</td>\n",
       "                        <td id=\"T_3dc7ed32_9342_11ec_a18a_641c6768c502row3_col1\" class=\"data row3 col1\" >0.8128</td>\n",
       "                        <td id=\"T_3dc7ed32_9342_11ec_a18a_641c6768c502row3_col2\" class=\"data row3 col2\" >0.7831</td>\n",
       "                        <td id=\"T_3dc7ed32_9342_11ec_a18a_641c6768c502row3_col3\" class=\"data row3 col3\" >0.5634</td>\n",
       "                        <td id=\"T_3dc7ed32_9342_11ec_a18a_641c6768c502row3_col4\" class=\"data row3 col4\" >0.6172</td>\n",
       "                        <td id=\"T_3dc7ed32_9342_11ec_a18a_641c6768c502row3_col5\" class=\"data row3 col5\" >0.5887</td>\n",
       "                        <td id=\"T_3dc7ed32_9342_11ec_a18a_641c6768c502row3_col6\" class=\"data row3 col6\" >0.4680</td>\n",
       "                        <td id=\"T_3dc7ed32_9342_11ec_a18a_641c6768c502row3_col7\" class=\"data row3 col7\" >0.4690</td>\n",
       "                        <td id=\"T_3dc7ed32_9342_11ec_a18a_641c6768c502row3_col8\" class=\"data row3 col8\" >4.6400</td>\n",
       "            </tr>\n",
       "            <tr>\n",
       "                        <th id=\"T_3dc7ed32_9342_11ec_a18a_641c6768c502level0_row4\" class=\"row_heading level0 row4\" >knn</th>\n",
       "                        <td id=\"T_3dc7ed32_9342_11ec_a18a_641c6768c502row4_col0\" class=\"data row4 col0\" >K Neighbors Classifier</td>\n",
       "                        <td id=\"T_3dc7ed32_9342_11ec_a18a_641c6768c502row4_col1\" class=\"data row4 col1\" >0.7377</td>\n",
       "                        <td id=\"T_3dc7ed32_9342_11ec_a18a_641c6768c502row4_col2\" class=\"data row4 col2\" >0.7622</td>\n",
       "                        <td id=\"T_3dc7ed32_9342_11ec_a18a_641c6768c502row4_col3\" class=\"data row4 col3\" >0.6939</td>\n",
       "                        <td id=\"T_3dc7ed32_9342_11ec_a18a_641c6768c502row4_col4\" class=\"data row4 col4\" >0.4658</td>\n",
       "                        <td id=\"T_3dc7ed32_9342_11ec_a18a_641c6768c502row4_col5\" class=\"data row4 col5\" >0.5574</td>\n",
       "                        <td id=\"T_3dc7ed32_9342_11ec_a18a_641c6768c502row4_col6\" class=\"data row4 col6\" >0.3811</td>\n",
       "                        <td id=\"T_3dc7ed32_9342_11ec_a18a_641c6768c502row4_col7\" class=\"data row4 col7\" >0.3964</td>\n",
       "                        <td id=\"T_3dc7ed32_9342_11ec_a18a_641c6768c502row4_col8\" class=\"data row4 col8\" >0.2420</td>\n",
       "            </tr>\n",
       "            <tr>\n",
       "                        <th id=\"T_3dc7ed32_9342_11ec_a18a_641c6768c502level0_row5\" class=\"row_heading level0 row5\" >qda</th>\n",
       "                        <td id=\"T_3dc7ed32_9342_11ec_a18a_641c6768c502row5_col0\" class=\"data row5 col0\" >Quadratic Discriminant Analysis</td>\n",
       "                        <td id=\"T_3dc7ed32_9342_11ec_a18a_641c6768c502row5_col1\" class=\"data row5 col1\" >0.7223</td>\n",
       "                        <td id=\"T_3dc7ed32_9342_11ec_a18a_641c6768c502row5_col2\" class=\"data row5 col2\" >0.7597</td>\n",
       "                        <td id=\"T_3dc7ed32_9342_11ec_a18a_641c6768c502row5_col3\" class=\"data row5 col3\" >0.7523</td>\n",
       "                        <td id=\"T_3dc7ed32_9342_11ec_a18a_641c6768c502row5_col4\" class=\"data row5 col4\" >0.4504</td>\n",
       "                        <td id=\"T_3dc7ed32_9342_11ec_a18a_641c6768c502row5_col5\" class=\"data row5 col5\" >0.5634</td>\n",
       "                        <td id=\"T_3dc7ed32_9342_11ec_a18a_641c6768c502row5_col6\" class=\"data row5 col6\" >0.3782</td>\n",
       "                        <td id=\"T_3dc7ed32_9342_11ec_a18a_641c6768c502row5_col7\" class=\"data row5 col7\" >0.4050</td>\n",
       "                        <td id=\"T_3dc7ed32_9342_11ec_a18a_641c6768c502row5_col8\" class=\"data row5 col8\" >0.0680</td>\n",
       "            </tr>\n",
       "            <tr>\n",
       "                        <th id=\"T_3dc7ed32_9342_11ec_a18a_641c6768c502level0_row6\" class=\"row_heading level0 row6\" >et</th>\n",
       "                        <td id=\"T_3dc7ed32_9342_11ec_a18a_641c6768c502row6_col0\" class=\"data row6 col0\" >Extra Trees Classifier</td>\n",
       "                        <td id=\"T_3dc7ed32_9342_11ec_a18a_641c6768c502row6_col1\" class=\"data row6 col1\" >0.8022</td>\n",
       "                        <td id=\"T_3dc7ed32_9342_11ec_a18a_641c6768c502row6_col2\" class=\"data row6 col2\" >0.7577</td>\n",
       "                        <td id=\"T_3dc7ed32_9342_11ec_a18a_641c6768c502row6_col3\" class=\"data row6 col3\" >0.5306</td>\n",
       "                        <td id=\"T_3dc7ed32_9342_11ec_a18a_641c6768c502row6_col4\" class=\"data row6 col4\" >0.5953</td>\n",
       "                        <td id=\"T_3dc7ed32_9342_11ec_a18a_641c6768c502row6_col5\" class=\"data row6 col5\" >0.5607</td>\n",
       "                        <td id=\"T_3dc7ed32_9342_11ec_a18a_641c6768c502row6_col6\" class=\"data row6 col6\" >0.4337</td>\n",
       "                        <td id=\"T_3dc7ed32_9342_11ec_a18a_641c6768c502row6_col7\" class=\"data row6 col7\" >0.4351</td>\n",
       "                        <td id=\"T_3dc7ed32_9342_11ec_a18a_641c6768c502row6_col8\" class=\"data row6 col8\" >1.1400</td>\n",
       "            </tr>\n",
       "            <tr>\n",
       "                        <th id=\"T_3dc7ed32_9342_11ec_a18a_641c6768c502level0_row7\" class=\"row_heading level0 row7\" >nb</th>\n",
       "                        <td id=\"T_3dc7ed32_9342_11ec_a18a_641c6768c502row7_col0\" class=\"data row7 col0\" >Naive Bayes</td>\n",
       "                        <td id=\"T_3dc7ed32_9342_11ec_a18a_641c6768c502row7_col1\" class=\"data row7 col1\" >0.7100</td>\n",
       "                        <td id=\"T_3dc7ed32_9342_11ec_a18a_641c6768c502row7_col2\" class=\"data row7 col2\" >0.7170</td>\n",
       "                        <td id=\"T_3dc7ed32_9342_11ec_a18a_641c6768c502row7_col3\" class=\"data row7 col3\" >0.5938</td>\n",
       "                        <td id=\"T_3dc7ed32_9342_11ec_a18a_641c6768c502row7_col4\" class=\"data row7 col4\" >0.4225</td>\n",
       "                        <td id=\"T_3dc7ed32_9342_11ec_a18a_641c6768c502row7_col5\" class=\"data row7 col5\" >0.4937</td>\n",
       "                        <td id=\"T_3dc7ed32_9342_11ec_a18a_641c6768c502row7_col6\" class=\"data row7 col6\" >0.2986</td>\n",
       "                        <td id=\"T_3dc7ed32_9342_11ec_a18a_641c6768c502row7_col7\" class=\"data row7 col7\" >0.3071</td>\n",
       "                        <td id=\"T_3dc7ed32_9342_11ec_a18a_641c6768c502row7_col8\" class=\"data row7 col8\" >0.0540</td>\n",
       "            </tr>\n",
       "            <tr>\n",
       "                        <th id=\"T_3dc7ed32_9342_11ec_a18a_641c6768c502level0_row8\" class=\"row_heading level0 row8\" >lr</th>\n",
       "                        <td id=\"T_3dc7ed32_9342_11ec_a18a_641c6768c502row8_col0\" class=\"data row8 col0\" >Logistic Regression</td>\n",
       "                        <td id=\"T_3dc7ed32_9342_11ec_a18a_641c6768c502row8_col1\" class=\"data row8 col1\" >0.6761</td>\n",
       "                        <td id=\"T_3dc7ed32_9342_11ec_a18a_641c6768c502row8_col2\" class=\"data row8 col2\" >0.6975</td>\n",
       "                        <td id=\"T_3dc7ed32_9342_11ec_a18a_641c6768c502row8_col3\" class=\"data row8 col3\" >0.6335</td>\n",
       "                        <td id=\"T_3dc7ed32_9342_11ec_a18a_641c6768c502row8_col4\" class=\"data row8 col4\" >0.3893</td>\n",
       "                        <td id=\"T_3dc7ed32_9342_11ec_a18a_641c6768c502row8_col5\" class=\"data row8 col5\" >0.4821</td>\n",
       "                        <td id=\"T_3dc7ed32_9342_11ec_a18a_641c6768c502row8_col6\" class=\"data row8 col6\" >0.2656</td>\n",
       "                        <td id=\"T_3dc7ed32_9342_11ec_a18a_641c6768c502row8_col7\" class=\"data row8 col7\" >0.2824</td>\n",
       "                        <td id=\"T_3dc7ed32_9342_11ec_a18a_641c6768c502row8_col8\" class=\"data row8 col8\" >2.5600</td>\n",
       "            </tr>\n",
       "            <tr>\n",
       "                        <th id=\"T_3dc7ed32_9342_11ec_a18a_641c6768c502level0_row9\" class=\"row_heading level0 row9\" >lda</th>\n",
       "                        <td id=\"T_3dc7ed32_9342_11ec_a18a_641c6768c502row9_col0\" class=\"data row9 col0\" >Linear Discriminant Analysis</td>\n",
       "                        <td id=\"T_3dc7ed32_9342_11ec_a18a_641c6768c502row9_col1\" class=\"data row9 col1\" >0.6785</td>\n",
       "                        <td id=\"T_3dc7ed32_9342_11ec_a18a_641c6768c502row9_col2\" class=\"data row9 col2\" >0.6966</td>\n",
       "                        <td id=\"T_3dc7ed32_9342_11ec_a18a_641c6768c502row9_col3\" class=\"data row9 col3\" >0.6291</td>\n",
       "                        <td id=\"T_3dc7ed32_9342_11ec_a18a_641c6768c502row9_col4\" class=\"data row9 col4\" >0.3911</td>\n",
       "                        <td id=\"T_3dc7ed32_9342_11ec_a18a_641c6768c502row9_col5\" class=\"data row9 col5\" >0.4822</td>\n",
       "                        <td id=\"T_3dc7ed32_9342_11ec_a18a_641c6768c502row9_col6\" class=\"data row9 col6\" >0.2671</td>\n",
       "                        <td id=\"T_3dc7ed32_9342_11ec_a18a_641c6768c502row9_col7\" class=\"data row9 col7\" >0.2830</td>\n",
       "                        <td id=\"T_3dc7ed32_9342_11ec_a18a_641c6768c502row9_col8\" class=\"data row9 col8\" >0.0740</td>\n",
       "            </tr>\n",
       "            <tr>\n",
       "                        <th id=\"T_3dc7ed32_9342_11ec_a18a_641c6768c502level0_row10\" class=\"row_heading level0 row10\" >dt</th>\n",
       "                        <td id=\"T_3dc7ed32_9342_11ec_a18a_641c6768c502row10_col0\" class=\"data row10 col0\" >Decision Tree Classifier</td>\n",
       "                        <td id=\"T_3dc7ed32_9342_11ec_a18a_641c6768c502row10_col1\" class=\"data row10 col1\" >0.7357</td>\n",
       "                        <td id=\"T_3dc7ed32_9342_11ec_a18a_641c6768c502row10_col2\" class=\"data row10 col2\" >0.6625</td>\n",
       "                        <td id=\"T_3dc7ed32_9342_11ec_a18a_641c6768c502row10_col3\" class=\"data row10 col3\" >0.5078</td>\n",
       "                        <td id=\"T_3dc7ed32_9342_11ec_a18a_641c6768c502row10_col4\" class=\"data row10 col4\" >0.4511</td>\n",
       "                        <td id=\"T_3dc7ed32_9342_11ec_a18a_641c6768c502row10_col5\" class=\"data row10 col5\" >0.4776</td>\n",
       "                        <td id=\"T_3dc7ed32_9342_11ec_a18a_641c6768c502row10_col6\" class=\"data row10 col6\" >0.3015</td>\n",
       "                        <td id=\"T_3dc7ed32_9342_11ec_a18a_641c6768c502row10_col7\" class=\"data row10 col7\" >0.3026</td>\n",
       "                        <td id=\"T_3dc7ed32_9342_11ec_a18a_641c6768c502row10_col8\" class=\"data row10 col8\" >0.0820</td>\n",
       "            </tr>\n",
       "            <tr>\n",
       "                        <th id=\"T_3dc7ed32_9342_11ec_a18a_641c6768c502level0_row11\" class=\"row_heading level0 row11\" >svm</th>\n",
       "                        <td id=\"T_3dc7ed32_9342_11ec_a18a_641c6768c502row11_col0\" class=\"data row11 col0\" >SVM - Linear Kernel</td>\n",
       "                        <td id=\"T_3dc7ed32_9342_11ec_a18a_641c6768c502row11_col1\" class=\"data row11 col1\" >0.6692</td>\n",
       "                        <td id=\"T_3dc7ed32_9342_11ec_a18a_641c6768c502row11_col2\" class=\"data row11 col2\" >0.0000</td>\n",
       "                        <td id=\"T_3dc7ed32_9342_11ec_a18a_641c6768c502row11_col3\" class=\"data row11 col3\" >0.6295</td>\n",
       "                        <td id=\"T_3dc7ed32_9342_11ec_a18a_641c6768c502row11_col4\" class=\"data row11 col4\" >0.3861</td>\n",
       "                        <td id=\"T_3dc7ed32_9342_11ec_a18a_641c6768c502row11_col5\" class=\"data row11 col5\" >0.4768</td>\n",
       "                        <td id=\"T_3dc7ed32_9342_11ec_a18a_641c6768c502row11_col6\" class=\"data row11 col6\" >0.2569</td>\n",
       "                        <td id=\"T_3dc7ed32_9342_11ec_a18a_641c6768c502row11_col7\" class=\"data row11 col7\" >0.2736</td>\n",
       "                        <td id=\"T_3dc7ed32_9342_11ec_a18a_641c6768c502row11_col8\" class=\"data row11 col8\" >0.1020</td>\n",
       "            </tr>\n",
       "            <tr>\n",
       "                        <th id=\"T_3dc7ed32_9342_11ec_a18a_641c6768c502level0_row12\" class=\"row_heading level0 row12\" >ridge</th>\n",
       "                        <td id=\"T_3dc7ed32_9342_11ec_a18a_641c6768c502row12_col0\" class=\"data row12 col0\" >Ridge Classifier</td>\n",
       "                        <td id=\"T_3dc7ed32_9342_11ec_a18a_641c6768c502row12_col1\" class=\"data row12 col1\" >0.6785</td>\n",
       "                        <td id=\"T_3dc7ed32_9342_11ec_a18a_641c6768c502row12_col2\" class=\"data row12 col2\" >0.0000</td>\n",
       "                        <td id=\"T_3dc7ed32_9342_11ec_a18a_641c6768c502row12_col3\" class=\"data row12 col3\" >0.6291</td>\n",
       "                        <td id=\"T_3dc7ed32_9342_11ec_a18a_641c6768c502row12_col4\" class=\"data row12 col4\" >0.3911</td>\n",
       "                        <td id=\"T_3dc7ed32_9342_11ec_a18a_641c6768c502row12_col5\" class=\"data row12 col5\" >0.4822</td>\n",
       "                        <td id=\"T_3dc7ed32_9342_11ec_a18a_641c6768c502row12_col6\" class=\"data row12 col6\" >0.2671</td>\n",
       "                        <td id=\"T_3dc7ed32_9342_11ec_a18a_641c6768c502row12_col7\" class=\"data row12 col7\" >0.2830</td>\n",
       "                        <td id=\"T_3dc7ed32_9342_11ec_a18a_641c6768c502row12_col8\" class=\"data row12 col8\" >0.0720</td>\n",
       "            </tr>\n",
       "    </tbody></table>"
      ],
      "text/plain": [
       "<pandas.io.formats.style.Styler at 0x1c904532160>"
      ]
     },
     "metadata": {},
     "output_type": "display_data"
    }
   ],
   "source": [
    "best = compare_models(fold = 5,sort = 'AUC')"
   ]
  },
  {
   "cell_type": "markdown",
   "metadata": {},
   "source": [
    "#### Criando o modelo."
   ]
  },
  {
   "cell_type": "code",
   "execution_count": 61,
   "metadata": {},
   "outputs": [
    {
     "data": {
      "application/vnd.jupyter.widget-view+json": {
       "model_id": "7d6a418975e444e0a81791e3984953bc",
       "version_major": 2,
       "version_minor": 0
      },
      "text/plain": [
       "IntProgress(value=0, description='Processing: ', max=4)"
      ]
     },
     "metadata": {},
     "output_type": "display_data"
    },
    {
     "data": {
      "text/html": [
       "<div>\n",
       "<style scoped>\n",
       "    .dataframe tbody tr th:only-of-type {\n",
       "        vertical-align: middle;\n",
       "    }\n",
       "\n",
       "    .dataframe tbody tr th {\n",
       "        vertical-align: top;\n",
       "    }\n",
       "\n",
       "    .dataframe thead th {\n",
       "        text-align: right;\n",
       "    }\n",
       "</style>\n",
       "<table border=\"1\" class=\"dataframe\">\n",
       "  <thead>\n",
       "    <tr style=\"text-align: right;\">\n",
       "      <th></th>\n",
       "      <th></th>\n",
       "      <th></th>\n",
       "    </tr>\n",
       "    <tr>\n",
       "      <th></th>\n",
       "      <th></th>\n",
       "      <th></th>\n",
       "    </tr>\n",
       "  </thead>\n",
       "  <tbody>\n",
       "    <tr>\n",
       "      <th>Initiated</th>\n",
       "      <td>. . . . . . . . . . . . . . . . . .</td>\n",
       "      <td>17:13:26</td>\n",
       "    </tr>\n",
       "    <tr>\n",
       "      <th>Status</th>\n",
       "      <td>. . . . . . . . . . . . . . . . . .</td>\n",
       "      <td>Preprocessing Data</td>\n",
       "    </tr>\n",
       "  </tbody>\n",
       "</table>\n",
       "</div>"
      ],
      "text/plain": [
       "                                                                  \n",
       "                                                                  \n",
       "Initiated  . . . . . . . . . . . . . . . . . .            17:13:26\n",
       "Status     . . . . . . . . . . . . . . . . . .  Preprocessing Data"
      ]
     },
     "metadata": {},
     "output_type": "display_data"
    },
    {
     "data": {
      "text/html": [
       "<div>\n",
       "<style scoped>\n",
       "    .dataframe tbody tr th:only-of-type {\n",
       "        vertical-align: middle;\n",
       "    }\n",
       "\n",
       "    .dataframe tbody tr th {\n",
       "        vertical-align: top;\n",
       "    }\n",
       "\n",
       "    .dataframe thead th {\n",
       "        text-align: right;\n",
       "    }\n",
       "</style>\n",
       "<table border=\"1\" class=\"dataframe\">\n",
       "  <thead>\n",
       "    <tr style=\"text-align: right;\">\n",
       "      <th></th>\n",
       "      <th>Accuracy</th>\n",
       "      <th>AUC</th>\n",
       "      <th>Recall</th>\n",
       "      <th>Prec.</th>\n",
       "      <th>F1</th>\n",
       "      <th>Kappa</th>\n",
       "      <th>MCC</th>\n",
       "    </tr>\n",
       "  </thead>\n",
       "  <tbody>\n",
       "  </tbody>\n",
       "</table>\n",
       "</div>"
      ],
      "text/plain": [
       "Empty DataFrame\n",
       "Columns: [Accuracy, AUC, Recall, Prec., F1, Kappa, MCC]\n",
       "Index: []"
      ]
     },
     "metadata": {},
     "output_type": "display_data"
    },
    {
     "ename": "KeyboardInterrupt",
     "evalue": "",
     "output_type": "error",
     "traceback": [
      "\u001b[1;31m---------------------------------------------------------------------------\u001b[0m",
      "\u001b[1;31mKeyboardInterrupt\u001b[0m                         Traceback (most recent call last)",
      "\u001b[1;32m<ipython-input-61-e4d49bf1a5a9>\u001b[0m in \u001b[0;36m<module>\u001b[1;34m\u001b[0m\n\u001b[1;32m----> 1\u001b[1;33m \u001b[0mgbc\u001b[0m \u001b[1;33m=\u001b[0m \u001b[0mcreate_model\u001b[0m\u001b[1;33m(\u001b[0m\u001b[1;34m'gbc'\u001b[0m\u001b[1;33m,\u001b[0m \u001b[0mfold\u001b[0m \u001b[1;33m=\u001b[0m \u001b[1;36m5\u001b[0m\u001b[1;33m)\u001b[0m\u001b[1;33m\u001b[0m\u001b[1;33m\u001b[0m\u001b[0m\n\u001b[0m",
      "\u001b[1;32m~\\anaconda3\\lib\\site-packages\\pycaret\\classification.py\u001b[0m in \u001b[0;36mcreate_model\u001b[1;34m(estimator, fold, round, cross_validation, fit_kwargs, groups, verbose, **kwargs)\u001b[0m\n\u001b[0;32m    888\u001b[0m     \"\"\"\n\u001b[0;32m    889\u001b[0m \u001b[1;33m\u001b[0m\u001b[0m\n\u001b[1;32m--> 890\u001b[1;33m     return pycaret.internal.tabular.create_model_supervised(\n\u001b[0m\u001b[0;32m    891\u001b[0m         \u001b[0mestimator\u001b[0m\u001b[1;33m=\u001b[0m\u001b[0mestimator\u001b[0m\u001b[1;33m,\u001b[0m\u001b[1;33m\u001b[0m\u001b[1;33m\u001b[0m\u001b[0m\n\u001b[0;32m    892\u001b[0m         \u001b[0mfold\u001b[0m\u001b[1;33m=\u001b[0m\u001b[0mfold\u001b[0m\u001b[1;33m,\u001b[0m\u001b[1;33m\u001b[0m\u001b[1;33m\u001b[0m\u001b[0m\n",
      "\u001b[1;32m~\\anaconda3\\lib\\site-packages\\pycaret\\internal\\tabular.py\u001b[0m in \u001b[0;36mcreate_model_supervised\u001b[1;34m(estimator, fold, round, cross_validation, predict, fit_kwargs, groups, refit, verbose, system, X_train_data, y_train_data, metrics, add_to_model_list, display, **kwargs)\u001b[0m\n\u001b[0;32m   3188\u001b[0m             \u001b[0mlogger\u001b[0m\u001b[1;33m.\u001b[0m\u001b[0minfo\u001b[0m\u001b[1;33m(\u001b[0m\u001b[1;34m\"Finalizing model\"\u001b[0m\u001b[1;33m)\u001b[0m\u001b[1;33m\u001b[0m\u001b[1;33m\u001b[0m\u001b[0m\n\u001b[0;32m   3189\u001b[0m             \u001b[1;32mwith\u001b[0m \u001b[0mio\u001b[0m\u001b[1;33m.\u001b[0m\u001b[0mcapture_output\u001b[0m\u001b[1;33m(\u001b[0m\u001b[1;33m)\u001b[0m\u001b[1;33m:\u001b[0m\u001b[1;33m\u001b[0m\u001b[1;33m\u001b[0m\u001b[0m\n\u001b[1;32m-> 3190\u001b[1;33m                 \u001b[0mpipeline_with_model\u001b[0m\u001b[1;33m.\u001b[0m\u001b[0mfit\u001b[0m\u001b[1;33m(\u001b[0m\u001b[0mdata_X\u001b[0m\u001b[1;33m,\u001b[0m \u001b[0mdata_y\u001b[0m\u001b[1;33m,\u001b[0m \u001b[1;33m**\u001b[0m\u001b[0mfit_kwargs\u001b[0m\u001b[1;33m)\u001b[0m\u001b[1;33m\u001b[0m\u001b[1;33m\u001b[0m\u001b[0m\n\u001b[0m\u001b[0;32m   3191\u001b[0m             \u001b[0mmodel_fit_end\u001b[0m \u001b[1;33m=\u001b[0m \u001b[0mtime\u001b[0m\u001b[1;33m.\u001b[0m\u001b[0mtime\u001b[0m\u001b[1;33m(\u001b[0m\u001b[1;33m)\u001b[0m\u001b[1;33m\u001b[0m\u001b[1;33m\u001b[0m\u001b[0m\n\u001b[0;32m   3192\u001b[0m \u001b[1;33m\u001b[0m\u001b[0m\n",
      "\u001b[1;32m~\\anaconda3\\lib\\site-packages\\pycaret\\internal\\pipeline.py\u001b[0m in \u001b[0;36mfit\u001b[1;34m(self, X, y, **fit_kwargs)\u001b[0m\n\u001b[0;32m    116\u001b[0m \u001b[1;33m\u001b[0m\u001b[0m\n\u001b[0;32m    117\u001b[0m     \u001b[1;32mdef\u001b[0m \u001b[0mfit\u001b[0m\u001b[1;33m(\u001b[0m\u001b[0mself\u001b[0m\u001b[1;33m,\u001b[0m \u001b[0mX\u001b[0m\u001b[1;33m,\u001b[0m \u001b[0my\u001b[0m\u001b[1;33m=\u001b[0m\u001b[1;32mNone\u001b[0m\u001b[1;33m,\u001b[0m \u001b[1;33m**\u001b[0m\u001b[0mfit_kwargs\u001b[0m\u001b[1;33m)\u001b[0m\u001b[1;33m:\u001b[0m\u001b[1;33m\u001b[0m\u001b[1;33m\u001b[0m\u001b[0m\n\u001b[1;32m--> 118\u001b[1;33m         \u001b[0mresult\u001b[0m \u001b[1;33m=\u001b[0m \u001b[0msuper\u001b[0m\u001b[1;33m(\u001b[0m\u001b[1;33m)\u001b[0m\u001b[1;33m.\u001b[0m\u001b[0mfit\u001b[0m\u001b[1;33m(\u001b[0m\u001b[0mX\u001b[0m\u001b[1;33m,\u001b[0m \u001b[0my\u001b[0m\u001b[1;33m=\u001b[0m\u001b[0my\u001b[0m\u001b[1;33m,\u001b[0m \u001b[1;33m**\u001b[0m\u001b[0mfit_kwargs\u001b[0m\u001b[1;33m)\u001b[0m\u001b[1;33m\u001b[0m\u001b[1;33m\u001b[0m\u001b[0m\n\u001b[0m\u001b[0;32m    119\u001b[0m \u001b[1;33m\u001b[0m\u001b[0m\n\u001b[0;32m    120\u001b[0m         \u001b[0mself\u001b[0m\u001b[1;33m.\u001b[0m\u001b[0m_carry_over_final_estimator_fit_vars\u001b[0m\u001b[1;33m(\u001b[0m\u001b[1;33m)\u001b[0m\u001b[1;33m\u001b[0m\u001b[1;33m\u001b[0m\u001b[0m\n",
      "\u001b[1;32m~\\anaconda3\\lib\\site-packages\\imblearn\\pipeline.py\u001b[0m in \u001b[0;36mfit\u001b[1;34m(self, X, y, **fit_params)\u001b[0m\n\u001b[0;32m    279\u001b[0m                                  self._log_message(len(self.steps) - 1)):\n\u001b[0;32m    280\u001b[0m             \u001b[1;32mif\u001b[0m \u001b[0mself\u001b[0m\u001b[1;33m.\u001b[0m\u001b[0m_final_estimator\u001b[0m \u001b[1;33m!=\u001b[0m \u001b[1;34m\"passthrough\"\u001b[0m\u001b[1;33m:\u001b[0m\u001b[1;33m\u001b[0m\u001b[1;33m\u001b[0m\u001b[0m\n\u001b[1;32m--> 281\u001b[1;33m                 \u001b[0mself\u001b[0m\u001b[1;33m.\u001b[0m\u001b[0m_final_estimator\u001b[0m\u001b[1;33m.\u001b[0m\u001b[0mfit\u001b[0m\u001b[1;33m(\u001b[0m\u001b[0mXt\u001b[0m\u001b[1;33m,\u001b[0m \u001b[0myt\u001b[0m\u001b[1;33m,\u001b[0m \u001b[1;33m**\u001b[0m\u001b[0mfit_params\u001b[0m\u001b[1;33m)\u001b[0m\u001b[1;33m\u001b[0m\u001b[1;33m\u001b[0m\u001b[0m\n\u001b[0m\u001b[0;32m    282\u001b[0m         \u001b[1;32mreturn\u001b[0m \u001b[0mself\u001b[0m\u001b[1;33m\u001b[0m\u001b[1;33m\u001b[0m\u001b[0m\n\u001b[0;32m    283\u001b[0m \u001b[1;33m\u001b[0m\u001b[0m\n",
      "\u001b[1;32m~\\anaconda3\\lib\\site-packages\\sklearn\\ensemble\\_gb.py\u001b[0m in \u001b[0;36mfit\u001b[1;34m(self, X, y, sample_weight, monitor)\u001b[0m\n\u001b[0;32m    407\u001b[0m         \u001b[1;31m# trees use different types for X and y, checking them separately.\u001b[0m\u001b[1;33m\u001b[0m\u001b[1;33m\u001b[0m\u001b[1;33m\u001b[0m\u001b[0m\n\u001b[0;32m    408\u001b[0m \u001b[1;33m\u001b[0m\u001b[0m\n\u001b[1;32m--> 409\u001b[1;33m         X, y = self._validate_data(X, y, accept_sparse=['csr', 'csc', 'coo'],\n\u001b[0m\u001b[0;32m    410\u001b[0m                                    dtype=DTYPE, multi_output=True)\n\u001b[0;32m    411\u001b[0m         \u001b[0mn_samples\u001b[0m\u001b[1;33m,\u001b[0m \u001b[0mself\u001b[0m\u001b[1;33m.\u001b[0m\u001b[0mn_features_\u001b[0m \u001b[1;33m=\u001b[0m \u001b[0mX\u001b[0m\u001b[1;33m.\u001b[0m\u001b[0mshape\u001b[0m\u001b[1;33m\u001b[0m\u001b[1;33m\u001b[0m\u001b[0m\n",
      "\u001b[1;32m~\\anaconda3\\lib\\site-packages\\sklearn\\base.py\u001b[0m in \u001b[0;36m_validate_data\u001b[1;34m(self, X, y, reset, validate_separately, **check_params)\u001b[0m\n\u001b[0;32m    430\u001b[0m                 \u001b[0my\u001b[0m \u001b[1;33m=\u001b[0m \u001b[0mcheck_array\u001b[0m\u001b[1;33m(\u001b[0m\u001b[0my\u001b[0m\u001b[1;33m,\u001b[0m \u001b[1;33m**\u001b[0m\u001b[0mcheck_y_params\u001b[0m\u001b[1;33m)\u001b[0m\u001b[1;33m\u001b[0m\u001b[1;33m\u001b[0m\u001b[0m\n\u001b[0;32m    431\u001b[0m             \u001b[1;32melse\u001b[0m\u001b[1;33m:\u001b[0m\u001b[1;33m\u001b[0m\u001b[1;33m\u001b[0m\u001b[0m\n\u001b[1;32m--> 432\u001b[1;33m                 \u001b[0mX\u001b[0m\u001b[1;33m,\u001b[0m \u001b[0my\u001b[0m \u001b[1;33m=\u001b[0m \u001b[0mcheck_X_y\u001b[0m\u001b[1;33m(\u001b[0m\u001b[0mX\u001b[0m\u001b[1;33m,\u001b[0m \u001b[0my\u001b[0m\u001b[1;33m,\u001b[0m \u001b[1;33m**\u001b[0m\u001b[0mcheck_params\u001b[0m\u001b[1;33m)\u001b[0m\u001b[1;33m\u001b[0m\u001b[1;33m\u001b[0m\u001b[0m\n\u001b[0m\u001b[0;32m    433\u001b[0m             \u001b[0mout\u001b[0m \u001b[1;33m=\u001b[0m \u001b[0mX\u001b[0m\u001b[1;33m,\u001b[0m \u001b[0my\u001b[0m\u001b[1;33m\u001b[0m\u001b[1;33m\u001b[0m\u001b[0m\n\u001b[0;32m    434\u001b[0m \u001b[1;33m\u001b[0m\u001b[0m\n",
      "\u001b[1;32m~\\anaconda3\\lib\\site-packages\\sklearn\\utils\\validation.py\u001b[0m in \u001b[0;36minner_f\u001b[1;34m(*args, **kwargs)\u001b[0m\n\u001b[0;32m     70\u001b[0m                           FutureWarning)\n\u001b[0;32m     71\u001b[0m         \u001b[0mkwargs\u001b[0m\u001b[1;33m.\u001b[0m\u001b[0mupdate\u001b[0m\u001b[1;33m(\u001b[0m\u001b[1;33m{\u001b[0m\u001b[0mk\u001b[0m\u001b[1;33m:\u001b[0m \u001b[0marg\u001b[0m \u001b[1;32mfor\u001b[0m \u001b[0mk\u001b[0m\u001b[1;33m,\u001b[0m \u001b[0marg\u001b[0m \u001b[1;32min\u001b[0m \u001b[0mzip\u001b[0m\u001b[1;33m(\u001b[0m\u001b[0msig\u001b[0m\u001b[1;33m.\u001b[0m\u001b[0mparameters\u001b[0m\u001b[1;33m,\u001b[0m \u001b[0margs\u001b[0m\u001b[1;33m)\u001b[0m\u001b[1;33m}\u001b[0m\u001b[1;33m)\u001b[0m\u001b[1;33m\u001b[0m\u001b[1;33m\u001b[0m\u001b[0m\n\u001b[1;32m---> 72\u001b[1;33m         \u001b[1;32mreturn\u001b[0m \u001b[0mf\u001b[0m\u001b[1;33m(\u001b[0m\u001b[1;33m**\u001b[0m\u001b[0mkwargs\u001b[0m\u001b[1;33m)\u001b[0m\u001b[1;33m\u001b[0m\u001b[1;33m\u001b[0m\u001b[0m\n\u001b[0m\u001b[0;32m     73\u001b[0m     \u001b[1;32mreturn\u001b[0m \u001b[0minner_f\u001b[0m\u001b[1;33m\u001b[0m\u001b[1;33m\u001b[0m\u001b[0m\n\u001b[0;32m     74\u001b[0m \u001b[1;33m\u001b[0m\u001b[0m\n",
      "\u001b[1;32m~\\anaconda3\\lib\\site-packages\\sklearn\\utils\\validation.py\u001b[0m in \u001b[0;36mcheck_X_y\u001b[1;34m(X, y, accept_sparse, accept_large_sparse, dtype, order, copy, force_all_finite, ensure_2d, allow_nd, multi_output, ensure_min_samples, ensure_min_features, y_numeric, estimator)\u001b[0m\n\u001b[0;32m    793\u001b[0m         \u001b[1;32mraise\u001b[0m \u001b[0mValueError\u001b[0m\u001b[1;33m(\u001b[0m\u001b[1;34m\"y cannot be None\"\u001b[0m\u001b[1;33m)\u001b[0m\u001b[1;33m\u001b[0m\u001b[1;33m\u001b[0m\u001b[0m\n\u001b[0;32m    794\u001b[0m \u001b[1;33m\u001b[0m\u001b[0m\n\u001b[1;32m--> 795\u001b[1;33m     X = check_array(X, accept_sparse=accept_sparse,\n\u001b[0m\u001b[0;32m    796\u001b[0m                     \u001b[0maccept_large_sparse\u001b[0m\u001b[1;33m=\u001b[0m\u001b[0maccept_large_sparse\u001b[0m\u001b[1;33m,\u001b[0m\u001b[1;33m\u001b[0m\u001b[1;33m\u001b[0m\u001b[0m\n\u001b[0;32m    797\u001b[0m                     \u001b[0mdtype\u001b[0m\u001b[1;33m=\u001b[0m\u001b[0mdtype\u001b[0m\u001b[1;33m,\u001b[0m \u001b[0morder\u001b[0m\u001b[1;33m=\u001b[0m\u001b[0morder\u001b[0m\u001b[1;33m,\u001b[0m \u001b[0mcopy\u001b[0m\u001b[1;33m=\u001b[0m\u001b[0mcopy\u001b[0m\u001b[1;33m,\u001b[0m\u001b[1;33m\u001b[0m\u001b[1;33m\u001b[0m\u001b[0m\n",
      "\u001b[1;32m~\\anaconda3\\lib\\site-packages\\sklearn\\utils\\validation.py\u001b[0m in \u001b[0;36minner_f\u001b[1;34m(*args, **kwargs)\u001b[0m\n\u001b[0;32m     70\u001b[0m                           FutureWarning)\n\u001b[0;32m     71\u001b[0m         \u001b[0mkwargs\u001b[0m\u001b[1;33m.\u001b[0m\u001b[0mupdate\u001b[0m\u001b[1;33m(\u001b[0m\u001b[1;33m{\u001b[0m\u001b[0mk\u001b[0m\u001b[1;33m:\u001b[0m \u001b[0marg\u001b[0m \u001b[1;32mfor\u001b[0m \u001b[0mk\u001b[0m\u001b[1;33m,\u001b[0m \u001b[0marg\u001b[0m \u001b[1;32min\u001b[0m \u001b[0mzip\u001b[0m\u001b[1;33m(\u001b[0m\u001b[0msig\u001b[0m\u001b[1;33m.\u001b[0m\u001b[0mparameters\u001b[0m\u001b[1;33m,\u001b[0m \u001b[0margs\u001b[0m\u001b[1;33m)\u001b[0m\u001b[1;33m}\u001b[0m\u001b[1;33m)\u001b[0m\u001b[1;33m\u001b[0m\u001b[1;33m\u001b[0m\u001b[0m\n\u001b[1;32m---> 72\u001b[1;33m         \u001b[1;32mreturn\u001b[0m \u001b[0mf\u001b[0m\u001b[1;33m(\u001b[0m\u001b[1;33m**\u001b[0m\u001b[0mkwargs\u001b[0m\u001b[1;33m)\u001b[0m\u001b[1;33m\u001b[0m\u001b[1;33m\u001b[0m\u001b[0m\n\u001b[0m\u001b[0;32m     73\u001b[0m     \u001b[1;32mreturn\u001b[0m \u001b[0minner_f\u001b[0m\u001b[1;33m\u001b[0m\u001b[1;33m\u001b[0m\u001b[0m\n\u001b[0;32m     74\u001b[0m \u001b[1;33m\u001b[0m\u001b[0m\n",
      "\u001b[1;32m~\\anaconda3\\lib\\site-packages\\sklearn\\utils\\validation.py\u001b[0m in \u001b[0;36mcheck_array\u001b[1;34m(array, accept_sparse, accept_large_sparse, dtype, order, copy, force_all_finite, ensure_2d, allow_nd, ensure_min_samples, ensure_min_features, estimator)\u001b[0m\n\u001b[0;32m    642\u001b[0m \u001b[1;33m\u001b[0m\u001b[0m\n\u001b[0;32m    643\u001b[0m         \u001b[1;32mif\u001b[0m \u001b[0mforce_all_finite\u001b[0m\u001b[1;33m:\u001b[0m\u001b[1;33m\u001b[0m\u001b[1;33m\u001b[0m\u001b[0m\n\u001b[1;32m--> 644\u001b[1;33m             _assert_all_finite(array,\n\u001b[0m\u001b[0;32m    645\u001b[0m                                allow_nan=force_all_finite == 'allow-nan')\n\u001b[0;32m    646\u001b[0m \u001b[1;33m\u001b[0m\u001b[0m\n",
      "\u001b[1;32m~\\anaconda3\\lib\\site-packages\\sklearn\\utils\\validation.py\u001b[0m in \u001b[0;36m_assert_all_finite\u001b[1;34m(X, allow_nan, msg_dtype)\u001b[0m\n\u001b[0;32m     87\u001b[0m     \u001b[1;31m# safely to reduce dtype induced overflows.\u001b[0m\u001b[1;33m\u001b[0m\u001b[1;33m\u001b[0m\u001b[1;33m\u001b[0m\u001b[0m\n\u001b[0;32m     88\u001b[0m     \u001b[0mis_float\u001b[0m \u001b[1;33m=\u001b[0m \u001b[0mX\u001b[0m\u001b[1;33m.\u001b[0m\u001b[0mdtype\u001b[0m\u001b[1;33m.\u001b[0m\u001b[0mkind\u001b[0m \u001b[1;32min\u001b[0m \u001b[1;34m'fc'\u001b[0m\u001b[1;33m\u001b[0m\u001b[1;33m\u001b[0m\u001b[0m\n\u001b[1;32m---> 89\u001b[1;33m     \u001b[1;32mif\u001b[0m \u001b[0mis_float\u001b[0m \u001b[1;32mand\u001b[0m \u001b[1;33m(\u001b[0m\u001b[0mnp\u001b[0m\u001b[1;33m.\u001b[0m\u001b[0misfinite\u001b[0m\u001b[1;33m(\u001b[0m\u001b[0m_safe_accumulator_op\u001b[0m\u001b[1;33m(\u001b[0m\u001b[0mnp\u001b[0m\u001b[1;33m.\u001b[0m\u001b[0msum\u001b[0m\u001b[1;33m,\u001b[0m \u001b[0mX\u001b[0m\u001b[1;33m)\u001b[0m\u001b[1;33m)\u001b[0m\u001b[1;33m)\u001b[0m\u001b[1;33m:\u001b[0m\u001b[1;33m\u001b[0m\u001b[1;33m\u001b[0m\u001b[0m\n\u001b[0m\u001b[0;32m     90\u001b[0m         \u001b[1;32mpass\u001b[0m\u001b[1;33m\u001b[0m\u001b[1;33m\u001b[0m\u001b[0m\n\u001b[0;32m     91\u001b[0m     \u001b[1;32melif\u001b[0m \u001b[0mis_float\u001b[0m\u001b[1;33m:\u001b[0m\u001b[1;33m\u001b[0m\u001b[1;33m\u001b[0m\u001b[0m\n",
      "\u001b[1;32m~\\anaconda3\\lib\\site-packages\\sklearn\\utils\\extmath.py\u001b[0m in \u001b[0;36m_safe_accumulator_op\u001b[1;34m(op, x, *args, **kwargs)\u001b[0m\n\u001b[0;32m    707\u001b[0m     \"\"\"\n\u001b[0;32m    708\u001b[0m     \u001b[1;32mif\u001b[0m \u001b[0mnp\u001b[0m\u001b[1;33m.\u001b[0m\u001b[0missubdtype\u001b[0m\u001b[1;33m(\u001b[0m\u001b[0mx\u001b[0m\u001b[1;33m.\u001b[0m\u001b[0mdtype\u001b[0m\u001b[1;33m,\u001b[0m \u001b[0mnp\u001b[0m\u001b[1;33m.\u001b[0m\u001b[0mfloating\u001b[0m\u001b[1;33m)\u001b[0m \u001b[1;32mand\u001b[0m \u001b[0mx\u001b[0m\u001b[1;33m.\u001b[0m\u001b[0mdtype\u001b[0m\u001b[1;33m.\u001b[0m\u001b[0mitemsize\u001b[0m \u001b[1;33m<\u001b[0m \u001b[1;36m8\u001b[0m\u001b[1;33m:\u001b[0m\u001b[1;33m\u001b[0m\u001b[1;33m\u001b[0m\u001b[0m\n\u001b[1;32m--> 709\u001b[1;33m         \u001b[0mresult\u001b[0m \u001b[1;33m=\u001b[0m \u001b[0mop\u001b[0m\u001b[1;33m(\u001b[0m\u001b[0mx\u001b[0m\u001b[1;33m,\u001b[0m \u001b[1;33m*\u001b[0m\u001b[0margs\u001b[0m\u001b[1;33m,\u001b[0m \u001b[1;33m**\u001b[0m\u001b[0mkwargs\u001b[0m\u001b[1;33m,\u001b[0m \u001b[0mdtype\u001b[0m\u001b[1;33m=\u001b[0m\u001b[0mnp\u001b[0m\u001b[1;33m.\u001b[0m\u001b[0mfloat64\u001b[0m\u001b[1;33m)\u001b[0m\u001b[1;33m\u001b[0m\u001b[1;33m\u001b[0m\u001b[0m\n\u001b[0m\u001b[0;32m    710\u001b[0m     \u001b[1;32melse\u001b[0m\u001b[1;33m:\u001b[0m\u001b[1;33m\u001b[0m\u001b[1;33m\u001b[0m\u001b[0m\n\u001b[0;32m    711\u001b[0m         \u001b[0mresult\u001b[0m \u001b[1;33m=\u001b[0m \u001b[0mop\u001b[0m\u001b[1;33m(\u001b[0m\u001b[0mx\u001b[0m\u001b[1;33m,\u001b[0m \u001b[1;33m*\u001b[0m\u001b[0margs\u001b[0m\u001b[1;33m,\u001b[0m \u001b[1;33m**\u001b[0m\u001b[0mkwargs\u001b[0m\u001b[1;33m)\u001b[0m\u001b[1;33m\u001b[0m\u001b[1;33m\u001b[0m\u001b[0m\n",
      "\u001b[1;32m<__array_function__ internals>\u001b[0m in \u001b[0;36msum\u001b[1;34m(*args, **kwargs)\u001b[0m\n",
      "\u001b[1;32m~\\anaconda3\\lib\\site-packages\\numpy\\core\\fromnumeric.py\u001b[0m in \u001b[0;36msum\u001b[1;34m(a, axis, dtype, out, keepdims, initial, where)\u001b[0m\n\u001b[0;32m   2239\u001b[0m         \u001b[1;32mreturn\u001b[0m \u001b[0mres\u001b[0m\u001b[1;33m\u001b[0m\u001b[1;33m\u001b[0m\u001b[0m\n\u001b[0;32m   2240\u001b[0m \u001b[1;33m\u001b[0m\u001b[0m\n\u001b[1;32m-> 2241\u001b[1;33m     return _wrapreduction(a, np.add, 'sum', axis, dtype, out, keepdims=keepdims,\n\u001b[0m\u001b[0;32m   2242\u001b[0m                           initial=initial, where=where)\n\u001b[0;32m   2243\u001b[0m \u001b[1;33m\u001b[0m\u001b[0m\n",
      "\u001b[1;32m~\\anaconda3\\lib\\site-packages\\numpy\\core\\fromnumeric.py\u001b[0m in \u001b[0;36m_wrapreduction\u001b[1;34m(obj, ufunc, method, axis, dtype, out, **kwargs)\u001b[0m\n\u001b[0;32m     85\u001b[0m                 \u001b[1;32mreturn\u001b[0m \u001b[0mreduction\u001b[0m\u001b[1;33m(\u001b[0m\u001b[0maxis\u001b[0m\u001b[1;33m=\u001b[0m\u001b[0maxis\u001b[0m\u001b[1;33m,\u001b[0m \u001b[0mout\u001b[0m\u001b[1;33m=\u001b[0m\u001b[0mout\u001b[0m\u001b[1;33m,\u001b[0m \u001b[1;33m**\u001b[0m\u001b[0mpasskwargs\u001b[0m\u001b[1;33m)\u001b[0m\u001b[1;33m\u001b[0m\u001b[1;33m\u001b[0m\u001b[0m\n\u001b[0;32m     86\u001b[0m \u001b[1;33m\u001b[0m\u001b[0m\n\u001b[1;32m---> 87\u001b[1;33m     \u001b[1;32mreturn\u001b[0m \u001b[0mufunc\u001b[0m\u001b[1;33m.\u001b[0m\u001b[0mreduce\u001b[0m\u001b[1;33m(\u001b[0m\u001b[0mobj\u001b[0m\u001b[1;33m,\u001b[0m \u001b[0maxis\u001b[0m\u001b[1;33m,\u001b[0m \u001b[0mdtype\u001b[0m\u001b[1;33m,\u001b[0m \u001b[0mout\u001b[0m\u001b[1;33m,\u001b[0m \u001b[1;33m**\u001b[0m\u001b[0mpasskwargs\u001b[0m\u001b[1;33m)\u001b[0m\u001b[1;33m\u001b[0m\u001b[1;33m\u001b[0m\u001b[0m\n\u001b[0m\u001b[0;32m     88\u001b[0m \u001b[1;33m\u001b[0m\u001b[0m\n\u001b[0;32m     89\u001b[0m \u001b[1;33m\u001b[0m\u001b[0m\n",
      "\u001b[1;31mKeyboardInterrupt\u001b[0m: "
     ]
    }
   ],
   "source": [
    "gbc = create_model('gbc', fold = 5)"
   ]
  },
  {
   "cell_type": "markdown",
   "metadata": {},
   "source": [
    "#### Realizando o tunning do modelo."
   ]
  },
  {
   "cell_type": "code",
   "execution_count": null,
   "metadata": {
    "scrolled": true,
    "tags": []
   },
   "outputs": [],
   "source": [
    "tuned_gbc = tune_model(gbc\n",
    "                      ,fold = 5\n",
    "                      ,custom_grid = {\n",
    "                                      \"learning_rate\":[0.1,0.2,0.5]\n",
    "                                     ,\"n_estimators\":[100,500,1000]\n",
    "                                     ,\"min_samples_split\":[1,2,5,10]\n",
    "                                     ,\"max_depth\":[1,3,9]\n",
    "                                     }\n",
    "                      ,optimize = 'AUC')"
   ]
  },
  {
   "cell_type": "markdown",
   "metadata": {},
   "source": [
    "#### Finalizando o modelo."
   ]
  },
  {
   "cell_type": "code",
   "execution_count": null,
   "metadata": {},
   "outputs": [],
   "source": [
    "final_model = finalize_model(gbc)"
   ]
  },
  {
   "cell_type": "code",
   "execution_count": null,
   "metadata": {},
   "outputs": [],
   "source": [
    "save_model(final_model,'model')"
   ]
  },
  {
   "cell_type": "markdown",
   "metadata": {},
   "source": [
    "#### Transferindo os arquivos para o Data Lake."
   ]
  },
  {
   "cell_type": "markdown",
   "metadata": {},
   "source": [
    "#### Modelo de Classificação."
   ]
  },
  {
   "cell_type": "code",
   "execution_count": null,
   "metadata": {},
   "outputs": [],
   "source": [
    "client.fput_object(\n",
    "    \"curated\",\n",
    "    \"model.pkl\",\n",
    "    \"model.pkl\"\n",
    ")"
   ]
  },
  {
   "cell_type": "markdown",
   "metadata": {},
   "source": [
    "#### Exportando o conjunto de dados para o disco."
   ]
  },
  {
   "cell_type": "code",
   "execution_count": null,
   "metadata": {
    "scrolled": true
   },
   "outputs": [],
   "source": [
    "df.to_csv(\"dataset.csv\",index=False)"
   ]
  },
  {
   "cell_type": "code",
   "execution_count": null,
   "metadata": {},
   "outputs": [],
   "source": [
    "client.fput_object(\n",
    "    \"curated\",\n",
    "    \"dataset.csv\",\n",
    "    \"dataset.csv\"\n",
    ")"
   ]
  }
 ],
 "metadata": {
  "kernelspec": {
   "display_name": "Python 3",
   "language": "python",
   "name": "python3"
  },
  "language_info": {
   "codemirror_mode": {
    "name": "ipython",
    "version": 3
   },
   "file_extension": ".py",
   "mimetype": "text/x-python",
   "name": "python",
   "nbconvert_exporter": "python",
   "pygments_lexer": "ipython3",
   "version": "3.8.5"
  }
 },
 "nbformat": 4,
 "nbformat_minor": 5
}
