{
  "nbformat": 4,
  "nbformat_minor": 0,
  "metadata": {
    "colab": {
      "name": "Maratona_de_Dados_Falqon.ipynb",
      "provenance": [],
      "collapsed_sections": [
        "lVEQkpS87xYW",
        "GAbgTkr-75lZ",
        "az1pFWvwHU3k",
        "o1v7p65X52yt",
        "Ix7WlL7L6HN3",
        "Cj6LuWXHiNx4",
        "404tqJDHilKG"
      ]
    },
    "kernelspec": {
      "name": "python3",
      "display_name": "Python 3"
    }
  },
  "cells": [
    {
      "cell_type": "markdown",
      "metadata": {
        "id": "cNWFbGUa7qqv"
      },
      "source": [
        "# **Maratona de Dados Falqon - Machine Learning**\n",
        "\n",
        "\n",
        "---\n",
        "\n",
        "> ## *Forecasting Google*\n",
        "\n",
        "\n",
        "\n"
      ]
    },
    {
      "cell_type": "markdown",
      "metadata": {
        "id": "lVEQkpS87xYW"
      },
      "source": [
        "## Dependências\n",
        "\n",
        "\n"
      ]
    },
    {
      "cell_type": "code",
      "source": [
        "!pip install sklearn"
      ],
      "metadata": {
        "colab": {
          "base_uri": "https://localhost:8080/"
        },
        "id": "lIvlwoDz45nL",
        "outputId": "e622e373-dbc3-4577-8cdf-cd588e7967d4"
      },
      "execution_count": 4,
      "outputs": [
        {
          "output_type": "stream",
          "name": "stdout",
          "text": [
            "Requirement already satisfied: sklearn in /usr/local/lib/python3.7/dist-packages (0.0)\n",
            "Requirement already satisfied: scikit-learn in /usr/local/lib/python3.7/dist-packages (from sklearn) (1.0.2)\n",
            "Requirement already satisfied: threadpoolctl>=2.0.0 in /usr/local/lib/python3.7/dist-packages (from scikit-learn->sklearn) (3.1.0)\n",
            "Requirement already satisfied: scipy>=1.1.0 in /usr/local/lib/python3.7/dist-packages (from scikit-learn->sklearn) (1.4.1)\n",
            "Requirement already satisfied: numpy>=1.14.6 in /usr/local/lib/python3.7/dist-packages (from scikit-learn->sklearn) (1.19.5)\n",
            "Requirement already satisfied: joblib>=0.11 in /usr/local/lib/python3.7/dist-packages (from scikit-learn->sklearn) (1.1.0)\n"
          ]
        }
      ]
    },
    {
      "cell_type": "markdown",
      "metadata": {
        "id": "GAbgTkr-75lZ"
      },
      "source": [
        "## Bibliotecas\n"
      ]
    },
    {
      "cell_type": "markdown",
      "metadata": {
        "id": "lSi2Fm7UCNQz"
      },
      "source": [
        "Math:\n",
        ">https://docs.python.org/3/library/math.html\n",
        "\n",
        "NumPy:\n",
        ">https://numpy.org/doc/stable/index.html\n",
        "\n",
        "Pandas:\n",
        ">https://pandas.pydata.org/"
      ]
    },
    {
      "cell_type": "code",
      "metadata": {
        "id": "ATEb3mMj6nQZ"
      },
      "source": [
        "import math\n",
        "import numpy as np\n",
        "import pandas as pd"
      ],
      "execution_count": 5,
      "outputs": []
    },
    {
      "cell_type": "markdown",
      "metadata": {
        "id": "az1pFWvwHU3k"
      },
      "source": [
        "# Tratando os Dados\n",
        "\n"
      ]
    },
    {
      "cell_type": "markdown",
      "metadata": {
        "id": "R317h8C-8Crr"
      },
      "source": [
        "## Dados utilizados\n",
        "\n"
      ]
    },
    {
      "cell_type": "code",
      "source": [
        "from google.colab import drive\n",
        "drive.mount('/content/drive')"
      ],
      "metadata": {
        "colab": {
          "base_uri": "https://localhost:8080/"
        },
        "id": "c0HnjkxL76l_",
        "outputId": "f0ebcff1-121b-45c8-9888-a020e7b9ebdb"
      },
      "execution_count": 6,
      "outputs": [
        {
          "output_type": "stream",
          "name": "stdout",
          "text": [
            "Mounted at /content/drive\n"
          ]
        }
      ]
    },
    {
      "cell_type": "code",
      "metadata": {
        "id": "VDge1SWK5TSx"
      },
      "source": [
        "df = pd.read_csv('/content/drive/My Drive/datasets/GOOGLE.csv', sep=';', index_col='Date', parse_dates=True)"
      ],
      "execution_count": 7,
      "outputs": []
    },
    {
      "cell_type": "code",
      "metadata": {
        "id": "Z1F8FI-n_po1"
      },
      "source": [
        "df = df[['Adj. Open', 'Adj. High', 'Adj. Low', 'Adj. Close', 'Adj. Volume']]"
      ],
      "execution_count": 8,
      "outputs": []
    },
    {
      "cell_type": "code",
      "metadata": {
        "id": "KjwCJ9ip_t39",
        "colab": {
          "base_uri": "https://localhost:8080/",
          "height": 0
        },
        "outputId": "1230a6ed-84af-4a80-e7a5-17791c65b350"
      },
      "source": [
        "df.head()"
      ],
      "execution_count": 9,
      "outputs": [
        {
          "output_type": "execute_result",
          "data": {
            "text/html": [
              "\n",
              "  <div id=\"df-869ffce5-72cf-40e8-ba30-dca8068c3a2b\">\n",
              "    <div class=\"colab-df-container\">\n",
              "      <div>\n",
              "<style scoped>\n",
              "    .dataframe tbody tr th:only-of-type {\n",
              "        vertical-align: middle;\n",
              "    }\n",
              "\n",
              "    .dataframe tbody tr th {\n",
              "        vertical-align: top;\n",
              "    }\n",
              "\n",
              "    .dataframe thead th {\n",
              "        text-align: right;\n",
              "    }\n",
              "</style>\n",
              "<table border=\"1\" class=\"dataframe\">\n",
              "  <thead>\n",
              "    <tr style=\"text-align: right;\">\n",
              "      <th></th>\n",
              "      <th>Adj. Open</th>\n",
              "      <th>Adj. High</th>\n",
              "      <th>Adj. Low</th>\n",
              "      <th>Adj. Close</th>\n",
              "      <th>Adj. Volume</th>\n",
              "    </tr>\n",
              "    <tr>\n",
              "      <th>Date</th>\n",
              "      <th></th>\n",
              "      <th></th>\n",
              "      <th></th>\n",
              "      <th></th>\n",
              "      <th></th>\n",
              "    </tr>\n",
              "  </thead>\n",
              "  <tbody>\n",
              "    <tr>\n",
              "      <th>2004-08-19</th>\n",
              "      <td>50.159839</td>\n",
              "      <td>52.191109</td>\n",
              "      <td>48.128568</td>\n",
              "      <td>50.322842</td>\n",
              "      <td>44659000.0</td>\n",
              "    </tr>\n",
              "    <tr>\n",
              "      <th>2004-08-20</th>\n",
              "      <td>50.661387</td>\n",
              "      <td>54.708881</td>\n",
              "      <td>50.405597</td>\n",
              "      <td>54.322689</td>\n",
              "      <td>22834300.0</td>\n",
              "    </tr>\n",
              "    <tr>\n",
              "      <th>2004-08-23</th>\n",
              "      <td>55.551482</td>\n",
              "      <td>56.915693</td>\n",
              "      <td>54.693835</td>\n",
              "      <td>54.869377</td>\n",
              "      <td>18256100.0</td>\n",
              "    </tr>\n",
              "    <tr>\n",
              "      <th>2004-08-24</th>\n",
              "      <td>55.792225</td>\n",
              "      <td>55.972783</td>\n",
              "      <td>51.945350</td>\n",
              "      <td>52.597363</td>\n",
              "      <td>15247300.0</td>\n",
              "    </tr>\n",
              "    <tr>\n",
              "      <th>2004-08-25</th>\n",
              "      <td>52.542193</td>\n",
              "      <td>54.167209</td>\n",
              "      <td>52.100830</td>\n",
              "      <td>53.164113</td>\n",
              "      <td>9188600.0</td>\n",
              "    </tr>\n",
              "  </tbody>\n",
              "</table>\n",
              "</div>\n",
              "      <button class=\"colab-df-convert\" onclick=\"convertToInteractive('df-869ffce5-72cf-40e8-ba30-dca8068c3a2b')\"\n",
              "              title=\"Convert this dataframe to an interactive table.\"\n",
              "              style=\"display:none;\">\n",
              "        \n",
              "  <svg xmlns=\"http://www.w3.org/2000/svg\" height=\"24px\"viewBox=\"0 0 24 24\"\n",
              "       width=\"24px\">\n",
              "    <path d=\"M0 0h24v24H0V0z\" fill=\"none\"/>\n",
              "    <path d=\"M18.56 5.44l.94 2.06.94-2.06 2.06-.94-2.06-.94-.94-2.06-.94 2.06-2.06.94zm-11 1L8.5 8.5l.94-2.06 2.06-.94-2.06-.94L8.5 2.5l-.94 2.06-2.06.94zm10 10l.94 2.06.94-2.06 2.06-.94-2.06-.94-.94-2.06-.94 2.06-2.06.94z\"/><path d=\"M17.41 7.96l-1.37-1.37c-.4-.4-.92-.59-1.43-.59-.52 0-1.04.2-1.43.59L10.3 9.45l-7.72 7.72c-.78.78-.78 2.05 0 2.83L4 21.41c.39.39.9.59 1.41.59.51 0 1.02-.2 1.41-.59l7.78-7.78 2.81-2.81c.8-.78.8-2.07 0-2.86zM5.41 20L4 18.59l7.72-7.72 1.47 1.35L5.41 20z\"/>\n",
              "  </svg>\n",
              "      </button>\n",
              "      \n",
              "  <style>\n",
              "    .colab-df-container {\n",
              "      display:flex;\n",
              "      flex-wrap:wrap;\n",
              "      gap: 12px;\n",
              "    }\n",
              "\n",
              "    .colab-df-convert {\n",
              "      background-color: #E8F0FE;\n",
              "      border: none;\n",
              "      border-radius: 50%;\n",
              "      cursor: pointer;\n",
              "      display: none;\n",
              "      fill: #1967D2;\n",
              "      height: 32px;\n",
              "      padding: 0 0 0 0;\n",
              "      width: 32px;\n",
              "    }\n",
              "\n",
              "    .colab-df-convert:hover {\n",
              "      background-color: #E2EBFA;\n",
              "      box-shadow: 0px 1px 2px rgba(60, 64, 67, 0.3), 0px 1px 3px 1px rgba(60, 64, 67, 0.15);\n",
              "      fill: #174EA6;\n",
              "    }\n",
              "\n",
              "    [theme=dark] .colab-df-convert {\n",
              "      background-color: #3B4455;\n",
              "      fill: #D2E3FC;\n",
              "    }\n",
              "\n",
              "    [theme=dark] .colab-df-convert:hover {\n",
              "      background-color: #434B5C;\n",
              "      box-shadow: 0px 1px 3px 1px rgba(0, 0, 0, 0.15);\n",
              "      filter: drop-shadow(0px 1px 2px rgba(0, 0, 0, 0.3));\n",
              "      fill: #FFFFFF;\n",
              "    }\n",
              "  </style>\n",
              "\n",
              "      <script>\n",
              "        const buttonEl =\n",
              "          document.querySelector('#df-869ffce5-72cf-40e8-ba30-dca8068c3a2b button.colab-df-convert');\n",
              "        buttonEl.style.display =\n",
              "          google.colab.kernel.accessAllowed ? 'block' : 'none';\n",
              "\n",
              "        async function convertToInteractive(key) {\n",
              "          const element = document.querySelector('#df-869ffce5-72cf-40e8-ba30-dca8068c3a2b');\n",
              "          const dataTable =\n",
              "            await google.colab.kernel.invokeFunction('convertToInteractive',\n",
              "                                                     [key], {});\n",
              "          if (!dataTable) return;\n",
              "\n",
              "          const docLinkHtml = 'Like what you see? Visit the ' +\n",
              "            '<a target=\"_blank\" href=https://colab.research.google.com/notebooks/data_table.ipynb>data table notebook</a>'\n",
              "            + ' to learn more about interactive tables.';\n",
              "          element.innerHTML = '';\n",
              "          dataTable['output_type'] = 'display_data';\n",
              "          await google.colab.output.renderOutput(dataTable, element);\n",
              "          const docLink = document.createElement('div');\n",
              "          docLink.innerHTML = docLinkHtml;\n",
              "          element.appendChild(docLink);\n",
              "        }\n",
              "      </script>\n",
              "    </div>\n",
              "  </div>\n",
              "  "
            ],
            "text/plain": [
              "            Adj. Open  Adj. High   Adj. Low  Adj. Close  Adj. Volume\n",
              "Date                                                                \n",
              "2004-08-19  50.159839  52.191109  48.128568   50.322842   44659000.0\n",
              "2004-08-20  50.661387  54.708881  50.405597   54.322689   22834300.0\n",
              "2004-08-23  55.551482  56.915693  54.693835   54.869377   18256100.0\n",
              "2004-08-24  55.792225  55.972783  51.945350   52.597363   15247300.0\n",
              "2004-08-25  52.542193  54.167209  52.100830   53.164113    9188600.0"
            ]
          },
          "metadata": {},
          "execution_count": 9
        }
      ]
    },
    {
      "cell_type": "code",
      "metadata": {
        "id": "DejlT7pC_qWV"
      },
      "source": [
        "df['HL_PCT'] = (df['Adj. High'] - df['Adj. Low']) / df['Adj. Close'] * 100.0"
      ],
      "execution_count": 10,
      "outputs": []
    },
    {
      "cell_type": "code",
      "metadata": {
        "id": "J7l3RSNeATdB"
      },
      "source": [
        "df['PCT_change'] = (df['Adj. Close'] - df['Adj. Open']) / df['Adj. Open'] * 100.0"
      ],
      "execution_count": 11,
      "outputs": []
    },
    {
      "cell_type": "code",
      "metadata": {
        "id": "_68crOHXActs",
        "colab": {
          "base_uri": "https://localhost:8080/",
          "height": 0
        },
        "outputId": "8693de62-ed33-4f14-d2f9-2d3ad6f87ecc"
      },
      "source": [
        "df.head()"
      ],
      "execution_count": 12,
      "outputs": [
        {
          "output_type": "execute_result",
          "data": {
            "text/html": [
              "\n",
              "  <div id=\"df-1bc23eef-e83b-45d8-b19f-cb2ee12db7e1\">\n",
              "    <div class=\"colab-df-container\">\n",
              "      <div>\n",
              "<style scoped>\n",
              "    .dataframe tbody tr th:only-of-type {\n",
              "        vertical-align: middle;\n",
              "    }\n",
              "\n",
              "    .dataframe tbody tr th {\n",
              "        vertical-align: top;\n",
              "    }\n",
              "\n",
              "    .dataframe thead th {\n",
              "        text-align: right;\n",
              "    }\n",
              "</style>\n",
              "<table border=\"1\" class=\"dataframe\">\n",
              "  <thead>\n",
              "    <tr style=\"text-align: right;\">\n",
              "      <th></th>\n",
              "      <th>Adj. Open</th>\n",
              "      <th>Adj. High</th>\n",
              "      <th>Adj. Low</th>\n",
              "      <th>Adj. Close</th>\n",
              "      <th>Adj. Volume</th>\n",
              "      <th>HL_PCT</th>\n",
              "      <th>PCT_change</th>\n",
              "    </tr>\n",
              "    <tr>\n",
              "      <th>Date</th>\n",
              "      <th></th>\n",
              "      <th></th>\n",
              "      <th></th>\n",
              "      <th></th>\n",
              "      <th></th>\n",
              "      <th></th>\n",
              "      <th></th>\n",
              "    </tr>\n",
              "  </thead>\n",
              "  <tbody>\n",
              "    <tr>\n",
              "      <th>2004-08-19</th>\n",
              "      <td>50.159839</td>\n",
              "      <td>52.191109</td>\n",
              "      <td>48.128568</td>\n",
              "      <td>50.322842</td>\n",
              "      <td>44659000.0</td>\n",
              "      <td>8.072956</td>\n",
              "      <td>0.324968</td>\n",
              "    </tr>\n",
              "    <tr>\n",
              "      <th>2004-08-20</th>\n",
              "      <td>50.661387</td>\n",
              "      <td>54.708881</td>\n",
              "      <td>50.405597</td>\n",
              "      <td>54.322689</td>\n",
              "      <td>22834300.0</td>\n",
              "      <td>7.921706</td>\n",
              "      <td>7.227007</td>\n",
              "    </tr>\n",
              "    <tr>\n",
              "      <th>2004-08-23</th>\n",
              "      <td>55.551482</td>\n",
              "      <td>56.915693</td>\n",
              "      <td>54.693835</td>\n",
              "      <td>54.869377</td>\n",
              "      <td>18256100.0</td>\n",
              "      <td>4.049360</td>\n",
              "      <td>-1.227880</td>\n",
              "    </tr>\n",
              "    <tr>\n",
              "      <th>2004-08-24</th>\n",
              "      <td>55.792225</td>\n",
              "      <td>55.972783</td>\n",
              "      <td>51.945350</td>\n",
              "      <td>52.597363</td>\n",
              "      <td>15247300.0</td>\n",
              "      <td>7.657099</td>\n",
              "      <td>-5.726357</td>\n",
              "    </tr>\n",
              "    <tr>\n",
              "      <th>2004-08-25</th>\n",
              "      <td>52.542193</td>\n",
              "      <td>54.167209</td>\n",
              "      <td>52.100830</td>\n",
              "      <td>53.164113</td>\n",
              "      <td>9188600.0</td>\n",
              "      <td>3.886792</td>\n",
              "      <td>1.183658</td>\n",
              "    </tr>\n",
              "  </tbody>\n",
              "</table>\n",
              "</div>\n",
              "      <button class=\"colab-df-convert\" onclick=\"convertToInteractive('df-1bc23eef-e83b-45d8-b19f-cb2ee12db7e1')\"\n",
              "              title=\"Convert this dataframe to an interactive table.\"\n",
              "              style=\"display:none;\">\n",
              "        \n",
              "  <svg xmlns=\"http://www.w3.org/2000/svg\" height=\"24px\"viewBox=\"0 0 24 24\"\n",
              "       width=\"24px\">\n",
              "    <path d=\"M0 0h24v24H0V0z\" fill=\"none\"/>\n",
              "    <path d=\"M18.56 5.44l.94 2.06.94-2.06 2.06-.94-2.06-.94-.94-2.06-.94 2.06-2.06.94zm-11 1L8.5 8.5l.94-2.06 2.06-.94-2.06-.94L8.5 2.5l-.94 2.06-2.06.94zm10 10l.94 2.06.94-2.06 2.06-.94-2.06-.94-.94-2.06-.94 2.06-2.06.94z\"/><path d=\"M17.41 7.96l-1.37-1.37c-.4-.4-.92-.59-1.43-.59-.52 0-1.04.2-1.43.59L10.3 9.45l-7.72 7.72c-.78.78-.78 2.05 0 2.83L4 21.41c.39.39.9.59 1.41.59.51 0 1.02-.2 1.41-.59l7.78-7.78 2.81-2.81c.8-.78.8-2.07 0-2.86zM5.41 20L4 18.59l7.72-7.72 1.47 1.35L5.41 20z\"/>\n",
              "  </svg>\n",
              "      </button>\n",
              "      \n",
              "  <style>\n",
              "    .colab-df-container {\n",
              "      display:flex;\n",
              "      flex-wrap:wrap;\n",
              "      gap: 12px;\n",
              "    }\n",
              "\n",
              "    .colab-df-convert {\n",
              "      background-color: #E8F0FE;\n",
              "      border: none;\n",
              "      border-radius: 50%;\n",
              "      cursor: pointer;\n",
              "      display: none;\n",
              "      fill: #1967D2;\n",
              "      height: 32px;\n",
              "      padding: 0 0 0 0;\n",
              "      width: 32px;\n",
              "    }\n",
              "\n",
              "    .colab-df-convert:hover {\n",
              "      background-color: #E2EBFA;\n",
              "      box-shadow: 0px 1px 2px rgba(60, 64, 67, 0.3), 0px 1px 3px 1px rgba(60, 64, 67, 0.15);\n",
              "      fill: #174EA6;\n",
              "    }\n",
              "\n",
              "    [theme=dark] .colab-df-convert {\n",
              "      background-color: #3B4455;\n",
              "      fill: #D2E3FC;\n",
              "    }\n",
              "\n",
              "    [theme=dark] .colab-df-convert:hover {\n",
              "      background-color: #434B5C;\n",
              "      box-shadow: 0px 1px 3px 1px rgba(0, 0, 0, 0.15);\n",
              "      filter: drop-shadow(0px 1px 2px rgba(0, 0, 0, 0.3));\n",
              "      fill: #FFFFFF;\n",
              "    }\n",
              "  </style>\n",
              "\n",
              "      <script>\n",
              "        const buttonEl =\n",
              "          document.querySelector('#df-1bc23eef-e83b-45d8-b19f-cb2ee12db7e1 button.colab-df-convert');\n",
              "        buttonEl.style.display =\n",
              "          google.colab.kernel.accessAllowed ? 'block' : 'none';\n",
              "\n",
              "        async function convertToInteractive(key) {\n",
              "          const element = document.querySelector('#df-1bc23eef-e83b-45d8-b19f-cb2ee12db7e1');\n",
              "          const dataTable =\n",
              "            await google.colab.kernel.invokeFunction('convertToInteractive',\n",
              "                                                     [key], {});\n",
              "          if (!dataTable) return;\n",
              "\n",
              "          const docLinkHtml = 'Like what you see? Visit the ' +\n",
              "            '<a target=\"_blank\" href=https://colab.research.google.com/notebooks/data_table.ipynb>data table notebook</a>'\n",
              "            + ' to learn more about interactive tables.';\n",
              "          element.innerHTML = '';\n",
              "          dataTable['output_type'] = 'display_data';\n",
              "          await google.colab.output.renderOutput(dataTable, element);\n",
              "          const docLink = document.createElement('div');\n",
              "          docLink.innerHTML = docLinkHtml;\n",
              "          element.appendChild(docLink);\n",
              "        }\n",
              "      </script>\n",
              "    </div>\n",
              "  </div>\n",
              "  "
            ],
            "text/plain": [
              "            Adj. Open  Adj. High   Adj. Low  ...  Adj. Volume    HL_PCT  PCT_change\n",
              "Date                                         ...                                   \n",
              "2004-08-19  50.159839  52.191109  48.128568  ...   44659000.0  8.072956    0.324968\n",
              "2004-08-20  50.661387  54.708881  50.405597  ...   22834300.0  7.921706    7.227007\n",
              "2004-08-23  55.551482  56.915693  54.693835  ...   18256100.0  4.049360   -1.227880\n",
              "2004-08-24  55.792225  55.972783  51.945350  ...   15247300.0  7.657099   -5.726357\n",
              "2004-08-25  52.542193  54.167209  52.100830  ...    9188600.0  3.886792    1.183658\n",
              "\n",
              "[5 rows x 7 columns]"
            ]
          },
          "metadata": {},
          "execution_count": 12
        }
      ]
    },
    {
      "cell_type": "code",
      "metadata": {
        "id": "zA0ML1HSBPG-",
        "colab": {
          "base_uri": "https://localhost:8080/",
          "height": 0
        },
        "outputId": "66f71e54-569e-4612-da4d-4f98d86bec22"
      },
      "source": [
        "df = df[['HL_PCT', 'PCT_change', 'Adj. Close', 'Adj. Volume']]\n",
        "df.head()"
      ],
      "execution_count": 13,
      "outputs": [
        {
          "output_type": "execute_result",
          "data": {
            "text/html": [
              "\n",
              "  <div id=\"df-71c6b57d-bb42-4a49-9386-00d6986ea770\">\n",
              "    <div class=\"colab-df-container\">\n",
              "      <div>\n",
              "<style scoped>\n",
              "    .dataframe tbody tr th:only-of-type {\n",
              "        vertical-align: middle;\n",
              "    }\n",
              "\n",
              "    .dataframe tbody tr th {\n",
              "        vertical-align: top;\n",
              "    }\n",
              "\n",
              "    .dataframe thead th {\n",
              "        text-align: right;\n",
              "    }\n",
              "</style>\n",
              "<table border=\"1\" class=\"dataframe\">\n",
              "  <thead>\n",
              "    <tr style=\"text-align: right;\">\n",
              "      <th></th>\n",
              "      <th>HL_PCT</th>\n",
              "      <th>PCT_change</th>\n",
              "      <th>Adj. Close</th>\n",
              "      <th>Adj. Volume</th>\n",
              "    </tr>\n",
              "    <tr>\n",
              "      <th>Date</th>\n",
              "      <th></th>\n",
              "      <th></th>\n",
              "      <th></th>\n",
              "      <th></th>\n",
              "    </tr>\n",
              "  </thead>\n",
              "  <tbody>\n",
              "    <tr>\n",
              "      <th>2004-08-19</th>\n",
              "      <td>8.072956</td>\n",
              "      <td>0.324968</td>\n",
              "      <td>50.322842</td>\n",
              "      <td>44659000.0</td>\n",
              "    </tr>\n",
              "    <tr>\n",
              "      <th>2004-08-20</th>\n",
              "      <td>7.921706</td>\n",
              "      <td>7.227007</td>\n",
              "      <td>54.322689</td>\n",
              "      <td>22834300.0</td>\n",
              "    </tr>\n",
              "    <tr>\n",
              "      <th>2004-08-23</th>\n",
              "      <td>4.049360</td>\n",
              "      <td>-1.227880</td>\n",
              "      <td>54.869377</td>\n",
              "      <td>18256100.0</td>\n",
              "    </tr>\n",
              "    <tr>\n",
              "      <th>2004-08-24</th>\n",
              "      <td>7.657099</td>\n",
              "      <td>-5.726357</td>\n",
              "      <td>52.597363</td>\n",
              "      <td>15247300.0</td>\n",
              "    </tr>\n",
              "    <tr>\n",
              "      <th>2004-08-25</th>\n",
              "      <td>3.886792</td>\n",
              "      <td>1.183658</td>\n",
              "      <td>53.164113</td>\n",
              "      <td>9188600.0</td>\n",
              "    </tr>\n",
              "  </tbody>\n",
              "</table>\n",
              "</div>\n",
              "      <button class=\"colab-df-convert\" onclick=\"convertToInteractive('df-71c6b57d-bb42-4a49-9386-00d6986ea770')\"\n",
              "              title=\"Convert this dataframe to an interactive table.\"\n",
              "              style=\"display:none;\">\n",
              "        \n",
              "  <svg xmlns=\"http://www.w3.org/2000/svg\" height=\"24px\"viewBox=\"0 0 24 24\"\n",
              "       width=\"24px\">\n",
              "    <path d=\"M0 0h24v24H0V0z\" fill=\"none\"/>\n",
              "    <path d=\"M18.56 5.44l.94 2.06.94-2.06 2.06-.94-2.06-.94-.94-2.06-.94 2.06-2.06.94zm-11 1L8.5 8.5l.94-2.06 2.06-.94-2.06-.94L8.5 2.5l-.94 2.06-2.06.94zm10 10l.94 2.06.94-2.06 2.06-.94-2.06-.94-.94-2.06-.94 2.06-2.06.94z\"/><path d=\"M17.41 7.96l-1.37-1.37c-.4-.4-.92-.59-1.43-.59-.52 0-1.04.2-1.43.59L10.3 9.45l-7.72 7.72c-.78.78-.78 2.05 0 2.83L4 21.41c.39.39.9.59 1.41.59.51 0 1.02-.2 1.41-.59l7.78-7.78 2.81-2.81c.8-.78.8-2.07 0-2.86zM5.41 20L4 18.59l7.72-7.72 1.47 1.35L5.41 20z\"/>\n",
              "  </svg>\n",
              "      </button>\n",
              "      \n",
              "  <style>\n",
              "    .colab-df-container {\n",
              "      display:flex;\n",
              "      flex-wrap:wrap;\n",
              "      gap: 12px;\n",
              "    }\n",
              "\n",
              "    .colab-df-convert {\n",
              "      background-color: #E8F0FE;\n",
              "      border: none;\n",
              "      border-radius: 50%;\n",
              "      cursor: pointer;\n",
              "      display: none;\n",
              "      fill: #1967D2;\n",
              "      height: 32px;\n",
              "      padding: 0 0 0 0;\n",
              "      width: 32px;\n",
              "    }\n",
              "\n",
              "    .colab-df-convert:hover {\n",
              "      background-color: #E2EBFA;\n",
              "      box-shadow: 0px 1px 2px rgba(60, 64, 67, 0.3), 0px 1px 3px 1px rgba(60, 64, 67, 0.15);\n",
              "      fill: #174EA6;\n",
              "    }\n",
              "\n",
              "    [theme=dark] .colab-df-convert {\n",
              "      background-color: #3B4455;\n",
              "      fill: #D2E3FC;\n",
              "    }\n",
              "\n",
              "    [theme=dark] .colab-df-convert:hover {\n",
              "      background-color: #434B5C;\n",
              "      box-shadow: 0px 1px 3px 1px rgba(0, 0, 0, 0.15);\n",
              "      filter: drop-shadow(0px 1px 2px rgba(0, 0, 0, 0.3));\n",
              "      fill: #FFFFFF;\n",
              "    }\n",
              "  </style>\n",
              "\n",
              "      <script>\n",
              "        const buttonEl =\n",
              "          document.querySelector('#df-71c6b57d-bb42-4a49-9386-00d6986ea770 button.colab-df-convert');\n",
              "        buttonEl.style.display =\n",
              "          google.colab.kernel.accessAllowed ? 'block' : 'none';\n",
              "\n",
              "        async function convertToInteractive(key) {\n",
              "          const element = document.querySelector('#df-71c6b57d-bb42-4a49-9386-00d6986ea770');\n",
              "          const dataTable =\n",
              "            await google.colab.kernel.invokeFunction('convertToInteractive',\n",
              "                                                     [key], {});\n",
              "          if (!dataTable) return;\n",
              "\n",
              "          const docLinkHtml = 'Like what you see? Visit the ' +\n",
              "            '<a target=\"_blank\" href=https://colab.research.google.com/notebooks/data_table.ipynb>data table notebook</a>'\n",
              "            + ' to learn more about interactive tables.';\n",
              "          element.innerHTML = '';\n",
              "          dataTable['output_type'] = 'display_data';\n",
              "          await google.colab.output.renderOutput(dataTable, element);\n",
              "          const docLink = document.createElement('div');\n",
              "          docLink.innerHTML = docLinkHtml;\n",
              "          element.appendChild(docLink);\n",
              "        }\n",
              "      </script>\n",
              "    </div>\n",
              "  </div>\n",
              "  "
            ],
            "text/plain": [
              "              HL_PCT  PCT_change  Adj. Close  Adj. Volume\n",
              "Date                                                     \n",
              "2004-08-19  8.072956    0.324968   50.322842   44659000.0\n",
              "2004-08-20  7.921706    7.227007   54.322689   22834300.0\n",
              "2004-08-23  4.049360   -1.227880   54.869377   18256100.0\n",
              "2004-08-24  7.657099   -5.726357   52.597363   15247300.0\n",
              "2004-08-25  3.886792    1.183658   53.164113    9188600.0"
            ]
          },
          "metadata": {},
          "execution_count": 13
        }
      ]
    },
    {
      "cell_type": "code",
      "metadata": {
        "id": "IP2i33kqGNg5",
        "colab": {
          "base_uri": "https://localhost:8080/",
          "height": 0
        },
        "outputId": "722651bf-d67a-40f7-83c9-1f73692b20ed"
      },
      "source": [
        "forecast_col = 'Adj. Close'\n",
        "forecast_col"
      ],
      "execution_count": 14,
      "outputs": [
        {
          "output_type": "execute_result",
          "data": {
            "application/vnd.google.colaboratory.intrinsic+json": {
              "type": "string"
            },
            "text/plain": [
              "'Adj. Close'"
            ]
          },
          "metadata": {},
          "execution_count": 14
        }
      ]
    },
    {
      "cell_type": "code",
      "source": [
        "df.info()"
      ],
      "metadata": {
        "colab": {
          "base_uri": "https://localhost:8080/"
        },
        "id": "8hyNG5OcB6bF",
        "outputId": "a7b018e7-0efe-4d56-ccc8-0cd349d334c0"
      },
      "execution_count": 15,
      "outputs": [
        {
          "output_type": "stream",
          "name": "stdout",
          "text": [
            "<class 'pandas.core.frame.DataFrame'>\n",
            "DatetimeIndex: 3424 entries, 2004-08-19 to 2018-03-27\n",
            "Data columns (total 4 columns):\n",
            " #   Column       Non-Null Count  Dtype  \n",
            "---  ------       --------------  -----  \n",
            " 0   HL_PCT       3424 non-null   float64\n",
            " 1   PCT_change   3424 non-null   float64\n",
            " 2   Adj. Close   3424 non-null   float64\n",
            " 3   Adj. Volume  3424 non-null   float64\n",
            "dtypes: float64(4)\n",
            "memory usage: 133.8 KB\n"
          ]
        }
      ]
    },
    {
      "cell_type": "code",
      "source": [
        "df.fillna(value=-99999, inplace=True)"
      ],
      "metadata": {
        "colab": {
          "base_uri": "https://localhost:8080/"
        },
        "id": "hTIjJDlvCDZ2",
        "outputId": "1cf7ddf2-f260-4112-b2be-51fcd41bcbed"
      },
      "execution_count": 16,
      "outputs": [
        {
          "output_type": "stream",
          "name": "stderr",
          "text": [
            "/usr/local/lib/python3.7/dist-packages/pandas/core/frame.py:5182: SettingWithCopyWarning: \n",
            "A value is trying to be set on a copy of a slice from a DataFrame\n",
            "\n",
            "See the caveats in the documentation: https://pandas.pydata.org/pandas-docs/stable/user_guide/indexing.html#returning-a-view-versus-a-copy\n",
            "  downcast=downcast,\n"
          ]
        }
      ]
    },
    {
      "cell_type": "code",
      "source": [
        "forecast_out = int(math.ceil(0.01 * len(df)))\n",
        "forecast_out"
      ],
      "metadata": {
        "colab": {
          "base_uri": "https://localhost:8080/"
        },
        "id": "IAK97fi3CiV4",
        "outputId": "7b020636-e563-4fd3-d1fd-cd0f6030d945"
      },
      "execution_count": 17,
      "outputs": [
        {
          "output_type": "execute_result",
          "data": {
            "text/plain": [
              "35"
            ]
          },
          "metadata": {},
          "execution_count": 17
        }
      ]
    },
    {
      "cell_type": "code",
      "source": [
        "df['label'] = df[forecast_col].shift(-forecast_out)"
      ],
      "metadata": {
        "id": "uR6FR_VwDpr-"
      },
      "execution_count": 18,
      "outputs": []
    },
    {
      "cell_type": "code",
      "source": [
        "df.head(37)"
      ],
      "metadata": {
        "colab": {
          "base_uri": "https://localhost:8080/",
          "height": 0
        },
        "id": "8TVgp7HjDaqs",
        "outputId": "beba443d-0bb2-48cb-8ac5-3b5d247371cc"
      },
      "execution_count": 19,
      "outputs": [
        {
          "output_type": "execute_result",
          "data": {
            "text/html": [
              "\n",
              "  <div id=\"df-7c4c5f60-44a3-4400-becb-5108dfb13769\">\n",
              "    <div class=\"colab-df-container\">\n",
              "      <div>\n",
              "<style scoped>\n",
              "    .dataframe tbody tr th:only-of-type {\n",
              "        vertical-align: middle;\n",
              "    }\n",
              "\n",
              "    .dataframe tbody tr th {\n",
              "        vertical-align: top;\n",
              "    }\n",
              "\n",
              "    .dataframe thead th {\n",
              "        text-align: right;\n",
              "    }\n",
              "</style>\n",
              "<table border=\"1\" class=\"dataframe\">\n",
              "  <thead>\n",
              "    <tr style=\"text-align: right;\">\n",
              "      <th></th>\n",
              "      <th>HL_PCT</th>\n",
              "      <th>PCT_change</th>\n",
              "      <th>Adj. Close</th>\n",
              "      <th>Adj. Volume</th>\n",
              "      <th>label</th>\n",
              "    </tr>\n",
              "    <tr>\n",
              "      <th>Date</th>\n",
              "      <th></th>\n",
              "      <th></th>\n",
              "      <th></th>\n",
              "      <th></th>\n",
              "      <th></th>\n",
              "    </tr>\n",
              "  </thead>\n",
              "  <tbody>\n",
              "    <tr>\n",
              "      <th>2004-08-19</th>\n",
              "      <td>8.072956</td>\n",
              "      <td>0.324968</td>\n",
              "      <td>50.322842</td>\n",
              "      <td>44659000.0</td>\n",
              "      <td>69.078238</td>\n",
              "    </tr>\n",
              "    <tr>\n",
              "      <th>2004-08-20</th>\n",
              "      <td>7.921706</td>\n",
              "      <td>7.227007</td>\n",
              "      <td>54.322689</td>\n",
              "      <td>22834300.0</td>\n",
              "      <td>67.839414</td>\n",
              "    </tr>\n",
              "    <tr>\n",
              "      <th>2004-08-23</th>\n",
              "      <td>4.049360</td>\n",
              "      <td>-1.227880</td>\n",
              "      <td>54.869377</td>\n",
              "      <td>18256100.0</td>\n",
              "      <td>68.912727</td>\n",
              "    </tr>\n",
              "    <tr>\n",
              "      <th>2004-08-24</th>\n",
              "      <td>7.657099</td>\n",
              "      <td>-5.726357</td>\n",
              "      <td>52.597363</td>\n",
              "      <td>15247300.0</td>\n",
              "      <td>70.668146</td>\n",
              "    </tr>\n",
              "    <tr>\n",
              "      <th>2004-08-25</th>\n",
              "      <td>3.886792</td>\n",
              "      <td>1.183658</td>\n",
              "      <td>53.164113</td>\n",
              "      <td>9188600.0</td>\n",
              "      <td>71.219849</td>\n",
              "    </tr>\n",
              "    <tr>\n",
              "      <th>2004-08-26</th>\n",
              "      <td>3.048837</td>\n",
              "      <td>2.820391</td>\n",
              "      <td>54.122070</td>\n",
              "      <td>7094800.0</td>\n",
              "      <td>72.278116</td>\n",
              "    </tr>\n",
              "    <tr>\n",
              "      <th>2004-08-27</th>\n",
              "      <td>2.760245</td>\n",
              "      <td>-1.803885</td>\n",
              "      <td>53.239345</td>\n",
              "      <td>6211700.0</td>\n",
              "      <td>74.810934</td>\n",
              "    </tr>\n",
              "    <tr>\n",
              "      <th>2004-08-30</th>\n",
              "      <td>3.411430</td>\n",
              "      <td>-3.106003</td>\n",
              "      <td>51.162935</td>\n",
              "      <td>5196700.0</td>\n",
              "      <td>74.199045</td>\n",
              "    </tr>\n",
              "    <tr>\n",
              "      <th>2004-08-31</th>\n",
              "      <td>1.514115</td>\n",
              "      <td>0.048866</td>\n",
              "      <td>51.343492</td>\n",
              "      <td>4917800.0</td>\n",
              "      <td>70.462511</td>\n",
              "    </tr>\n",
              "    <tr>\n",
              "      <th>2004-09-01</th>\n",
              "      <td>3.291771</td>\n",
              "      <td>-2.385589</td>\n",
              "      <td>50.280210</td>\n",
              "      <td>9138200.0</td>\n",
              "      <td>74.921275</td>\n",
              "    </tr>\n",
              "    <tr>\n",
              "      <th>2004-09-02</th>\n",
              "      <td>3.378977</td>\n",
              "      <td>2.442224</td>\n",
              "      <td>50.912161</td>\n",
              "      <td>15118600.0</td>\n",
              "      <td>86.481962</td>\n",
              "    </tr>\n",
              "    <tr>\n",
              "      <th>2004-09-03</th>\n",
              "      <td>2.419758</td>\n",
              "      <td>-0.931154</td>\n",
              "      <td>50.159839</td>\n",
              "      <td>5152400.0</td>\n",
              "      <td>93.990139</td>\n",
              "    </tr>\n",
              "    <tr>\n",
              "      <th>2004-09-07</th>\n",
              "      <td>2.352825</td>\n",
              "      <td>0.564301</td>\n",
              "      <td>50.947269</td>\n",
              "      <td>5847500.0</td>\n",
              "      <td>91.181468</td>\n",
              "    </tr>\n",
              "    <tr>\n",
              "      <th>2004-09-08</th>\n",
              "      <td>2.473118</td>\n",
              "      <td>1.548541</td>\n",
              "      <td>51.308384</td>\n",
              "      <td>4985600.0</td>\n",
              "      <td>93.272925</td>\n",
              "    </tr>\n",
              "    <tr>\n",
              "      <th>2004-09-09</th>\n",
              "      <td>1.671391</td>\n",
              "      <td>-0.185366</td>\n",
              "      <td>51.313400</td>\n",
              "      <td>4061700.0</td>\n",
              "      <td>96.949273</td>\n",
              "    </tr>\n",
              "    <tr>\n",
              "      <th>2004-09-10</th>\n",
              "      <td>4.993829</td>\n",
              "      <td>3.804080</td>\n",
              "      <td>52.828075</td>\n",
              "      <td>8698800.0</td>\n",
              "      <td>95.615155</td>\n",
              "    </tr>\n",
              "    <tr>\n",
              "      <th>2004-09-13</th>\n",
              "      <td>1.813953</td>\n",
              "      <td>0.815905</td>\n",
              "      <td>53.916435</td>\n",
              "      <td>7844100.0</td>\n",
              "      <td>98.318500</td>\n",
              "    </tr>\n",
              "    <tr>\n",
              "      <th>2004-09-14</th>\n",
              "      <td>4.673065</td>\n",
              "      <td>3.769546</td>\n",
              "      <td>55.917612</td>\n",
              "      <td>10828900.0</td>\n",
              "      <td>97.736704</td>\n",
              "    </tr>\n",
              "    <tr>\n",
              "      <th>2004-09-15</th>\n",
              "      <td>3.598214</td>\n",
              "      <td>1.302460</td>\n",
              "      <td>56.173402</td>\n",
              "      <td>10713000.0</td>\n",
              "      <td>96.131750</td>\n",
              "    </tr>\n",
              "    <tr>\n",
              "      <th>2004-09-16</th>\n",
              "      <td>3.641309</td>\n",
              "      <td>1.450952</td>\n",
              "      <td>57.161452</td>\n",
              "      <td>9266300.0</td>\n",
              "      <td>92.635958</td>\n",
              "    </tr>\n",
              "    <tr>\n",
              "      <th>2004-09-17</th>\n",
              "      <td>3.353477</td>\n",
              "      <td>2.683097</td>\n",
              "      <td>58.926902</td>\n",
              "      <td>9472500.0</td>\n",
              "      <td>84.937193</td>\n",
              "    </tr>\n",
              "    <tr>\n",
              "      <th>2004-09-20</th>\n",
              "      <td>4.046582</td>\n",
              "      <td>2.060710</td>\n",
              "      <td>59.864797</td>\n",
              "      <td>10628700.0</td>\n",
              "      <td>86.542147</td>\n",
              "    </tr>\n",
              "    <tr>\n",
              "      <th>2004-09-21</th>\n",
              "      <td>2.469450</td>\n",
              "      <td>-1.963394</td>\n",
              "      <td>59.102444</td>\n",
              "      <td>7228700.0</td>\n",
              "      <td>84.611187</td>\n",
              "    </tr>\n",
              "    <tr>\n",
              "      <th>2004-09-22</th>\n",
              "      <td>2.415949</td>\n",
              "      <td>0.791826</td>\n",
              "      <td>59.373280</td>\n",
              "      <td>7581200.0</td>\n",
              "      <td>84.189886</td>\n",
              "    </tr>\n",
              "    <tr>\n",
              "      <th>2004-09-23</th>\n",
              "      <td>4.643271</td>\n",
              "      <td>1.666106</td>\n",
              "      <td>60.597057</td>\n",
              "      <td>8535600.0</td>\n",
              "      <td>91.793357</td>\n",
              "    </tr>\n",
              "    <tr>\n",
              "      <th>2004-09-24</th>\n",
              "      <td>3.621798</td>\n",
              "      <td>-0.942382</td>\n",
              "      <td>60.100525</td>\n",
              "      <td>9123400.0</td>\n",
              "      <td>91.281778</td>\n",
              "    </tr>\n",
              "    <tr>\n",
              "      <th>2004-09-27</th>\n",
              "      <td>2.604431</td>\n",
              "      <td>-1.087320</td>\n",
              "      <td>59.313094</td>\n",
              "      <td>7066100.0</td>\n",
              "      <td>92.721222</td>\n",
              "    </tr>\n",
              "    <tr>\n",
              "      <th>2004-09-28</th>\n",
              "      <td>5.667665</td>\n",
              "      <td>4.713165</td>\n",
              "      <td>63.626409</td>\n",
              "      <td>16929000.0</td>\n",
              "      <td>86.539640</td>\n",
              "    </tr>\n",
              "    <tr>\n",
              "      <th>2004-09-29</th>\n",
              "      <td>6.705829</td>\n",
              "      <td>3.595985</td>\n",
              "      <td>65.742942</td>\n",
              "      <td>30516400.0</td>\n",
              "      <td>86.517070</td>\n",
              "    </tr>\n",
              "    <tr>\n",
              "      <th>2004-09-30</th>\n",
              "      <td>2.546296</td>\n",
              "      <td>-0.230179</td>\n",
              "      <td>65.000651</td>\n",
              "      <td>13758000.0</td>\n",
              "      <td>84.029391</td>\n",
              "    </tr>\n",
              "    <tr>\n",
              "      <th>2004-10-01</th>\n",
              "      <td>4.027757</td>\n",
              "      <td>1.360856</td>\n",
              "      <td>66.495265</td>\n",
              "      <td>15124800.0</td>\n",
              "      <td>84.962270</td>\n",
              "    </tr>\n",
              "    <tr>\n",
              "      <th>2004-10-04</th>\n",
              "      <td>2.102769</td>\n",
              "      <td>-0.158936</td>\n",
              "      <td>67.739104</td>\n",
              "      <td>13022700.0</td>\n",
              "      <td>82.805613</td>\n",
              "    </tr>\n",
              "    <tr>\n",
              "      <th>2004-10-05</th>\n",
              "      <td>4.545783</td>\n",
              "      <td>2.755087</td>\n",
              "      <td>69.399229</td>\n",
              "      <td>14973200.0</td>\n",
              "      <td>84.019360</td>\n",
              "    </tr>\n",
              "    <tr>\n",
              "      <th>2004-10-06</th>\n",
              "      <td>1.787278</td>\n",
              "      <td>-0.428561</td>\n",
              "      <td>68.752232</td>\n",
              "      <td>13381400.0</td>\n",
              "      <td>87.650569</td>\n",
              "    </tr>\n",
              "    <tr>\n",
              "      <th>2004-10-07</th>\n",
              "      <td>2.398272</td>\n",
              "      <td>1.676919</td>\n",
              "      <td>69.639972</td>\n",
              "      <td>14115000.0</td>\n",
              "      <td>89.972737</td>\n",
              "    </tr>\n",
              "    <tr>\n",
              "      <th>2004-10-08</th>\n",
              "      <td>1.931315</td>\n",
              "      <td>-0.720825</td>\n",
              "      <td>69.078238</td>\n",
              "      <td>11069500.0</td>\n",
              "      <td>90.805307</td>\n",
              "    </tr>\n",
              "    <tr>\n",
              "      <th>2004-10-11</th>\n",
              "      <td>3.703978</td>\n",
              "      <td>-1.277279</td>\n",
              "      <td>67.839414</td>\n",
              "      <td>10472100.0</td>\n",
              "      <td>91.271747</td>\n",
              "    </tr>\n",
              "  </tbody>\n",
              "</table>\n",
              "</div>\n",
              "      <button class=\"colab-df-convert\" onclick=\"convertToInteractive('df-7c4c5f60-44a3-4400-becb-5108dfb13769')\"\n",
              "              title=\"Convert this dataframe to an interactive table.\"\n",
              "              style=\"display:none;\">\n",
              "        \n",
              "  <svg xmlns=\"http://www.w3.org/2000/svg\" height=\"24px\"viewBox=\"0 0 24 24\"\n",
              "       width=\"24px\">\n",
              "    <path d=\"M0 0h24v24H0V0z\" fill=\"none\"/>\n",
              "    <path d=\"M18.56 5.44l.94 2.06.94-2.06 2.06-.94-2.06-.94-.94-2.06-.94 2.06-2.06.94zm-11 1L8.5 8.5l.94-2.06 2.06-.94-2.06-.94L8.5 2.5l-.94 2.06-2.06.94zm10 10l.94 2.06.94-2.06 2.06-.94-2.06-.94-.94-2.06-.94 2.06-2.06.94z\"/><path d=\"M17.41 7.96l-1.37-1.37c-.4-.4-.92-.59-1.43-.59-.52 0-1.04.2-1.43.59L10.3 9.45l-7.72 7.72c-.78.78-.78 2.05 0 2.83L4 21.41c.39.39.9.59 1.41.59.51 0 1.02-.2 1.41-.59l7.78-7.78 2.81-2.81c.8-.78.8-2.07 0-2.86zM5.41 20L4 18.59l7.72-7.72 1.47 1.35L5.41 20z\"/>\n",
              "  </svg>\n",
              "      </button>\n",
              "      \n",
              "  <style>\n",
              "    .colab-df-container {\n",
              "      display:flex;\n",
              "      flex-wrap:wrap;\n",
              "      gap: 12px;\n",
              "    }\n",
              "\n",
              "    .colab-df-convert {\n",
              "      background-color: #E8F0FE;\n",
              "      border: none;\n",
              "      border-radius: 50%;\n",
              "      cursor: pointer;\n",
              "      display: none;\n",
              "      fill: #1967D2;\n",
              "      height: 32px;\n",
              "      padding: 0 0 0 0;\n",
              "      width: 32px;\n",
              "    }\n",
              "\n",
              "    .colab-df-convert:hover {\n",
              "      background-color: #E2EBFA;\n",
              "      box-shadow: 0px 1px 2px rgba(60, 64, 67, 0.3), 0px 1px 3px 1px rgba(60, 64, 67, 0.15);\n",
              "      fill: #174EA6;\n",
              "    }\n",
              "\n",
              "    [theme=dark] .colab-df-convert {\n",
              "      background-color: #3B4455;\n",
              "      fill: #D2E3FC;\n",
              "    }\n",
              "\n",
              "    [theme=dark] .colab-df-convert:hover {\n",
              "      background-color: #434B5C;\n",
              "      box-shadow: 0px 1px 3px 1px rgba(0, 0, 0, 0.15);\n",
              "      filter: drop-shadow(0px 1px 2px rgba(0, 0, 0, 0.3));\n",
              "      fill: #FFFFFF;\n",
              "    }\n",
              "  </style>\n",
              "\n",
              "      <script>\n",
              "        const buttonEl =\n",
              "          document.querySelector('#df-7c4c5f60-44a3-4400-becb-5108dfb13769 button.colab-df-convert');\n",
              "        buttonEl.style.display =\n",
              "          google.colab.kernel.accessAllowed ? 'block' : 'none';\n",
              "\n",
              "        async function convertToInteractive(key) {\n",
              "          const element = document.querySelector('#df-7c4c5f60-44a3-4400-becb-5108dfb13769');\n",
              "          const dataTable =\n",
              "            await google.colab.kernel.invokeFunction('convertToInteractive',\n",
              "                                                     [key], {});\n",
              "          if (!dataTable) return;\n",
              "\n",
              "          const docLinkHtml = 'Like what you see? Visit the ' +\n",
              "            '<a target=\"_blank\" href=https://colab.research.google.com/notebooks/data_table.ipynb>data table notebook</a>'\n",
              "            + ' to learn more about interactive tables.';\n",
              "          element.innerHTML = '';\n",
              "          dataTable['output_type'] = 'display_data';\n",
              "          await google.colab.output.renderOutput(dataTable, element);\n",
              "          const docLink = document.createElement('div');\n",
              "          docLink.innerHTML = docLinkHtml;\n",
              "          element.appendChild(docLink);\n",
              "        }\n",
              "      </script>\n",
              "    </div>\n",
              "  </div>\n",
              "  "
            ],
            "text/plain": [
              "              HL_PCT  PCT_change  Adj. Close  Adj. Volume      label\n",
              "Date                                                                \n",
              "2004-08-19  8.072956    0.324968   50.322842   44659000.0  69.078238\n",
              "2004-08-20  7.921706    7.227007   54.322689   22834300.0  67.839414\n",
              "2004-08-23  4.049360   -1.227880   54.869377   18256100.0  68.912727\n",
              "2004-08-24  7.657099   -5.726357   52.597363   15247300.0  70.668146\n",
              "2004-08-25  3.886792    1.183658   53.164113    9188600.0  71.219849\n",
              "2004-08-26  3.048837    2.820391   54.122070    7094800.0  72.278116\n",
              "2004-08-27  2.760245   -1.803885   53.239345    6211700.0  74.810934\n",
              "2004-08-30  3.411430   -3.106003   51.162935    5196700.0  74.199045\n",
              "2004-08-31  1.514115    0.048866   51.343492    4917800.0  70.462511\n",
              "2004-09-01  3.291771   -2.385589   50.280210    9138200.0  74.921275\n",
              "2004-09-02  3.378977    2.442224   50.912161   15118600.0  86.481962\n",
              "2004-09-03  2.419758   -0.931154   50.159839    5152400.0  93.990139\n",
              "2004-09-07  2.352825    0.564301   50.947269    5847500.0  91.181468\n",
              "2004-09-08  2.473118    1.548541   51.308384    4985600.0  93.272925\n",
              "2004-09-09  1.671391   -0.185366   51.313400    4061700.0  96.949273\n",
              "2004-09-10  4.993829    3.804080   52.828075    8698800.0  95.615155\n",
              "2004-09-13  1.813953    0.815905   53.916435    7844100.0  98.318500\n",
              "2004-09-14  4.673065    3.769546   55.917612   10828900.0  97.736704\n",
              "2004-09-15  3.598214    1.302460   56.173402   10713000.0  96.131750\n",
              "2004-09-16  3.641309    1.450952   57.161452    9266300.0  92.635958\n",
              "2004-09-17  3.353477    2.683097   58.926902    9472500.0  84.937193\n",
              "2004-09-20  4.046582    2.060710   59.864797   10628700.0  86.542147\n",
              "2004-09-21  2.469450   -1.963394   59.102444    7228700.0  84.611187\n",
              "2004-09-22  2.415949    0.791826   59.373280    7581200.0  84.189886\n",
              "2004-09-23  4.643271    1.666106   60.597057    8535600.0  91.793357\n",
              "2004-09-24  3.621798   -0.942382   60.100525    9123400.0  91.281778\n",
              "2004-09-27  2.604431   -1.087320   59.313094    7066100.0  92.721222\n",
              "2004-09-28  5.667665    4.713165   63.626409   16929000.0  86.539640\n",
              "2004-09-29  6.705829    3.595985   65.742942   30516400.0  86.517070\n",
              "2004-09-30  2.546296   -0.230179   65.000651   13758000.0  84.029391\n",
              "2004-10-01  4.027757    1.360856   66.495265   15124800.0  84.962270\n",
              "2004-10-04  2.102769   -0.158936   67.739104   13022700.0  82.805613\n",
              "2004-10-05  4.545783    2.755087   69.399229   14973200.0  84.019360\n",
              "2004-10-06  1.787278   -0.428561   68.752232   13381400.0  87.650569\n",
              "2004-10-07  2.398272    1.676919   69.639972   14115000.0  89.972737\n",
              "2004-10-08  1.931315   -0.720825   69.078238   11069500.0  90.805307\n",
              "2004-10-11  3.703978   -1.277279   67.839414   10472100.0  91.271747"
            ]
          },
          "metadata": {},
          "execution_count": 19
        }
      ]
    },
    {
      "cell_type": "markdown",
      "metadata": {
        "id": "o1v7p65X52yt"
      },
      "source": [
        "# Treinamento"
      ]
    },
    {
      "cell_type": "markdown",
      "metadata": {
        "id": "v7H16CJs-9lE"
      },
      "source": [
        "## Dependências\n"
      ]
    },
    {
      "cell_type": "markdown",
      "metadata": {
        "id": "e-lSwA4DAbjx"
      },
      "source": [
        "A scikit-learn é uma biblioteca de ML para Python. Ela inclui vários algoritmos de classificação, regressão e agrupamento incluindo máquinas de vetores de suporte, florestas aleatórias, gradient boosting, k-means e DBSCAN, e é projetada para interagir com as bibliotecas NumPy e SciPy.\n",
        "\n",
        "\n",
        "Model selection:\n",
        "> https://scikit-learn.org/stable/modules/generated/sklearn.model_selection.train_test_split.html\n",
        "\n",
        "SVR:\n",
        "> https://scikit-learn.org/stable/modules/generated/sklearn.svm.SVR.html\n",
        "\n",
        "Linear Regression:\n",
        "\n",
        "\n",
        "> https://scikit-learn.org/stable/modules/generated/sklearn.linear_model.LinearRegression.html\n",
        "\n",
        "\n"
      ]
    },
    {
      "cell_type": "code",
      "metadata": {
        "id": "jWD7F5kT-6QI"
      },
      "source": [
        "from sklearn import model_selection, svm\n",
        "from sklearn.linear_model import LinearRegression"
      ],
      "execution_count": 20,
      "outputs": []
    },
    {
      "cell_type": "markdown",
      "metadata": {
        "id": "n0jo4sGCL61r"
      },
      "source": [
        "## Preparando pra testes e treinamento"
      ]
    },
    {
      "cell_type": "code",
      "metadata": {
        "id": "I-qd3RP-gpL7",
        "colab": {
          "base_uri": "https://localhost:8080/"
        },
        "outputId": "9dfdb1c0-f75a-4db1-bda9-b264aeafae06"
      },
      "source": [
        "X= np.array(df.drop(['label'],1))\n",
        "X"
      ],
      "execution_count": 21,
      "outputs": [
        {
          "output_type": "stream",
          "name": "stderr",
          "text": [
            "/usr/local/lib/python3.7/dist-packages/ipykernel_launcher.py:1: FutureWarning: In a future version of pandas all arguments of DataFrame.drop except for the argument 'labels' will be keyword-only\n",
            "  \"\"\"Entry point for launching an IPython kernel.\n"
          ]
        },
        {
          "output_type": "execute_result",
          "data": {
            "text/plain": [
              "array([[ 8.07295560e+00,  3.24967503e-01,  5.03228418e+01,\n",
              "         4.46590000e+07],\n",
              "       [ 7.92170621e+00,  7.22700723e+00,  5.43226889e+01,\n",
              "         2.28343000e+07],\n",
              "       [ 4.04936015e+00, -1.22788010e+00,  5.48693765e+01,\n",
              "         1.82561000e+07],\n",
              "       ...,\n",
              "       [ 4.08260679e+00, -2.36072933e+00,  1.02655000e+03,\n",
              "         2.41351700e+06],\n",
              "       [ 4.61915017e+00,  3.32191129e-01,  1.05409000e+03,\n",
              "         3.27240900e+06],\n",
              "       [ 6.64587761e+00, -5.35388664e+00,  1.00694000e+03,\n",
              "         2.94095700e+06]])"
            ]
          },
          "metadata": {},
          "execution_count": 21
        }
      ]
    },
    {
      "cell_type": "code",
      "metadata": {
        "id": "wwd5U91Ngx8j",
        "colab": {
          "base_uri": "https://localhost:8080/"
        },
        "outputId": "a6d312fc-dc01-434a-8805-ed7e1a212ba6"
      },
      "source": [
        "X_lately = X[-forecast_out:]\n",
        "X_lately"
      ],
      "execution_count": 22,
      "outputs": [
        {
          "output_type": "execute_result",
          "data": {
            "text/plain": [
              "array([[ 5.29033686e+00,  4.87920463e+00,  1.08443000e+03,\n",
              "         3.73252700e+06],\n",
              "       [ 3.02346955e+00, -2.72449929e+00,  1.05541000e+03,\n",
              "         2.54468300e+06],\n",
              "       [ 5.84824980e+00, -5.12043930e+00,  1.00560000e+03,\n",
              "         3.06717300e+06],\n",
              "       [ 5.24424255e+00,  1.71072640e+00,  1.04343000e+03,\n",
              "         4.43603200e+06],\n",
              "       [ 1.90411167e+00, -1.99683913e-01,  1.05456000e+03,\n",
              "         2.79625800e+06],\n",
              "       [ 1.35655606e+00,  3.94285714e-01,  1.05414000e+03,\n",
              "         1.57412100e+06],\n",
              "       [ 2.39302694e+00,  1.74330374e+00,  1.07270000e+03,\n",
              "         2.02997900e+06],\n",
              "       [ 2.46206568e+00,  7.30075223e-01,  1.09136000e+03,\n",
              "         1.80620600e+06],\n",
              "       [ 1.52989503e+00,  1.93894163e-01,  1.09550000e+03,\n",
              "         1.97192800e+06],\n",
              "       [ 2.38222528e+00,  9.91068487e-01,  1.10359000e+03,\n",
              "         1.64640500e+06],\n",
              "       [ 2.57598204e+00,  4.19258859e-01,  1.11375000e+03,\n",
              "         2.02453400e+06],\n",
              "       [ 1.82989459e+00, -8.28292395e-01,  1.10990000e+03,\n",
              "         1.38611500e+06],\n",
              "       [ 1.82254962e+00,  8.42972843e-01,  1.12809000e+03,\n",
              "         1.23453900e+06],\n",
              "       [ 1.29929177e+00,  1.04606577e+00,  1.14370000e+03,\n",
              "         1.48911800e+06],\n",
              "       [ 2.45724870e+00, -2.28993617e+00,  1.11751000e+03,\n",
              "         2.09486300e+06],\n",
              "       [ 2.23295166e+00, -1.61140820e+00,  1.10392000e+03,\n",
              "         2.43102300e+06],\n",
              "       [ 4.10487115e+00, -3.43655929e+00,  1.07141000e+03,\n",
              "         2.76685600e+06],\n",
              "       [ 3.39255078e+00,  2.47263653e+00,  1.08414000e+03,\n",
              "         2.50814500e+06],\n",
              "       [ 2.64076145e+00,  1.54248560e+00,  1.09476000e+03,\n",
              "         1.43236900e+06],\n",
              "       [ 1.01099101e+00, -1.08883041e-01,  1.10090000e+03,\n",
              "         1.16906800e+06],\n",
              "       [ 2.35776295e+00,  2.03327172e+00,  1.11504000e+03,\n",
              "         1.53742900e+06],\n",
              "       [ 1.26086880e+00,  1.09022556e+00,  1.12938000e+03,\n",
              "         1.51047800e+06],\n",
              "       [ 2.30092002e+00,  1.87275121e+00,  1.16084000e+03,\n",
              "         2.07017400e+06],\n",
              "       [ 1.62616967e+00,  7.55332389e-02,  1.16593000e+03,\n",
              "         2.12929700e+06],\n",
              "       [ 3.80994991e+00, -2.72394460e+00,  1.13991000e+03,\n",
              "         2.12943500e+06],\n",
              "       [ 1.51537571e+00,  2.69680573e-01,  1.14889000e+03,\n",
              "         2.03369700e+06],\n",
              "       [ 2.33267571e+00,  9.04686100e-02,  1.15061000e+03,\n",
              "         1.62386800e+06],\n",
              "       [ 2.24343717e+00, -1.81157225e+00,  1.13442000e+03,\n",
              "         2.65460200e+06],\n",
              "       [ 2.76800567e+00, -1.58262954e+00,  1.10007000e+03,\n",
              "         3.07634900e+06],\n",
              "       [ 2.11078664e+00, -2.36707939e-01,  1.09580000e+03,\n",
              "         2.70931000e+06],\n",
              "       [ 1.96435101e+00,  1.30884062e-01,  1.09400000e+03,\n",
              "         1.99051500e+06],\n",
              "       [ 3.25499691e+00, -2.48701401e+00,  1.05315000e+03,\n",
              "         3.41815400e+06],\n",
              "       [ 4.08260679e+00, -2.36072933e+00,  1.02655000e+03,\n",
              "         2.41351700e+06],\n",
              "       [ 4.61915017e+00,  3.32191129e-01,  1.05409000e+03,\n",
              "         3.27240900e+06],\n",
              "       [ 6.64587761e+00, -5.35388664e+00,  1.00694000e+03,\n",
              "         2.94095700e+06]])"
            ]
          },
          "metadata": {},
          "execution_count": 22
        }
      ]
    },
    {
      "cell_type": "code",
      "metadata": {
        "id": "Ad9f7A5Jg6Cy",
        "colab": {
          "base_uri": "https://localhost:8080/"
        },
        "outputId": "c062679d-4836-482a-ddc0-c96af8b357e0"
      },
      "source": [
        "X = X[:- forecast_out:]\n",
        "X"
      ],
      "execution_count": 23,
      "outputs": [
        {
          "output_type": "execute_result",
          "data": {
            "text/plain": [
              "array([[ 8.07295560e+00,  3.24967503e-01,  5.03228418e+01,\n",
              "         4.46590000e+07],\n",
              "       [ 7.92170621e+00,  7.22700723e+00,  5.43226889e+01,\n",
              "         2.28343000e+07],\n",
              "       [ 4.04936015e+00, -1.22788010e+00,  5.48693765e+01,\n",
              "         1.82561000e+07],\n",
              "       ...,\n",
              "       [ 1.53098791e+00,  4.76194525e-01,  1.18159000e+03,\n",
              "         2.77496700e+06],\n",
              "       [ 1.79860615e+00, -7.29098295e-01,  1.11920000e+03,\n",
              "         5.79888000e+06],\n",
              "       [ 5.45024140e+00, -2.89384977e+00,  1.06876000e+03,\n",
              "         3.74246900e+06]])"
            ]
          },
          "metadata": {},
          "execution_count": 23
        }
      ]
    },
    {
      "cell_type": "code",
      "metadata": {
        "id": "846OIkxBGP2R"
      },
      "source": [
        "df.dropna(inplace=True)"
      ],
      "execution_count": 24,
      "outputs": []
    },
    {
      "cell_type": "code",
      "metadata": {
        "id": "WQcZNYP5MBUR",
        "colab": {
          "base_uri": "https://localhost:8080/"
        },
        "outputId": "542c49f5-06a6-48ac-e3eb-8ee768a3d7c5"
      },
      "source": [
        "y = np.array(df['label'])\n",
        "y"
      ],
      "execution_count": 25,
      "outputs": [
        {
          "output_type": "execute_result",
          "data": {
            "text/plain": [
              "array([  69.0782379 ,   67.83941377,   68.91272699, ..., 1026.55      ,\n",
              "       1054.09      , 1006.94      ])"
            ]
          },
          "metadata": {},
          "execution_count": 25
        }
      ]
    },
    {
      "cell_type": "code",
      "metadata": {
        "id": "Wah3kgSFMLRV"
      },
      "source": [
        "X_train, X_test, y_train, y_test = model_selection.train_test_split(X, y, test_size=0.2)"
      ],
      "execution_count": 26,
      "outputs": []
    },
    {
      "cell_type": "code",
      "source": [
        "X_train"
      ],
      "metadata": {
        "colab": {
          "base_uri": "https://localhost:8080/"
        },
        "id": "KKx6LHcdJYRF",
        "outputId": "46aaaa1b-f691-4694-bf7d-99db37c98804"
      },
      "execution_count": 27,
      "outputs": [
        {
          "output_type": "execute_result",
          "data": {
            "text/plain": [
              "array([[ 1.61437065e+00, -8.12172088e-01,  2.37046741e+02,\n",
              "         9.74860000e+06],\n",
              "       [ 1.53420204e+00, -3.39214743e-01,  1.97454523e+02,\n",
              "         4.85050000e+06],\n",
              "       [ 8.31278339e-01, -5.02592109e-01,  2.52198513e+02,\n",
              "         9.23310000e+06],\n",
              "       ...,\n",
              "       [ 2.36506018e+00, -1.85691443e+00,  5.70810000e+02,\n",
              "         2.41345300e+06],\n",
              "       [ 1.36448598e+00, -7.42115028e-01,  5.35000000e+02,\n",
              "         1.64527600e+06],\n",
              "       [ 3.35962232e+00, -2.06272401e+00,  2.74091093e+02,\n",
              "         9.83310000e+06]])"
            ]
          },
          "metadata": {},
          "execution_count": 27
        }
      ]
    },
    {
      "cell_type": "markdown",
      "metadata": {
        "id": "Gte6wQ9QQqf-"
      },
      "source": [
        "## SVR"
      ]
    },
    {
      "cell_type": "markdown",
      "metadata": {
        "id": "gq7a1hztOyDM"
      },
      "source": [
        "Definimos o algoritmo"
      ]
    },
    {
      "cell_type": "code",
      "metadata": {
        "id": "cgJDRIsUMSWN",
        "colab": {
          "base_uri": "https://localhost:8080/"
        },
        "outputId": "72c2a504-b1e1-49bb-9fab-7c6949eb38ba"
      },
      "source": [
        "clf = svm.SVR()\n",
        "clf"
      ],
      "execution_count": 28,
      "outputs": [
        {
          "output_type": "execute_result",
          "data": {
            "text/plain": [
              "SVR()"
            ]
          },
          "metadata": {},
          "execution_count": 28
        }
      ]
    },
    {
      "cell_type": "markdown",
      "metadata": {
        "id": "7aWSXp2-O2YI"
      },
      "source": [
        "Treinamos o mesmo"
      ]
    },
    {
      "cell_type": "code",
      "metadata": {
        "id": "VOpDex9COJsb",
        "colab": {
          "base_uri": "https://localhost:8080/"
        },
        "outputId": "efa10eda-2ab2-4e82-d776-2e90a94702c8"
      },
      "source": [
        "clf.fit(X_train, y_train)"
      ],
      "execution_count": 29,
      "outputs": [
        {
          "output_type": "execute_result",
          "data": {
            "text/plain": [
              "SVR()"
            ]
          },
          "metadata": {},
          "execution_count": 29
        }
      ]
    },
    {
      "cell_type": "markdown",
      "metadata": {
        "id": "11EJMRmQQtBx"
      },
      "source": [
        "## Linear Regression"
      ]
    },
    {
      "cell_type": "code",
      "metadata": {
        "id": "DGPEHE0ZQ5cj",
        "colab": {
          "base_uri": "https://localhost:8080/"
        },
        "outputId": "44cb891f-82b9-46ac-b241-3c00475a05dd"
      },
      "source": [
        "clf2 = LinearRegression()\n",
        "clf2"
      ],
      "execution_count": 30,
      "outputs": [
        {
          "output_type": "execute_result",
          "data": {
            "text/plain": [
              "LinearRegression()"
            ]
          },
          "metadata": {},
          "execution_count": 30
        }
      ]
    },
    {
      "cell_type": "code",
      "metadata": {
        "id": "mxELbhgtQ98M",
        "colab": {
          "base_uri": "https://localhost:8080/"
        },
        "outputId": "66b5757a-f8d0-4692-f9e7-f22d821eb2a4"
      },
      "source": [
        "clf2.fit(X_train, y_train)"
      ],
      "execution_count": 31,
      "outputs": [
        {
          "output_type": "execute_result",
          "data": {
            "text/plain": [
              "LinearRegression()"
            ]
          },
          "metadata": {},
          "execution_count": 31
        }
      ]
    },
    {
      "cell_type": "markdown",
      "metadata": {
        "id": "Ix7WlL7L6HN3"
      },
      "source": [
        "# Testando"
      ]
    },
    {
      "cell_type": "markdown",
      "metadata": {
        "id": "XoAYsZjo7B5t"
      },
      "source": [
        "## SVR"
      ]
    },
    {
      "cell_type": "code",
      "metadata": {
        "id": "mrIVOXR-O8zf",
        "colab": {
          "base_uri": "https://localhost:8080/"
        },
        "outputId": "8637141d-1677-4971-c436-2426df1ef85b"
      },
      "source": [
        "accuracy_SVR = clf.score(X_test, y_test)\n",
        "accuracy_SVR"
      ],
      "execution_count": 32,
      "outputs": [
        {
          "output_type": "execute_result",
          "data": {
            "text/plain": [
              "0.5069330033483055"
            ]
          },
          "metadata": {},
          "execution_count": 32
        }
      ]
    },
    {
      "cell_type": "markdown",
      "metadata": {
        "id": "EL7WzBkh7GkS"
      },
      "source": [
        "## Linear Regression"
      ]
    },
    {
      "cell_type": "code",
      "metadata": {
        "id": "vpOB3tkBQ448",
        "colab": {
          "base_uri": "https://localhost:8080/"
        },
        "outputId": "c49c0c40-2a3b-41b4-e1d4-c15d4a12ce78"
      },
      "source": [
        "accuracy_LR = clf2.score(X_test, y_test)\n",
        "accuracy_LR"
      ],
      "execution_count": 33,
      "outputs": [
        {
          "output_type": "execute_result",
          "data": {
            "text/plain": [
              "0.9792166908308786"
            ]
          },
          "metadata": {},
          "execution_count": 33
        }
      ]
    },
    {
      "cell_type": "markdown",
      "metadata": {
        "id": "Cj6LuWXHiNx4"
      },
      "source": [
        "# Predict"
      ]
    },
    {
      "cell_type": "code",
      "metadata": {
        "id": "4E7iAVZgP96h",
        "colab": {
          "base_uri": "https://localhost:8080/"
        },
        "outputId": "6e9af3ed-bc69-42e6-e646-2c471e420bde"
      },
      "source": [
        "predicao_set = clf2.predict(X_lately)\n",
        "predicao_set"
      ],
      "execution_count": 34,
      "outputs": [
        {
          "output_type": "execute_result",
          "data": {
            "text/plain": [
              "array([1103.07018831, 1072.70221266, 1019.20741215, 1060.15796245,\n",
              "       1073.61258777, 1074.27774807, 1092.64999278, 1111.09019039,\n",
              "       1115.65982637, 1123.6558839 , 1133.39244384, 1129.76228433,\n",
              "       1148.87259169, 1164.99505471, 1136.12134137, 1122.72964593,\n",
              "       1087.68748849, 1103.59867901, 1114.86550176, 1121.65168114,\n",
              "       1135.70042916, 1150.58328859, 1181.6969616 , 1186.55369206,\n",
              "       1157.55220064, 1169.55458443, 1170.77317695, 1153.33459182,\n",
              "       1118.23377317, 1115.09404209, 1113.79854424, 1070.03418306,\n",
              "       1043.01169144, 1071.21910711, 1019.93086396])"
            ]
          },
          "metadata": {},
          "execution_count": 34
        }
      ]
    },
    {
      "cell_type": "markdown",
      "metadata": {
        "id": "404tqJDHilKG"
      },
      "source": [
        "# Exibindo dados"
      ]
    },
    {
      "cell_type": "markdown",
      "metadata": {
        "id": "aMlcqg-dlrg8"
      },
      "source": [
        "## Dependências"
      ]
    },
    {
      "cell_type": "markdown",
      "metadata": {
        "id": "MT6AAFnoiwJe"
      },
      "source": [
        "Matplotlib é uma biblioteca de plotagem para a linguagem de programação Python e sua extensão numérica de matemática NumPy\n",
        "\n",
        "\n",
        "> https://matplotlib.org/api/_as_gen/matplotlib.pyplot.html?highlight=pyplot#module-matplotlib.pyplot\n",
        "\n"
      ]
    },
    {
      "cell_type": "code",
      "metadata": {
        "id": "u0kEBxL2jNCS"
      },
      "source": [
        "import datetime\n",
        "import matplotlib.pyplot as plt\n",
        "from matplotlib import style"
      ],
      "execution_count": 35,
      "outputs": []
    },
    {
      "cell_type": "markdown",
      "metadata": {
        "id": "HgG1A5H4ksDR"
      },
      "source": [
        "Estilos de plotagem: \n",
        "\n",
        "> https://matplotlib.org/3.1.1/gallery/style_sheets/style_sheets_reference.html\n",
        "\n",
        "\n"
      ]
    },
    {
      "cell_type": "code",
      "metadata": {
        "id": "kNbgVbgHkobP"
      },
      "source": [
        "style.use('ggplot')"
      ],
      "execution_count": 36,
      "outputs": []
    },
    {
      "cell_type": "markdown",
      "metadata": {
        "id": "vEjd9NMRlph4"
      },
      "source": [
        "## Inserindo as predições"
      ]
    },
    {
      "cell_type": "code",
      "metadata": {
        "id": "TazR1PQzkuay",
        "colab": {
          "base_uri": "https://localhost:8080/",
          "height": 238
        },
        "outputId": "7f2c5810-32bb-4de1-888b-84459bd5ab95"
      },
      "source": [
        "df['forecast'] = np.nan\n",
        "df.head()"
      ],
      "execution_count": 37,
      "outputs": [
        {
          "output_type": "execute_result",
          "data": {
            "text/html": [
              "\n",
              "  <div id=\"df-b4f5c2d8-0806-40b7-92e4-10d0bf28edcc\">\n",
              "    <div class=\"colab-df-container\">\n",
              "      <div>\n",
              "<style scoped>\n",
              "    .dataframe tbody tr th:only-of-type {\n",
              "        vertical-align: middle;\n",
              "    }\n",
              "\n",
              "    .dataframe tbody tr th {\n",
              "        vertical-align: top;\n",
              "    }\n",
              "\n",
              "    .dataframe thead th {\n",
              "        text-align: right;\n",
              "    }\n",
              "</style>\n",
              "<table border=\"1\" class=\"dataframe\">\n",
              "  <thead>\n",
              "    <tr style=\"text-align: right;\">\n",
              "      <th></th>\n",
              "      <th>HL_PCT</th>\n",
              "      <th>PCT_change</th>\n",
              "      <th>Adj. Close</th>\n",
              "      <th>Adj. Volume</th>\n",
              "      <th>label</th>\n",
              "      <th>forecast</th>\n",
              "    </tr>\n",
              "    <tr>\n",
              "      <th>Date</th>\n",
              "      <th></th>\n",
              "      <th></th>\n",
              "      <th></th>\n",
              "      <th></th>\n",
              "      <th></th>\n",
              "      <th></th>\n",
              "    </tr>\n",
              "  </thead>\n",
              "  <tbody>\n",
              "    <tr>\n",
              "      <th>2004-08-19</th>\n",
              "      <td>8.072956</td>\n",
              "      <td>0.324968</td>\n",
              "      <td>50.322842</td>\n",
              "      <td>44659000.0</td>\n",
              "      <td>69.078238</td>\n",
              "      <td>NaN</td>\n",
              "    </tr>\n",
              "    <tr>\n",
              "      <th>2004-08-20</th>\n",
              "      <td>7.921706</td>\n",
              "      <td>7.227007</td>\n",
              "      <td>54.322689</td>\n",
              "      <td>22834300.0</td>\n",
              "      <td>67.839414</td>\n",
              "      <td>NaN</td>\n",
              "    </tr>\n",
              "    <tr>\n",
              "      <th>2004-08-23</th>\n",
              "      <td>4.049360</td>\n",
              "      <td>-1.227880</td>\n",
              "      <td>54.869377</td>\n",
              "      <td>18256100.0</td>\n",
              "      <td>68.912727</td>\n",
              "      <td>NaN</td>\n",
              "    </tr>\n",
              "    <tr>\n",
              "      <th>2004-08-24</th>\n",
              "      <td>7.657099</td>\n",
              "      <td>-5.726357</td>\n",
              "      <td>52.597363</td>\n",
              "      <td>15247300.0</td>\n",
              "      <td>70.668146</td>\n",
              "      <td>NaN</td>\n",
              "    </tr>\n",
              "    <tr>\n",
              "      <th>2004-08-25</th>\n",
              "      <td>3.886792</td>\n",
              "      <td>1.183658</td>\n",
              "      <td>53.164113</td>\n",
              "      <td>9188600.0</td>\n",
              "      <td>71.219849</td>\n",
              "      <td>NaN</td>\n",
              "    </tr>\n",
              "  </tbody>\n",
              "</table>\n",
              "</div>\n",
              "      <button class=\"colab-df-convert\" onclick=\"convertToInteractive('df-b4f5c2d8-0806-40b7-92e4-10d0bf28edcc')\"\n",
              "              title=\"Convert this dataframe to an interactive table.\"\n",
              "              style=\"display:none;\">\n",
              "        \n",
              "  <svg xmlns=\"http://www.w3.org/2000/svg\" height=\"24px\"viewBox=\"0 0 24 24\"\n",
              "       width=\"24px\">\n",
              "    <path d=\"M0 0h24v24H0V0z\" fill=\"none\"/>\n",
              "    <path d=\"M18.56 5.44l.94 2.06.94-2.06 2.06-.94-2.06-.94-.94-2.06-.94 2.06-2.06.94zm-11 1L8.5 8.5l.94-2.06 2.06-.94-2.06-.94L8.5 2.5l-.94 2.06-2.06.94zm10 10l.94 2.06.94-2.06 2.06-.94-2.06-.94-.94-2.06-.94 2.06-2.06.94z\"/><path d=\"M17.41 7.96l-1.37-1.37c-.4-.4-.92-.59-1.43-.59-.52 0-1.04.2-1.43.59L10.3 9.45l-7.72 7.72c-.78.78-.78 2.05 0 2.83L4 21.41c.39.39.9.59 1.41.59.51 0 1.02-.2 1.41-.59l7.78-7.78 2.81-2.81c.8-.78.8-2.07 0-2.86zM5.41 20L4 18.59l7.72-7.72 1.47 1.35L5.41 20z\"/>\n",
              "  </svg>\n",
              "      </button>\n",
              "      \n",
              "  <style>\n",
              "    .colab-df-container {\n",
              "      display:flex;\n",
              "      flex-wrap:wrap;\n",
              "      gap: 12px;\n",
              "    }\n",
              "\n",
              "    .colab-df-convert {\n",
              "      background-color: #E8F0FE;\n",
              "      border: none;\n",
              "      border-radius: 50%;\n",
              "      cursor: pointer;\n",
              "      display: none;\n",
              "      fill: #1967D2;\n",
              "      height: 32px;\n",
              "      padding: 0 0 0 0;\n",
              "      width: 32px;\n",
              "    }\n",
              "\n",
              "    .colab-df-convert:hover {\n",
              "      background-color: #E2EBFA;\n",
              "      box-shadow: 0px 1px 2px rgba(60, 64, 67, 0.3), 0px 1px 3px 1px rgba(60, 64, 67, 0.15);\n",
              "      fill: #174EA6;\n",
              "    }\n",
              "\n",
              "    [theme=dark] .colab-df-convert {\n",
              "      background-color: #3B4455;\n",
              "      fill: #D2E3FC;\n",
              "    }\n",
              "\n",
              "    [theme=dark] .colab-df-convert:hover {\n",
              "      background-color: #434B5C;\n",
              "      box-shadow: 0px 1px 3px 1px rgba(0, 0, 0, 0.15);\n",
              "      filter: drop-shadow(0px 1px 2px rgba(0, 0, 0, 0.3));\n",
              "      fill: #FFFFFF;\n",
              "    }\n",
              "  </style>\n",
              "\n",
              "      <script>\n",
              "        const buttonEl =\n",
              "          document.querySelector('#df-b4f5c2d8-0806-40b7-92e4-10d0bf28edcc button.colab-df-convert');\n",
              "        buttonEl.style.display =\n",
              "          google.colab.kernel.accessAllowed ? 'block' : 'none';\n",
              "\n",
              "        async function convertToInteractive(key) {\n",
              "          const element = document.querySelector('#df-b4f5c2d8-0806-40b7-92e4-10d0bf28edcc');\n",
              "          const dataTable =\n",
              "            await google.colab.kernel.invokeFunction('convertToInteractive',\n",
              "                                                     [key], {});\n",
              "          if (!dataTable) return;\n",
              "\n",
              "          const docLinkHtml = 'Like what you see? Visit the ' +\n",
              "            '<a target=\"_blank\" href=https://colab.research.google.com/notebooks/data_table.ipynb>data table notebook</a>'\n",
              "            + ' to learn more about interactive tables.';\n",
              "          element.innerHTML = '';\n",
              "          dataTable['output_type'] = 'display_data';\n",
              "          await google.colab.output.renderOutput(dataTable, element);\n",
              "          const docLink = document.createElement('div');\n",
              "          docLink.innerHTML = docLinkHtml;\n",
              "          element.appendChild(docLink);\n",
              "        }\n",
              "      </script>\n",
              "    </div>\n",
              "  </div>\n",
              "  "
            ],
            "text/plain": [
              "              HL_PCT  PCT_change  Adj. Close  Adj. Volume      label  forecast\n",
              "Date                                                                          \n",
              "2004-08-19  8.072956    0.324968   50.322842   44659000.0  69.078238       NaN\n",
              "2004-08-20  7.921706    7.227007   54.322689   22834300.0  67.839414       NaN\n",
              "2004-08-23  4.049360   -1.227880   54.869377   18256100.0  68.912727       NaN\n",
              "2004-08-24  7.657099   -5.726357   52.597363   15247300.0  70.668146       NaN\n",
              "2004-08-25  3.886792    1.183658   53.164113    9188600.0  71.219849       NaN"
            ]
          },
          "metadata": {},
          "execution_count": 37
        }
      ]
    },
    {
      "cell_type": "code",
      "metadata": {
        "id": "we-mSLK5kq2w",
        "colab": {
          "base_uri": "https://localhost:8080/"
        },
        "outputId": "6356d5da-9d88-4b74-9641-b307e40c46ab"
      },
      "source": [
        "last_date = df.iloc[-1].name\n",
        "last_date"
      ],
      "execution_count": 38,
      "outputs": [
        {
          "output_type": "execute_result",
          "data": {
            "text/plain": [
              "Timestamp('2018-02-05 00:00:00')"
            ]
          },
          "metadata": {},
          "execution_count": 38
        }
      ]
    },
    {
      "cell_type": "code",
      "metadata": {
        "id": "OdUmPpfomca-",
        "colab": {
          "base_uri": "https://localhost:8080/"
        },
        "outputId": "abe13928-a0f8-4479-a332-6d5f6d0aecef"
      },
      "source": [
        "last_unix = last_date.timestamp()\n",
        "last_unix"
      ],
      "execution_count": 39,
      "outputs": [
        {
          "output_type": "execute_result",
          "data": {
            "text/plain": [
              "1517788800.0"
            ]
          },
          "metadata": {},
          "execution_count": 39
        }
      ]
    },
    {
      "cell_type": "code",
      "metadata": {
        "id": "q2rTQDrinJ-B"
      },
      "source": [
        "next_unix = last_unix + 86400"
      ],
      "execution_count": 40,
      "outputs": []
    },
    {
      "cell_type": "code",
      "metadata": {
        "id": "08kMwvm6EtzP",
        "colab": {
          "base_uri": "https://localhost:8080/"
        },
        "outputId": "03401120-5228-42ca-a03d-854e497b30fe"
      },
      "source": [
        "datetime.datetime.fromtimestamp(next_unix)"
      ],
      "execution_count": 41,
      "outputs": [
        {
          "output_type": "execute_result",
          "data": {
            "text/plain": [
              "datetime.datetime(2018, 2, 6, 0, 0)"
            ]
          },
          "metadata": {},
          "execution_count": 41
        }
      ]
    },
    {
      "cell_type": "code",
      "metadata": {
        "id": "sbSd7L2jwuAu"
      },
      "source": [
        "for i in predicao_set:\n",
        "    next_date = datetime.datetime.fromtimestamp(next_unix)\n",
        "    next_unix += 86400\n",
        "    df.loc[next_date] = [np.nan, np.nan, np.nan, np.nan, np.nan] + [i]"
      ],
      "execution_count": 42,
      "outputs": []
    },
    {
      "cell_type": "code",
      "metadata": {
        "id": "WZYEs5GoG3ei",
        "colab": {
          "base_uri": "https://localhost:8080/",
          "height": 455
        },
        "outputId": "8e5fbbab-2b2c-4d22-d864-a5bf207e2a68"
      },
      "source": [
        "df"
      ],
      "execution_count": 43,
      "outputs": [
        {
          "output_type": "execute_result",
          "data": {
            "text/html": [
              "\n",
              "  <div id=\"df-0220e6d4-10fe-4a1d-8fc3-a55001cd5fb6\">\n",
              "    <div class=\"colab-df-container\">\n",
              "      <div>\n",
              "<style scoped>\n",
              "    .dataframe tbody tr th:only-of-type {\n",
              "        vertical-align: middle;\n",
              "    }\n",
              "\n",
              "    .dataframe tbody tr th {\n",
              "        vertical-align: top;\n",
              "    }\n",
              "\n",
              "    .dataframe thead th {\n",
              "        text-align: right;\n",
              "    }\n",
              "</style>\n",
              "<table border=\"1\" class=\"dataframe\">\n",
              "  <thead>\n",
              "    <tr style=\"text-align: right;\">\n",
              "      <th></th>\n",
              "      <th>HL_PCT</th>\n",
              "      <th>PCT_change</th>\n",
              "      <th>Adj. Close</th>\n",
              "      <th>Adj. Volume</th>\n",
              "      <th>label</th>\n",
              "      <th>forecast</th>\n",
              "    </tr>\n",
              "    <tr>\n",
              "      <th>Date</th>\n",
              "      <th></th>\n",
              "      <th></th>\n",
              "      <th></th>\n",
              "      <th></th>\n",
              "      <th></th>\n",
              "      <th></th>\n",
              "    </tr>\n",
              "  </thead>\n",
              "  <tbody>\n",
              "    <tr>\n",
              "      <th>2004-08-19</th>\n",
              "      <td>8.072956</td>\n",
              "      <td>0.324968</td>\n",
              "      <td>50.322842</td>\n",
              "      <td>44659000.0</td>\n",
              "      <td>69.078238</td>\n",
              "      <td>NaN</td>\n",
              "    </tr>\n",
              "    <tr>\n",
              "      <th>2004-08-20</th>\n",
              "      <td>7.921706</td>\n",
              "      <td>7.227007</td>\n",
              "      <td>54.322689</td>\n",
              "      <td>22834300.0</td>\n",
              "      <td>67.839414</td>\n",
              "      <td>NaN</td>\n",
              "    </tr>\n",
              "    <tr>\n",
              "      <th>2004-08-23</th>\n",
              "      <td>4.049360</td>\n",
              "      <td>-1.227880</td>\n",
              "      <td>54.869377</td>\n",
              "      <td>18256100.0</td>\n",
              "      <td>68.912727</td>\n",
              "      <td>NaN</td>\n",
              "    </tr>\n",
              "    <tr>\n",
              "      <th>2004-08-24</th>\n",
              "      <td>7.657099</td>\n",
              "      <td>-5.726357</td>\n",
              "      <td>52.597363</td>\n",
              "      <td>15247300.0</td>\n",
              "      <td>70.668146</td>\n",
              "      <td>NaN</td>\n",
              "    </tr>\n",
              "    <tr>\n",
              "      <th>2004-08-25</th>\n",
              "      <td>3.886792</td>\n",
              "      <td>1.183658</td>\n",
              "      <td>53.164113</td>\n",
              "      <td>9188600.0</td>\n",
              "      <td>71.219849</td>\n",
              "      <td>NaN</td>\n",
              "    </tr>\n",
              "    <tr>\n",
              "      <th>...</th>\n",
              "      <td>...</td>\n",
              "      <td>...</td>\n",
              "      <td>...</td>\n",
              "      <td>...</td>\n",
              "      <td>...</td>\n",
              "      <td>...</td>\n",
              "    </tr>\n",
              "    <tr>\n",
              "      <th>2018-03-08</th>\n",
              "      <td>NaN</td>\n",
              "      <td>NaN</td>\n",
              "      <td>NaN</td>\n",
              "      <td>NaN</td>\n",
              "      <td>NaN</td>\n",
              "      <td>1113.798544</td>\n",
              "    </tr>\n",
              "    <tr>\n",
              "      <th>2018-03-09</th>\n",
              "      <td>NaN</td>\n",
              "      <td>NaN</td>\n",
              "      <td>NaN</td>\n",
              "      <td>NaN</td>\n",
              "      <td>NaN</td>\n",
              "      <td>1070.034183</td>\n",
              "    </tr>\n",
              "    <tr>\n",
              "      <th>2018-03-10</th>\n",
              "      <td>NaN</td>\n",
              "      <td>NaN</td>\n",
              "      <td>NaN</td>\n",
              "      <td>NaN</td>\n",
              "      <td>NaN</td>\n",
              "      <td>1043.011691</td>\n",
              "    </tr>\n",
              "    <tr>\n",
              "      <th>2018-03-11</th>\n",
              "      <td>NaN</td>\n",
              "      <td>NaN</td>\n",
              "      <td>NaN</td>\n",
              "      <td>NaN</td>\n",
              "      <td>NaN</td>\n",
              "      <td>1071.219107</td>\n",
              "    </tr>\n",
              "    <tr>\n",
              "      <th>2018-03-12</th>\n",
              "      <td>NaN</td>\n",
              "      <td>NaN</td>\n",
              "      <td>NaN</td>\n",
              "      <td>NaN</td>\n",
              "      <td>NaN</td>\n",
              "      <td>1019.930864</td>\n",
              "    </tr>\n",
              "  </tbody>\n",
              "</table>\n",
              "<p>3424 rows × 6 columns</p>\n",
              "</div>\n",
              "      <button class=\"colab-df-convert\" onclick=\"convertToInteractive('df-0220e6d4-10fe-4a1d-8fc3-a55001cd5fb6')\"\n",
              "              title=\"Convert this dataframe to an interactive table.\"\n",
              "              style=\"display:none;\">\n",
              "        \n",
              "  <svg xmlns=\"http://www.w3.org/2000/svg\" height=\"24px\"viewBox=\"0 0 24 24\"\n",
              "       width=\"24px\">\n",
              "    <path d=\"M0 0h24v24H0V0z\" fill=\"none\"/>\n",
              "    <path d=\"M18.56 5.44l.94 2.06.94-2.06 2.06-.94-2.06-.94-.94-2.06-.94 2.06-2.06.94zm-11 1L8.5 8.5l.94-2.06 2.06-.94-2.06-.94L8.5 2.5l-.94 2.06-2.06.94zm10 10l.94 2.06.94-2.06 2.06-.94-2.06-.94-.94-2.06-.94 2.06-2.06.94z\"/><path d=\"M17.41 7.96l-1.37-1.37c-.4-.4-.92-.59-1.43-.59-.52 0-1.04.2-1.43.59L10.3 9.45l-7.72 7.72c-.78.78-.78 2.05 0 2.83L4 21.41c.39.39.9.59 1.41.59.51 0 1.02-.2 1.41-.59l7.78-7.78 2.81-2.81c.8-.78.8-2.07 0-2.86zM5.41 20L4 18.59l7.72-7.72 1.47 1.35L5.41 20z\"/>\n",
              "  </svg>\n",
              "      </button>\n",
              "      \n",
              "  <style>\n",
              "    .colab-df-container {\n",
              "      display:flex;\n",
              "      flex-wrap:wrap;\n",
              "      gap: 12px;\n",
              "    }\n",
              "\n",
              "    .colab-df-convert {\n",
              "      background-color: #E8F0FE;\n",
              "      border: none;\n",
              "      border-radius: 50%;\n",
              "      cursor: pointer;\n",
              "      display: none;\n",
              "      fill: #1967D2;\n",
              "      height: 32px;\n",
              "      padding: 0 0 0 0;\n",
              "      width: 32px;\n",
              "    }\n",
              "\n",
              "    .colab-df-convert:hover {\n",
              "      background-color: #E2EBFA;\n",
              "      box-shadow: 0px 1px 2px rgba(60, 64, 67, 0.3), 0px 1px 3px 1px rgba(60, 64, 67, 0.15);\n",
              "      fill: #174EA6;\n",
              "    }\n",
              "\n",
              "    [theme=dark] .colab-df-convert {\n",
              "      background-color: #3B4455;\n",
              "      fill: #D2E3FC;\n",
              "    }\n",
              "\n",
              "    [theme=dark] .colab-df-convert:hover {\n",
              "      background-color: #434B5C;\n",
              "      box-shadow: 0px 1px 3px 1px rgba(0, 0, 0, 0.15);\n",
              "      filter: drop-shadow(0px 1px 2px rgba(0, 0, 0, 0.3));\n",
              "      fill: #FFFFFF;\n",
              "    }\n",
              "  </style>\n",
              "\n",
              "      <script>\n",
              "        const buttonEl =\n",
              "          document.querySelector('#df-0220e6d4-10fe-4a1d-8fc3-a55001cd5fb6 button.colab-df-convert');\n",
              "        buttonEl.style.display =\n",
              "          google.colab.kernel.accessAllowed ? 'block' : 'none';\n",
              "\n",
              "        async function convertToInteractive(key) {\n",
              "          const element = document.querySelector('#df-0220e6d4-10fe-4a1d-8fc3-a55001cd5fb6');\n",
              "          const dataTable =\n",
              "            await google.colab.kernel.invokeFunction('convertToInteractive',\n",
              "                                                     [key], {});\n",
              "          if (!dataTable) return;\n",
              "\n",
              "          const docLinkHtml = 'Like what you see? Visit the ' +\n",
              "            '<a target=\"_blank\" href=https://colab.research.google.com/notebooks/data_table.ipynb>data table notebook</a>'\n",
              "            + ' to learn more about interactive tables.';\n",
              "          element.innerHTML = '';\n",
              "          dataTable['output_type'] = 'display_data';\n",
              "          await google.colab.output.renderOutput(dataTable, element);\n",
              "          const docLink = document.createElement('div');\n",
              "          docLink.innerHTML = docLinkHtml;\n",
              "          element.appendChild(docLink);\n",
              "        }\n",
              "      </script>\n",
              "    </div>\n",
              "  </div>\n",
              "  "
            ],
            "text/plain": [
              "              HL_PCT  PCT_change  ...      label     forecast\n",
              "Date                              ...                        \n",
              "2004-08-19  8.072956    0.324968  ...  69.078238          NaN\n",
              "2004-08-20  7.921706    7.227007  ...  67.839414          NaN\n",
              "2004-08-23  4.049360   -1.227880  ...  68.912727          NaN\n",
              "2004-08-24  7.657099   -5.726357  ...  70.668146          NaN\n",
              "2004-08-25  3.886792    1.183658  ...  71.219849          NaN\n",
              "...              ...         ...  ...        ...          ...\n",
              "2018-03-08       NaN         NaN  ...        NaN  1113.798544\n",
              "2018-03-09       NaN         NaN  ...        NaN  1070.034183\n",
              "2018-03-10       NaN         NaN  ...        NaN  1043.011691\n",
              "2018-03-11       NaN         NaN  ...        NaN  1071.219107\n",
              "2018-03-12       NaN         NaN  ...        NaN  1019.930864\n",
              "\n",
              "[3424 rows x 6 columns]"
            ]
          },
          "metadata": {},
          "execution_count": 43
        }
      ]
    },
    {
      "cell_type": "markdown",
      "metadata": {
        "id": "H_EecpNhAI5k"
      },
      "source": [
        "## Plotando"
      ]
    },
    {
      "cell_type": "code",
      "metadata": {
        "id": "NmWndvTNG6qK",
        "colab": {
          "base_uri": "https://localhost:8080/",
          "height": 592
        },
        "outputId": "98d1d6a0-02dd-46ab-c45a-e5bc7c36fa25"
      },
      "source": [
        "plt.figure(figsize=(9,10))\n",
        "plt.plot(df[['Adj. Close','forecast']])\n",
        "plt.legend((df[['Adj. Close','forecast']]),fontsize=14, loc=4);"
      ],
      "execution_count": 73,
      "outputs": [
        {
          "output_type": "display_data",
          "data": {
            "image/png": "[encoded data removed]",
            "text/plain": [
              "<Figure size 648x720 with 1 Axes>"
            ]
          },
          "metadata": {}
        }
      ]
    }
  ]
}